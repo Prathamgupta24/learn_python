{
 "cells": [
  {
   "attachments": {
    "image.png": {
     "image/png": "[encoded data removed]"
    }
   },
   "cell_type": "markdown",
   "id": "a54c52aa",
   "metadata": {},
   "source": [
    "# Containers\n",
    "\n",
    "1. List\n",
    "2. Tuple\n",
    "3. Set\n",
    "4. Dictionary\n",
    "\n",
    "# 1. List\n",
    "\n",
    "If we want to represent a group of individual objects as a single entity where insertion order preserved and duplicates are allowed, then we should go for List.\n",
    "\n",
    "insertion order preserved.\n",
    "\n",
    "duplicate objects are allowed\n",
    "\n",
    "heterogeneous objects are allowed.\n",
    "\n",
    "List is dynamic because based on our requirement we can increase the size and decrease the size.\n",
    "\n",
    "In List the elements will be placed within square brackets and with comma seperator.\n",
    "\n",
    "We can differentiate duplicate elements by using index and we can preserve insertion order by using index. Hence index will play very important role.\n",
    "\n",
    "Python supports both positive and negative indexes. +ve index means from left to right where as negative index means right to left\n",
    "\n",
    "[10,\"A\",\"B\",20, 30, 10]\n",
    "\n",
    "![image.png](attachment:image.png)\n",
    "\n",
    "List objects are mutable.i.e we can change the content.\n",
    "\n",
    "Creation of List Objects:\n",
    "\n",
    "1. We can create empty list object as follows..."
   ]
  },
  {
   "cell_type": "code",
   "execution_count": null,
   "id": "c15da85f",
   "metadata": {},
   "outputs": [],
   "source": [
    "list=[]\n",
    "print(list)\n",
    "print(type(list))"
   ]
  },
  {
   "cell_type": "markdown",
   "id": "96bd82e6",
   "metadata": {},
   "source": [
    "2. If we know elements already then we can create list as follows\n",
    "\n",
    "list=[10,20,30,40]\n",
    "\n",
    "3. With dynamic input:"
   ]
  },
  {
   "cell_type": "code",
   "execution_count": null,
   "id": "a714cc06",
   "metadata": {},
   "outputs": [],
   "source": [
    "list1=eval(input(\"Enter List:\"))\n",
    "print(list1)\n",
    "print(type(list1))"
   ]
  },
  {
   "cell_type": "markdown",
   "id": "0448d857",
   "metadata": {},
   "source": [
    "4. With list() function:"
   ]
  },
  {
   "cell_type": "code",
   "execution_count": 1,
   "id": "fc33d145",
   "metadata": {},
   "outputs": [
    {
     "name": "stdout",
     "output_type": "stream",
     "text": [
      "[0, 2, 4, 6, 8]\n",
      "<class 'list'>\n"
     ]
    }
   ],
   "source": [
    "l=list(range(0,10,2))\n",
    "print(l)\n",
    "print(type(l))"
   ]
  },
  {
   "cell_type": "code",
   "execution_count": 2,
   "id": "b70a0733",
   "metadata": {},
   "outputs": [
    {
     "name": "stdout",
     "output_type": "stream",
     "text": [
      "['v', 'i', 's', 'h', 'a', 'l']\n"
     ]
    }
   ],
   "source": [
    "s=\"vishal\"\n",
    "l=list(s)\n",
    "print(l)"
   ]
  },
  {
   "cell_type": "markdown",
   "id": "bed3f85b",
   "metadata": {},
   "source": [
    "5. with split() function:"
   ]
  },
  {
   "cell_type": "code",
   "execution_count": 3,
   "id": "18a9f1f2",
   "metadata": {},
   "outputs": [
    {
     "name": "stdout",
     "output_type": "stream",
     "text": [
      "['Learning', 'Python', 'is', 'very', 'very', 'easy', '!!!']\n",
      "<class 'list'>\n"
     ]
    }
   ],
   "source": [
    "s=\"Learning Python is very very easy !!!\"\n",
    "l=s.split()\n",
    "print(l)\n",
    "print(type(l))"
   ]
  },
  {
   "cell_type": "markdown",
   "id": "2deeadbe",
   "metadata": {},
   "source": [
    "Note:\n",
    "Sometimes we can take list inside another list,such type of lists are called nested lists.\n",
    "\n",
    "[10,20,[30,40]]"
   ]
  },
  {
   "attachments": {
    "image.png": {
     "image/png": "[encoded data removed]"
    }
   },
   "cell_type": "markdown",
   "id": "8f103f6d",
   "metadata": {},
   "source": [
    "# Accessing elements of List:\n",
    "\n",
    "We can access elements of the list either by using index or by using slice operator(:)\n",
    "\n",
    "1. By using index:\n",
    "\n",
    "List follows zero based index. ie index of first element is zero.\n",
    "\n",
    "List supports both +ve and -ve indexes.\n",
    "\n",
    "+ve index meant for Left to Right\n",
    "\n",
    "-ve index meant for Right to Left\n",
    "\n",
    "list=[10,20,30,40]\n",
    "\n",
    "![image.png](attachment:image.png)\n",
    "\n",
    "print(list[0]) ==>10\n",
    "\n",
    "print(list[-1]) ==>40\n",
    "\n",
    "print(list[10]) ==>IndexError: list index out of range\n",
    "\n",
    "2. By using slice operator:\n",
    "\n",
    "Syntax:\n",
    "\n",
    "list2= list1[start:stop:step]\n",
    "\n",
    "start ==>it indicates the index where slice has to start\n",
    "\n",
    "default value is 0\n",
    "\n",
    "stop ===>It indicates the index where slice has to end\n",
    "\n",
    "default value is max allowed index of list ie length of the list\n",
    "\n",
    "step ==>increment value\n",
    "\n",
    "default value is 1"
   ]
  },
  {
   "cell_type": "code",
   "execution_count": 1,
   "id": "ad02e567",
   "metadata": {},
   "outputs": [
    {
     "name": "stdout",
     "output_type": "stream",
     "text": [
      "[3, 5, 7]\n",
      "[5, 7, 9]\n",
      "[4, 5, 6, 7]\n",
      "[9, 7, 5]\n",
      "[5, 6, 7, 8, 9, 10]\n"
     ]
    }
   ],
   "source": [
    "n=[1,2,3,4,5,6,7,8,9,10]\n",
    "print(n[2:7:2])\n",
    "print(n[4::2])\n",
    "print(n[3:7])\n",
    "print(n[8:2:-2])\n",
    "print(n[4:100])"
   ]
  },
  {
   "cell_type": "markdown",
   "id": "a6506aaa",
   "metadata": {},
   "source": [
    "# List vs mutability:\n",
    "\n",
    "Once we creates a List object,we can modify its content. Hence List objects are mutable."
   ]
  },
  {
   "cell_type": "code",
   "execution_count": 2,
   "id": "6544612c",
   "metadata": {},
   "outputs": [
    {
     "name": "stdout",
     "output_type": "stream",
     "text": [
      "[10, 20, 30, 40]\n",
      "[10, 777, 30, 40]\n"
     ]
    }
   ],
   "source": [
    "n=[10,20,30,40]\n",
    "print(n)\n",
    "n[1]=777\n",
    "print(n)"
   ]
  },
  {
   "cell_type": "markdown",
   "id": "f2c2508c",
   "metadata": {},
   "source": [
    "# Traversing the elements of List:\n",
    "\n",
    "The sequential access of each element in the list is called traversal.\n",
    "\n",
    "1. By using while loop:"
   ]
  },
  {
   "cell_type": "code",
   "execution_count": 3,
   "id": "e831017d",
   "metadata": {},
   "outputs": [
    {
     "name": "stdout",
     "output_type": "stream",
     "text": [
      "0\n",
      "1\n",
      "2\n",
      "3\n",
      "4\n",
      "5\n",
      "6\n",
      "7\n",
      "8\n",
      "9\n",
      "10\n"
     ]
    }
   ],
   "source": [
    "n=[0,1,2,3,4,5,6,7,8,9,10]\n",
    "i=0\n",
    "while i<len(n):\n",
    "    print(n[i])\n",
    "    i=i+1"
   ]
  },
  {
   "cell_type": "markdown",
   "id": "96ac1e14",
   "metadata": {},
   "source": [
    "2. By using for loop"
   ]
  },
  {
   "cell_type": "code",
   "execution_count": 5,
   "id": "50a57ded",
   "metadata": {},
   "outputs": [
    {
     "name": "stdout",
     "output_type": "stream",
     "text": [
      "0\n",
      "1\n",
      "2\n",
      "3\n",
      "4\n",
      "5\n",
      "6\n",
      "7\n",
      "8\n",
      "9\n",
      "10\n"
     ]
    }
   ],
   "source": [
    "n=[0,1,2,3,4,5,6,7,8,9,10]\n",
    "for n1 in n:\n",
    "    print(n1)"
   ]
  },
  {
   "cell_type": "markdown",
   "id": "23c00d14",
   "metadata": {},
   "source": [
    "# Important functions of List:\n",
    "\n",
    "I. To get information about list:\n",
    "\n",
    "1. len():\n",
    "\n",
    "returns the number of elements present in the list"
   ]
  },
  {
   "cell_type": "code",
   "execution_count": 6,
   "id": "6bbaefc2",
   "metadata": {},
   "outputs": [
    {
     "name": "stdout",
     "output_type": "stream",
     "text": [
      "4\n"
     ]
    }
   ],
   "source": [
    "n=[10,20,30,40]\n",
    "print(len(n))"
   ]
  },
  {
   "cell_type": "markdown",
   "id": "6be1211a",
   "metadata": {},
   "source": [
    "2. count():\n",
    "\n",
    "It returns the number of occurrences of specified item in the list"
   ]
  },
  {
   "cell_type": "code",
   "execution_count": 7,
   "id": "212b1e7c",
   "metadata": {},
   "outputs": [
    {
     "name": "stdout",
     "output_type": "stream",
     "text": [
      "1\n",
      "4\n",
      "2\n",
      "0\n"
     ]
    }
   ],
   "source": [
    "n=[1,2,2,2,2,3,3]\n",
    "print(n.count(1))\n",
    "print(n.count(2))\n",
    "print(n.count(3))\n",
    "print(n.count(4))"
   ]
  },
  {
   "cell_type": "markdown",
   "id": "1a852a75",
   "metadata": {},
   "source": [
    "3. index() function:\n",
    "\n",
    "returns the index of first occurrence of the specified item."
   ]
  },
  {
   "cell_type": "code",
   "execution_count": 10,
   "id": "895e75de",
   "metadata": {},
   "outputs": [
    {
     "name": "stdout",
     "output_type": "stream",
     "text": [
      "0\n",
      "1\n",
      "5\n"
     ]
    }
   ],
   "source": [
    "n=[1,2,2,2,2,3,3]\n",
    "print(n.index(1)) \n",
    "print(n.index(2)) \n",
    "print(n.index(3)) \n",
    "#print(n.index(4))"
   ]
  },
  {
   "cell_type": "markdown",
   "id": "60484e88",
   "metadata": {},
   "source": [
    "Note: \n",
    "\n",
    "If the specified element not present in the list then we will get ValueError.Hence before index() method we have to check whether item present in the list or not by using in operator.\n",
    "\n",
    "print( 4 in n)==>False\n",
    "\n",
    "II. Manipulating elements of List:\n",
    "\n",
    "1. append() function:\n",
    "\n",
    "We can use append() function to add item at the end of the list."
   ]
  },
  {
   "cell_type": "code",
   "execution_count": 11,
   "id": "a2d3c5aa",
   "metadata": {},
   "outputs": [
    {
     "name": "stdout",
     "output_type": "stream",
     "text": [
      "['A', 'B', 'C']\n"
     ]
    }
   ],
   "source": [
    "list=[]\n",
    "list.append(\"A\")\n",
    "list.append(\"B\")\n",
    "list.append(\"C\")\n",
    "print(list)"
   ]
  },
  {
   "cell_type": "code",
   "execution_count": 12,
   "id": "2e7e7f9b",
   "metadata": {},
   "outputs": [
    {
     "name": "stdout",
     "output_type": "stream",
     "text": [
      "[0, 10, 20, 30, 40, 50, 60, 70, 80, 90, 100]\n"
     ]
    }
   ],
   "source": [
    "#To add all elements to list upto 100 which are divisible by 10\n",
    "list=[]\n",
    "for i in range(101):\n",
    "    if i%10==0:\n",
    "        list.append(i)\n",
    "print(list)"
   ]
  },
  {
   "cell_type": "markdown",
   "id": "c79586ed",
   "metadata": {},
   "source": [
    "2. insert() function:\n",
    "\n",
    "To insert item at specified index position"
   ]
  },
  {
   "cell_type": "code",
   "execution_count": 13,
   "id": "cd72a34e",
   "metadata": {},
   "outputs": [
    {
     "name": "stdout",
     "output_type": "stream",
     "text": [
      "[1, 888, 2, 3, 4, 5]\n"
     ]
    }
   ],
   "source": [
    "n=[1,2,3,4,5]\n",
    "n.insert(1,888)\n",
    "print(n)"
   ]
  },
  {
   "cell_type": "code",
   "execution_count": 4,
   "id": "44ce1016",
   "metadata": {},
   "outputs": [
    {
     "name": "stdout",
     "output_type": "stream",
     "text": [
      "[999, 1, 2, 3, 4, 5, 777]\n"
     ]
    }
   ],
   "source": [
    "n=[1,2,3,4,5]\n",
    "n.insert(10,777)\n",
    "n.insert(-10,999)\n",
    "print(n)"
   ]
  },
  {
   "attachments": {
    "image.png": {
     "image/png": "[encoded data removed]"
    }
   },
   "cell_type": "markdown",
   "id": "628e2704",
   "metadata": {},
   "source": [
    "Note: \n",
    "If the specified index is greater than max index then element will be inserted at last position. If the specified index is smaller than min index then element will be inserted at first position.\n",
    "\n",
    "Differences between append() and insert()\n",
    "\n",
    "![image.png](attachment:image.png)\n",
    "\n",
    "3. extend() function:\n",
    "\n",
    "To add all items of one list to another list\n",
    "\n",
    "l1.extend(l2)\n",
    "\n",
    "all items present in l2 will be added to l1"
   ]
  },
  {
   "cell_type": "code",
   "execution_count": 15,
   "id": "11dbfc6e",
   "metadata": {},
   "outputs": [
    {
     "name": "stdout",
     "output_type": "stream",
     "text": [
      "['Kachori', 'Burger', 'PavBhaji', 'Pizza', 'Samosa', 'Dhokla']\n"
     ]
    }
   ],
   "source": [
    "order1=[\"Kachori\",\"Burger\",\"PavBhaji\"]\n",
    "order2=[\"Pizza\",\"Samosa\",\"Dhokla\"]\n",
    "order1.extend(order2)\n",
    "print(order1)"
   ]
  },
  {
   "cell_type": "code",
   "execution_count": 16,
   "id": "e896e2bc",
   "metadata": {},
   "outputs": [
    {
     "name": "stdout",
     "output_type": "stream",
     "text": [
      "['Kachori', 'Burger', 'PavBhaji', 'P', 'i', 'z', 'z', 'a']\n"
     ]
    }
   ],
   "source": [
    "order=[\"Kachori\",\"Burger\",\"PavBhaji\"]\n",
    "order.extend(\"Pizza\")\n",
    "print(order)"
   ]
  },
  {
   "cell_type": "markdown",
   "id": "65118cc7",
   "metadata": {},
   "source": [
    "4. remove() function:\n",
    "\n",
    "We can use this function to remove specified item from the list.If the item present multiple times then only first occurrence will be removed"
   ]
  },
  {
   "cell_type": "code",
   "execution_count": 17,
   "id": "13ab3a66",
   "metadata": {},
   "outputs": [
    {
     "name": "stdout",
     "output_type": "stream",
     "text": [
      "[20, 10, 30]\n"
     ]
    }
   ],
   "source": [
    "n=[10,20,10,30]\n",
    "n.remove(10)\n",
    "print(n)"
   ]
  },
  {
   "cell_type": "markdown",
   "id": "1191e975",
   "metadata": {},
   "source": [
    "If the specified item not present in list then we will get ValueError"
   ]
  },
  {
   "cell_type": "code",
   "execution_count": 18,
   "id": "65054547",
   "metadata": {},
   "outputs": [
    {
     "ename": "ValueError",
     "evalue": "list.remove(x): x not in list",
     "output_type": "error",
     "traceback": [
      "\u001b[1;31m---------------------------------------------------------------------------\u001b[0m",
      "\u001b[1;31mValueError\u001b[0m                                Traceback (most recent call last)",
      "Input \u001b[1;32mIn [18]\u001b[0m, in \u001b[0;36m<cell line: 2>\u001b[1;34m()\u001b[0m\n\u001b[0;32m      1\u001b[0m n\u001b[38;5;241m=\u001b[39m[\u001b[38;5;241m10\u001b[39m,\u001b[38;5;241m20\u001b[39m,\u001b[38;5;241m10\u001b[39m,\u001b[38;5;241m30\u001b[39m]\n\u001b[1;32m----> 2\u001b[0m \u001b[43mn\u001b[49m\u001b[38;5;241;43m.\u001b[39;49m\u001b[43mremove\u001b[49m\u001b[43m(\u001b[49m\u001b[38;5;241;43m40\u001b[39;49m\u001b[43m)\u001b[49m\n\u001b[0;32m      3\u001b[0m \u001b[38;5;28mprint\u001b[39m(n)\n",
      "\u001b[1;31mValueError\u001b[0m: list.remove(x): x not in list"
     ]
    }
   ],
   "source": [
    "n=[10,20,10,30]\n",
    "n.remove(40)\n",
    "print(n)"
   ]
  },
  {
   "cell_type": "markdown",
   "id": "65795256",
   "metadata": {},
   "source": [
    "Note: Hence before using remove() method first we have to check specified element present in the list or not by using in operator.\n",
    "\n",
    "5. pop() function:\n",
    "\n",
    "It removes and returns the last element of the list.\n",
    "\n",
    "This is only function which manipulates list and returns some element."
   ]
  },
  {
   "cell_type": "code",
   "execution_count": 19,
   "id": "1dc6c538",
   "metadata": {},
   "outputs": [
    {
     "name": "stdout",
     "output_type": "stream",
     "text": [
      "40\n",
      "30\n",
      "[10, 20]\n"
     ]
    }
   ],
   "source": [
    "n=[10,20,30,40]\n",
    "print(n.pop())\n",
    "print(n.pop())\n",
    "print(n)"
   ]
  },
  {
   "cell_type": "markdown",
   "id": "ff238bd2",
   "metadata": {},
   "source": [
    "If the list is empty then pop() function raises IndexError"
   ]
  },
  {
   "cell_type": "code",
   "execution_count": 20,
   "id": "367fbdbc",
   "metadata": {},
   "outputs": [
    {
     "ename": "IndexError",
     "evalue": "pop from empty list",
     "output_type": "error",
     "traceback": [
      "\u001b[1;31m---------------------------------------------------------------------------\u001b[0m",
      "\u001b[1;31mIndexError\u001b[0m                                Traceback (most recent call last)",
      "Input \u001b[1;32mIn [20]\u001b[0m, in \u001b[0;36m<cell line: 2>\u001b[1;34m()\u001b[0m\n\u001b[0;32m      1\u001b[0m n\u001b[38;5;241m=\u001b[39m[]\n\u001b[1;32m----> 2\u001b[0m \u001b[38;5;28mprint\u001b[39m(\u001b[43mn\u001b[49m\u001b[38;5;241;43m.\u001b[39;49m\u001b[43mpop\u001b[49m\u001b[43m(\u001b[49m\u001b[43m)\u001b[49m)\n",
      "\u001b[1;31mIndexError\u001b[0m: pop from empty list"
     ]
    }
   ],
   "source": [
    "n=[]\n",
    "print(n.pop())"
   ]
  },
  {
   "cell_type": "markdown",
   "id": "4dbfe6a4",
   "metadata": {},
   "source": [
    "Note:\n",
    "\n",
    "1. pop() is the only function which manipulates the list and returns some value\n",
    "\n",
    "2. In general we can use append() and pop() functions to implement stack datastructure by using list,which follows LIFO(Last In First Out) order.\n",
    "\n",
    "In general we can use pop() function to remove last element of the list. But we can use to\n",
    "remove elements based on index.\n",
    "\n",
    "n.pop(index)===>To remove and return element present at specified index.\n",
    "\n",
    "n.pop()==>To remove and return last element of the list\n"
   ]
  },
  {
   "cell_type": "code",
   "execution_count": null,
   "id": "da6c46a5",
   "metadata": {},
   "outputs": [],
   "source": [
    "n=[10,20,30,40,50,60]\n",
    "print(n.pop()) #60\n",
    "print(n.pop(1)) #20\n",
    "#print(n.pop(10)) ==>IndexError: pop index out of rang"
   ]
  },
  {
   "attachments": {
    "image.png": {
     "image/png": "[encoded data removed]"
    }
   },
   "cell_type": "markdown",
   "id": "952cf444",
   "metadata": {},
   "source": [
    "Differences between remove() and pop()\n",
    "\n",
    "![image.png](attachment:image.png)\n",
    "\n",
    "Note:\n",
    "\n",
    "List objects are dynamic. i.e based on our requirement we can increase and decrease the size.\n",
    "\n",
    "append(),insert() ,extend() ===>for increasing the size/growable nature\n",
    "\n",
    "remove(), pop() ======>for decreasing the size /shrinking nature\n",
    "\n",
    "III. Ordering elements of List:\n",
    "\n",
    "1. reverse():\n",
    "\n",
    "We can use to reverse() order of elements of list."
   ]
  },
  {
   "cell_type": "code",
   "execution_count": 21,
   "id": "3c00de7f",
   "metadata": {},
   "outputs": [
    {
     "name": "stdout",
     "output_type": "stream",
     "text": [
      "[40, 30, 20, 10]\n"
     ]
    }
   ],
   "source": [
    "n=[10,20,30,40]\n",
    "n.reverse()\n",
    "print(n)"
   ]
  },
  {
   "cell_type": "markdown",
   "id": "c3d50595",
   "metadata": {},
   "source": [
    "2. sort() function:\n",
    "\n",
    "In list by default insertion order is preserved. If want to sort the elements of list according to default natural sorting order then we should go for sort() method.\n",
    "\n",
    "For numbers ==>default natural sorting order is Ascending Order\n",
    "\n",
    "For Strings ==> default natural sorting order is Alphabetical Order"
   ]
  },
  {
   "cell_type": "code",
   "execution_count": 22,
   "id": "ead12b3f",
   "metadata": {},
   "outputs": [
    {
     "name": "stdout",
     "output_type": "stream",
     "text": [
      "[0, 5, 10, 15, 20]\n",
      "['Apple', 'Banana', 'Cat', 'Dog']\n"
     ]
    }
   ],
   "source": [
    "n=[20,5,15,10,0]\n",
    "n.sort()\n",
    "print(n) #[0,5,10,15,20]\n",
    "s=[\"Dog\",\"Banana\",\"Cat\",\"Apple\"]\n",
    "s.sort()\n",
    "print(s) #['Apple','Banana','Cat','Dog']"
   ]
  },
  {
   "cell_type": "markdown",
   "id": "c474fce9",
   "metadata": {},
   "source": [
    "Note: \n",
    "\n",
    "To use sort() function, compulsory list should contain only homogeneous elements.\n",
    "\n",
    "otherwise we will get TypeError"
   ]
  },
  {
   "cell_type": "code",
   "execution_count": 23,
   "id": "e4a03aca",
   "metadata": {},
   "outputs": [
    {
     "ename": "TypeError",
     "evalue": "'<' not supported between instances of 'str' and 'int'",
     "output_type": "error",
     "traceback": [
      "\u001b[1;31m---------------------------------------------------------------------------\u001b[0m",
      "\u001b[1;31mTypeError\u001b[0m                                 Traceback (most recent call last)",
      "Input \u001b[1;32mIn [23]\u001b[0m, in \u001b[0;36m<cell line: 2>\u001b[1;34m()\u001b[0m\n\u001b[0;32m      1\u001b[0m n\u001b[38;5;241m=\u001b[39m[\u001b[38;5;241m20\u001b[39m,\u001b[38;5;241m10\u001b[39m,\u001b[38;5;124m\"\u001b[39m\u001b[38;5;124mA\u001b[39m\u001b[38;5;124m\"\u001b[39m,\u001b[38;5;124m\"\u001b[39m\u001b[38;5;124mB\u001b[39m\u001b[38;5;124m\"\u001b[39m]\n\u001b[1;32m----> 2\u001b[0m \u001b[43mn\u001b[49m\u001b[38;5;241;43m.\u001b[39;49m\u001b[43msort\u001b[49m\u001b[43m(\u001b[49m\u001b[43m)\u001b[49m\n\u001b[0;32m      3\u001b[0m \u001b[38;5;28mprint\u001b[39m(n)\n",
      "\u001b[1;31mTypeError\u001b[0m: '<' not supported between instances of 'str' and 'int'"
     ]
    }
   ],
   "source": [
    "n=[20,10,\"A\",\"B\"]\n",
    "n.sort()\n",
    "print(n)"
   ]
  },
  {
   "cell_type": "markdown",
   "id": "dd04773e",
   "metadata": {},
   "source": [
    "Note: \n",
    "\n",
    "In Python 2 if List contains both numbers and Strings then sort() function first sort numbers followed by strings"
   ]
  },
  {
   "cell_type": "code",
   "execution_count": 24,
   "id": "caa73976",
   "metadata": {},
   "outputs": [
    {
     "ename": "TypeError",
     "evalue": "'<' not supported between instances of 'str' and 'int'",
     "output_type": "error",
     "traceback": [
      "\u001b[1;31m---------------------------------------------------------------------------\u001b[0m",
      "\u001b[1;31mTypeError\u001b[0m                                 Traceback (most recent call last)",
      "Input \u001b[1;32mIn [24]\u001b[0m, in \u001b[0;36m<cell line: 2>\u001b[1;34m()\u001b[0m\n\u001b[0;32m      1\u001b[0m n\u001b[38;5;241m=\u001b[39m[\u001b[38;5;241m20\u001b[39m,\u001b[38;5;124m\"\u001b[39m\u001b[38;5;124mB\u001b[39m\u001b[38;5;124m\"\u001b[39m,\u001b[38;5;241m10\u001b[39m,\u001b[38;5;124m\"\u001b[39m\u001b[38;5;124mA\u001b[39m\u001b[38;5;124m\"\u001b[39m]\n\u001b[1;32m----> 2\u001b[0m \u001b[43mn\u001b[49m\u001b[38;5;241;43m.\u001b[39;49m\u001b[43msort\u001b[49m\u001b[43m(\u001b[49m\u001b[43m)\u001b[49m\n\u001b[0;32m      3\u001b[0m \u001b[38;5;28mprint\u001b[39m(n)\n",
      "\u001b[1;31mTypeError\u001b[0m: '<' not supported between instances of 'str' and 'int'"
     ]
    }
   ],
   "source": [
    "n=[20,\"B\",10,\"A\"]\n",
    "n.sort()\n",
    "print(n)# [10,20,'A','B']"
   ]
  },
  {
   "cell_type": "markdown",
   "id": "e8b734e6",
   "metadata": {},
   "source": [
    "But in Python 3 it is invalid.\n",
    "\n",
    "To sort in reverse of default natural sorting order:\n",
    "\n",
    "We can sort according to reverse of default natural sorting order by using reverse=True argument."
   ]
  },
  {
   "cell_type": "code",
   "execution_count": 25,
   "id": "f87a4d57",
   "metadata": {},
   "outputs": [
    {
     "name": "stdout",
     "output_type": "stream",
     "text": [
      "[10, 20, 30, 40]\n",
      "[40, 30, 20, 10]\n",
      "[10, 20, 30, 40]\n"
     ]
    }
   ],
   "source": [
    "n=[40,10,30,20]\n",
    "n.sort()\n",
    "print(n)\n",
    "n.sort(reverse=True)\n",
    "print(n)\n",
    "n.sort(reverse=False)\n",
    "print(n)"
   ]
  },
  {
   "cell_type": "markdown",
   "id": "b66a793d",
   "metadata": {},
   "source": [
    "Aliasing and Cloning of List objects:\n",
    "\n",
    "The process of giving another reference variable to the existing list is called aliasing"
   ]
  },
  {
   "cell_type": "code",
   "execution_count": 26,
   "id": "8986725d",
   "metadata": {},
   "outputs": [
    {
     "name": "stdout",
     "output_type": "stream",
     "text": [
      "2019609480896\n",
      "2019609480896\n"
     ]
    }
   ],
   "source": [
    "x=[10,20,30,40]\n",
    "y=x\n",
    "print(id(x))\n",
    "print(id(y))"
   ]
  },
  {
   "attachments": {
    "image.png": {
     "image/png": "[encoded data removed]"
    }
   },
   "cell_type": "markdown",
   "id": "af02ccf9",
   "metadata": {},
   "source": [
    "![image.png](attachment:image.png)\n",
    "\n",
    "The problem in this approach is by using one reference variable if we are changing content,then those changes will be reflected to the other reference variable"
   ]
  },
  {
   "cell_type": "code",
   "execution_count": 27,
   "id": "9ca301eb",
   "metadata": {},
   "outputs": [
    {
     "name": "stdout",
     "output_type": "stream",
     "text": [
      "[10, 777, 30, 40]\n"
     ]
    }
   ],
   "source": [
    "x=[10,20,30,40]\n",
    "y=x\n",
    "y[1]=777\n",
    "print(x)"
   ]
  },
  {
   "attachments": {
    "image.png": {
     "image/png": "[encoded data removed]"
    }
   },
   "cell_type": "markdown",
   "id": "e5dde9d9",
   "metadata": {},
   "source": [
    "![image.png](attachment:image.png)\n",
    "\n",
    "To overcome this problem we should go for cloning.\n",
    "\n",
    "The process of creating exactly duplicate independent object is called cloning.\n",
    "\n",
    "We can implement cloning by using slice operator or by using copy() function\n",
    "\n",
    "1. By using slice operator:"
   ]
  },
  {
   "cell_type": "code",
   "execution_count": 28,
   "id": "786d2f18",
   "metadata": {},
   "outputs": [
    {
     "name": "stdout",
     "output_type": "stream",
     "text": [
      "[10, 20, 30, 40]\n",
      "[10, 777, 30, 40]\n"
     ]
    }
   ],
   "source": [
    "x=[10,20,30,40]\n",
    "y=x[:]\n",
    "y[1]=777\n",
    "print(x) #[10,20,30,40]\n",
    "print(y) #[10,777,30,40]"
   ]
  },
  {
   "attachments": {
    "image.png": {
     "image/png": "[encoded data removed]"
    }
   },
   "cell_type": "markdown",
   "id": "8ef887cb",
   "metadata": {},
   "source": [
    "![image.png](attachment:image.png)\n",
    "\n",
    "2. By using copy() function:"
   ]
  },
  {
   "cell_type": "code",
   "execution_count": 29,
   "id": "ce9a10eb",
   "metadata": {},
   "outputs": [
    {
     "name": "stdout",
     "output_type": "stream",
     "text": [
      "[10, 20, 30, 40]\n",
      "[10, 777, 30, 40]\n"
     ]
    }
   ],
   "source": [
    "x=[10,20,30,40]\n",
    "y=x.copy()\n",
    "y[1]=777\n",
    "print(x) #[10,20,30,40]\n",
    "print(y) #[10,777,30,40]"
   ]
  },
  {
   "attachments": {
    "image.png": {
     "image/png": "[encoded data removed]"
    }
   },
   "cell_type": "markdown",
   "id": "f9ae4853",
   "metadata": {},
   "source": [
    "![image.png](attachment:image.png)\n",
    "\n",
    "Q. Difference between = operator and copy() function\n",
    "\n",
    "= operator meant for aliasing\n",
    "\n",
    "copy() function meant for cloning\n",
    "\n",
    "Using Mathematical operators for List Objects:\n",
    "\n",
    "We can use + and * operators for List objects.\n",
    "\n",
    "1. Concatenation operator(+):\n",
    "\n",
    "We can use + to concatenate 2 lists into a single list"
   ]
  },
  {
   "cell_type": "code",
   "execution_count": null,
   "id": "21bbc932",
   "metadata": {},
   "outputs": [],
   "source": [
    "a=[10,20,30]\n",
    "b=[40,50,60]\n",
    "c=a+b\n",
    "print(c)  #[10,20,30,40,50,60]"
   ]
  },
  {
   "cell_type": "markdown",
   "id": "c91c69ff",
   "metadata": {},
   "source": [
    "Note: \n",
    "\n",
    "To use + operator compulsory both arguments should be list objects,otherwise we will get TypeError.\n",
    "\n",
    "Eg:\n",
    "\n",
    "c=a+40 ==>TypeError: can only concatenate list (not \"int\") to list\n",
    "\n",
    "c=a+[40] ==>valid\n",
    "\n",
    "2. Repetition Operator(*):\n",
    "\n",
    "We can use repetition operator * to repeat elements of list specified number of times"
   ]
  },
  {
   "cell_type": "code",
   "execution_count": null,
   "id": "299b6039",
   "metadata": {},
   "outputs": [],
   "source": [
    "x=[10,20,30]\n",
    "y=x*3\n",
    "print(y) #[10,20,30,10,20,30,10,20,30]"
   ]
  },
  {
   "cell_type": "markdown",
   "id": "9d9d4e80",
   "metadata": {},
   "source": [
    "Comparing List objects\n",
    "\n",
    "We can use comparison operators for List objects."
   ]
  },
  {
   "cell_type": "code",
   "execution_count": 30,
   "id": "ab670279",
   "metadata": {},
   "outputs": [
    {
     "name": "stdout",
     "output_type": "stream",
     "text": [
      "True\n",
      "False\n",
      "True\n"
     ]
    }
   ],
   "source": [
    "x=[\"Dog\",\"Cat\",\"Rat\"]\n",
    "y=[\"Dog\",\"Cat\",\"Rat\"]\n",
    "z=[\"DOG\",\"CAT\",\"RAT\"]\n",
    "print(x==y) #True\n",
    "print(x==z) #False\n",
    "print(x != z) #True"
   ]
  },
  {
   "cell_type": "markdown",
   "id": "7b433233",
   "metadata": {},
   "source": [
    "Note:\n",
    "\n",
    "Whenever we are using comparison operators(==,!=) for List objects then the following should be considered\n",
    "\n",
    "1. The number of elements\n",
    "\n",
    "2. The order of elements\n",
    "\n",
    "3. The content of elements (case sensitive)\n",
    "\n",
    "Note: When ever we are using relatational operators(<,<=,>,>=) between List objects,only first element comparison will be performed."
   ]
  },
  {
   "cell_type": "code",
   "execution_count": 31,
   "id": "e0dd2cd8",
   "metadata": {},
   "outputs": [
    {
     "name": "stdout",
     "output_type": "stream",
     "text": [
      "True\n",
      "True\n",
      "False\n",
      "False\n"
     ]
    }
   ],
   "source": [
    "x=[50,20,30]\n",
    "y=[40,50,60,100,200]\n",
    "print(x>y) #True\n",
    "print(x>=y) #True\n",
    "print(x<y) #False\n",
    "print(x<=y) #False"
   ]
  },
  {
   "cell_type": "code",
   "execution_count": 32,
   "id": "be9ba4ff",
   "metadata": {},
   "outputs": [
    {
     "name": "stdout",
     "output_type": "stream",
     "text": [
      "False\n",
      "False\n",
      "True\n",
      "True\n"
     ]
    }
   ],
   "source": [
    "x=[\"Dog\",\"Cat\",\"Rat\"]\n",
    "y=[\"Rat\",\"Cat\",\"Dog\"]\n",
    "print(x>y) #False\n",
    "print(x>=y) #False\n",
    "print(x<y) #True\n",
    "print(x<=y) #True"
   ]
  },
  {
   "cell_type": "markdown",
   "id": "32d72765",
   "metadata": {},
   "source": [
    "Membership operators:\n",
    "\n",
    "We can check whether element is a member of the list or not by using memebership operators.\n",
    "\n",
    "in operator\n",
    "\n",
    "not in operator"
   ]
  },
  {
   "cell_type": "code",
   "execution_count": 33,
   "id": "4209a36e",
   "metadata": {},
   "outputs": [
    {
     "name": "stdout",
     "output_type": "stream",
     "text": [
      "True\n",
      "False\n",
      "False\n",
      "True\n"
     ]
    }
   ],
   "source": [
    "n=[10,20,30,40]\n",
    "print (10 in n)\n",
    "print (10 not in n)\n",
    "print (50 in n)\n",
    "print (50 not in n)"
   ]
  },
  {
   "cell_type": "markdown",
   "id": "2616c9d2",
   "metadata": {},
   "source": [
    "clear() function:\n",
    "    \n",
    "We can use clear() function to remove all elements of List."
   ]
  },
  {
   "cell_type": "code",
   "execution_count": 34,
   "id": "7c5eb8dd",
   "metadata": {},
   "outputs": [
    {
     "name": "stdout",
     "output_type": "stream",
     "text": [
      "[10, 20, 30, 40]\n",
      "[]\n"
     ]
    }
   ],
   "source": [
    "n=[10,20,30,40]\n",
    "print(n)\n",
    "n.clear()\n",
    "print(n)"
   ]
  },
  {
   "cell_type": "markdown",
   "id": "bcfb78ac",
   "metadata": {},
   "source": [
    "Nested Lists:\n",
    "\n",
    "Sometimes we can take one list inside another list. Such type of lists are called nested lists."
   ]
  },
  {
   "cell_type": "code",
   "execution_count": 35,
   "id": "c566d4fe",
   "metadata": {},
   "outputs": [
    {
     "name": "stdout",
     "output_type": "stream",
     "text": [
      "[10, 20, [30, 40]]\n",
      "10\n",
      "[30, 40]\n",
      "30\n",
      "40\n"
     ]
    }
   ],
   "source": [
    "n=[10,20,[30,40]]\n",
    "print(n)\n",
    "print(n[0])\n",
    "print(n[2])\n",
    "print(n[2][0])\n",
    "print(n[2][1])"
   ]
  },
  {
   "cell_type": "markdown",
   "id": "a4b881bb",
   "metadata": {},
   "source": [
    "Note: We can access nested list elements by using index just like accessing multi-dimensional array elements.\n",
    "\n",
    "Nested List as Matrix:\n",
    "\n",
    "In Python we can represent matrix by using nested lists."
   ]
  },
  {
   "cell_type": "code",
   "execution_count": 36,
   "id": "d83d8e3e",
   "metadata": {},
   "outputs": [
    {
     "name": "stdout",
     "output_type": "stream",
     "text": [
      "[[10, 20, 30], [40, 50, 60], [70, 80, 90]]\n",
      "Elements by Row wise:\n",
      "[10, 20, 30]\n",
      "[40, 50, 60]\n",
      "[70, 80, 90]\n",
      "Elements by Matrix style:\n",
      "10 20 30 \n",
      "40 50 60 \n",
      "70 80 90 \n"
     ]
    }
   ],
   "source": [
    "n=[[10,20,30],[40,50,60],[70,80,90]]\n",
    "print(n)\n",
    "print(\"Elements by Row wise:\")\n",
    "for r in n:\n",
    "    print(r)\n",
    "print(\"Elements by Matrix style:\")\n",
    "for i in range(len(n)):\n",
    "    for j in range(len(n[i])):\n",
    "        print(n[i][j],end=' ')\n",
    "    print()"
   ]
  },
  {
   "cell_type": "markdown",
   "id": "dfd260cf",
   "metadata": {},
   "source": [
    "List Comprehensions:\n",
    "\n",
    "\n",
    "It is very easy and compact way of creating list objects from any iterable objects(like list, tuple, dictionary, range etc) based on some condition.\n",
    "\n",
    "Syntax:\n",
    "\n",
    "list=[expression for item in list if condition]"
   ]
  },
  {
   "cell_type": "code",
   "execution_count": 37,
   "id": "bc58ad0d",
   "metadata": {},
   "outputs": [
    {
     "name": "stdout",
     "output_type": "stream",
     "text": [
      "[1, 4, 9, 16, 25, 36, 49, 64, 81, 100]\n",
      "[2, 4, 8, 16, 32]\n",
      "[4, 16, 36, 64, 100]\n"
     ]
    }
   ],
   "source": [
    "s=[ x*x for x in range(1,11)]\n",
    "print(s)\n",
    "v=[2**x for x in range(1,6)]\n",
    "print(v)\n",
    "m=[x for x in s if x%2==0]\n",
    "print(m)"
   ]
  },
  {
   "cell_type": "code",
   "execution_count": 38,
   "id": "1bece285",
   "metadata": {},
   "outputs": [
    {
     "name": "stdout",
     "output_type": "stream",
     "text": [
      "['J', 'V', 'T', 'G']\n"
     ]
    }
   ],
   "source": [
    "words=[\"Jay\",\"Veeru\",\"Thakur\",\"Gabbar\"]\n",
    "l=[w[0] for w in words]\n",
    "print(l)"
   ]
  },
  {
   "cell_type": "code",
   "execution_count": null,
   "id": "e534db6b",
   "metadata": {},
   "outputs": [],
   "source": [
    "num1=[10,20,30,40]\n",
    "num2=[30,40,50,60]\n",
    "num3=[ i for i in num1 if i not in num2]\n",
    "print(num3) #[10,20]\n",
    "#common elements present in num1 and num2\n",
    "num4=[i for i in num1 if i in num2]\n",
    "print(num4) #[30, 40]"
   ]
  },
  {
   "cell_type": "code",
   "execution_count": 39,
   "id": "deda9dab",
   "metadata": {},
   "outputs": [
    {
     "name": "stdout",
     "output_type": "stream",
     "text": [
      "['the', 'quick', 'brown', 'fox', 'jumps', 'over', 'the', 'lazy', 'dog']\n",
      "[['THE', 3], ['QUICK', 5], ['BROWN', 5], ['FOX', 3], ['JUMPS', 5], ['OVER', 4], ['THE', 3], ['LAZY', 4], ['DOG', 3]]\n"
     ]
    }
   ],
   "source": [
    "words=\"the quick brown fox jumps over the lazy dog\".split()\n",
    "print(words)\n",
    "l=[[w.upper(),len(w)] for w in words]\n",
    "print(l)"
   ]
  },
  {
   "cell_type": "code",
   "execution_count": 40,
   "id": "2f1a2d59",
   "metadata": {},
   "outputs": [
    {
     "name": "stdout",
     "output_type": "stream",
     "text": [
      "Enter the word to search for vowels: Hi Hello Fine Thanks\n",
      "['i', 'e', 'o', 'a']\n",
      "The number of different vowels present in Hi Hello Fine Thanks is 4\n"
     ]
    }
   ],
   "source": [
    "#Write a program to display unique vowels present in the given word?\n",
    "vowels=['a','e','i','o','u']\n",
    "word=input(\"Enter the word to search for vowels: \")\n",
    "found=[]\n",
    "for letter in word:\n",
    "    if letter in vowels:\n",
    "        if letter not in found:\n",
    "            found.append(letter)\n",
    "print(found)\n",
    "print(\"The number of different vowels present in\",word,\"is\",len(found))"
   ]
  }
 ],
 "metadata": {
  "kernelspec": {
   "display_name": "Python 3 (ipykernel)",
   "language": "python",
   "name": "python3"
  },
  "language_info": {
   "codemirror_mode": {
    "name": "ipython",
    "version": 3
   },
   "file_extension": ".py",
   "mimetype": "text/x-python",
   "name": "python",
   "nbconvert_exporter": "python",
   "pygments_lexer": "ipython3",
   "version": "3.11.4"
  }
 },
 "nbformat": 4,
 "nbformat_minor": 5
}
