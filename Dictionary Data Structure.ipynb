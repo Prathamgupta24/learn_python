{
 "cells": [
  {
   "cell_type": "markdown",
   "id": "ba69e880",
   "metadata": {},
   "source": [
    "# <u>Dictionary Data Structure</u>"
   ]
  },
  {
   "cell_type": "markdown",
   "id": "33faafdf",
   "metadata": {},
   "source": [
    "We can use List,Tuple and Set to represent a group of individual objects as a single entity.  \n",
    "\n",
    " If we want to represent a group of objects as key-value pairs then we should go for Dictionary.  \n",
    " \n",
    " Eg:  \n",
    " rollno----name  \n",
    " phone number--address  \n",
    " ipaddress---domain name  \n",
    " \n",
    "-  Duplicate keys are not allowed but values can be duplicated.  \n",
    "-  Hetrogeneous objects are allowed for both key and values.  \n",
    "-  insertion order is not preserved  \n",
    "-  Dictionaries are mutable  \n",
    "-  Dictionaries are dynamic  \n",
    "-  indexing and slicing concepts are not applicable  \n",
    "\n",
    "Note: In C++ and Java Dictionaries are known as \"Map\" where as in Perl and Ruby it is known as \"Hash\" "
   ]
  },
  {
   "cell_type": "markdown",
   "id": "e541010b",
   "metadata": {},
   "source": [
    "### <u>How to create Dictionary?</u>\n",
    "\n",
    "d={} or d=dict()  \n",
    "we are creating empty dictionary. We can add entries as follows  "
   ]
  },
  {
   "cell_type": "code",
   "execution_count": 2,
   "id": "40ce3992",
   "metadata": {},
   "outputs": [
    {
     "name": "stdout",
     "output_type": "stream",
     "text": [
      "{100: 'vishal', 200: 'manoj', 300: 'sapan'}\n"
     ]
    }
   ],
   "source": [
    "d={}\n",
    "d[100]=\"vishal\"  \n",
    "d[200]=\"manoj\"  \n",
    "d[300]=\"sapan\"  \n",
    "print(d) #{100: 'vishal', 200: 'manoj', 300: 'sapan'} "
   ]
  },
  {
   "cell_type": "markdown",
   "id": "10831f11",
   "metadata": {},
   "source": [
    "If we know data in advance then we can create dictionary as follows"
   ]
  },
  {
   "cell_type": "code",
   "execution_count": 6,
   "id": "da55e7c4",
   "metadata": {},
   "outputs": [
    {
     "data": {
      "text/plain": [
       "{100: 'vishal', 200: 'manoj', 300: 'sapan'}"
      ]
     },
     "execution_count": 6,
     "metadata": {},
     "output_type": "execute_result"
    }
   ],
   "source": [
    "d={100:'vishal',200:'manoj',300:'sapan'}\n",
    "d"
   ]
  },
  {
   "cell_type": "markdown",
   "id": "1140c0c4",
   "metadata": {},
   "source": [
    "d={key:value, key:value}"
   ]
  },
  {
   "cell_type": "markdown",
   "id": "59724eb6",
   "metadata": {},
   "source": [
    "### <u>How to access data from the dictionary?</u>\n",
    "\n",
    "We can access data by using keys.\n",
    "\n",
    "```\n",
    "d={100:'vishal' ,200:'manoj', 300:'sapan'}  \n",
    "print(d[100]) #vishal  \n",
    "print(d[300]) #sapan  \n",
    "```\n",
    "If the specified key is not available then we will get KeyError  \n",
    "```\n",
    "print(d[400]) # KeyError: 400  \n",
    "```\n",
    "We can prevent this by checking whether key is already available or not by using has_key() function or by using in operator.  \n",
    "```\n",
    "d.has_key(400) ==> returns 1 if key is available otherwise returns 0  \n",
    "```\n",
    "But has_key() function is available only in Python 2 but not in Python 3. Hence \n",
    "compulsory we have to use in operator.  \n",
    "```\n",
    "if 400 in d:  \n",
    "    print(d[400])\n",
    "```"
   ]
  },
  {
   "cell_type": "markdown",
   "id": "91559d5a",
   "metadata": {},
   "source": [
    "**<u>Q. Write a program to enter name and percentage marks in a dictionary and \n",
    "display information on the screen</u>**"
   ]
  },
  {
   "cell_type": "code",
   "execution_count": 4,
   "id": "c088fbcf",
   "metadata": {},
   "outputs": [
    {
     "name": "stdout",
     "output_type": "stream",
     "text": [
      "Enter number of students: 3\n",
      "Enter Student Name: vishal\n",
      "Enter % of Marks of Student: 90%\n",
      "Enter Student Name: manoj\n",
      "Enter % of Marks of Student: 80%\n",
      "Enter Student Name: sapan\n",
      "Enter % of Marks of Student: 85%\n",
      "Name of Student \t % of marks\n",
      "\t vishal \t\t 90%\n",
      "\t manoj \t\t 80%\n",
      "\t sapan \t\t 85%\n"
     ]
    }
   ],
   "source": [
    "rec={} \n",
    "n=int(input(\"Enter number of students: \")) \n",
    "i=1 \n",
    "while i <=n: \n",
    "    name=input(\"Enter Student Name: \") \n",
    "    marks=input(\"Enter % of Marks of Student: \") \n",
    "    rec[name]=marks \n",
    "    i=i+1 \n",
    "print(\"Name of Student\",\"\\t\",\"% of marks\") \n",
    "for x in rec: \n",
    "    print(\"\\t\",x,\"\\t\\t\",rec[x])"
   ]
  },
  {
   "cell_type": "markdown",
   "id": "9b5fdf90",
   "metadata": {},
   "source": [
    "### <u>How to update dictionaries?</u>  \n",
    "\n",
    "d[key]=value  \n",
    "\n",
    "If the key is not available then a new entry will be added to the dictionary with the specified key-value pair  \n",
    "\n",
    "If the key is already available then old value will be replaced with new value.  "
   ]
  },
  {
   "cell_type": "code",
   "execution_count": 6,
   "id": "766a1cd6",
   "metadata": {},
   "outputs": [
    {
     "name": "stdout",
     "output_type": "stream",
     "text": [
      "{100: 'vishal', 200: 'manoj', 300: 'sapan'}\n",
      "{100: 'vishal', 200: 'manoj', 300: 'sapan', 400: 'pavan'}\n",
      "{100: 'sunny', 200: 'manoj', 300: 'sapan', 400: 'pavan'}\n"
     ]
    }
   ],
   "source": [
    "d={100:\"vishal\",200:\"manoj\",300:\"sapan\"} \n",
    "print(d) \n",
    "d[400]=\"pavan\" \n",
    "print(d) \n",
    "d[100]=\"sunny\" \n",
    "print(d)"
   ]
  },
  {
   "cell_type": "markdown",
   "id": "edfcc98b",
   "metadata": {},
   "source": [
    "### <u>How to delete elements from dictionary?</u>  \n",
    "\n",
    "**del d[key]**  \n",
    "\n",
    " It deletes entry associated with the specified key.  \n",
    " If the key is not available then we will get KeyError   "
   ]
  },
  {
   "cell_type": "code",
   "execution_count": 7,
   "id": "afc368be",
   "metadata": {},
   "outputs": [
    {
     "name": "stdout",
     "output_type": "stream",
     "text": [
      "{100: 'vishal', 200: 'manoj', 300: 'sapan'}\n",
      "{200: 'manoj', 300: 'sapan'}\n"
     ]
    }
   ],
   "source": [
    " d={100:\"vishal\",200:\"manoj\",300:\"sapan\"} \n",
    "print(d) \n",
    "del d[100] \n",
    "print(d) \n",
    "#del d[400]"
   ]
  },
  {
   "cell_type": "markdown",
   "id": "d3ede910",
   "metadata": {},
   "source": [
    "**d.clear()**  \n",
    "\n",
    "To remove all entries from the dictionary  "
   ]
  },
  {
   "cell_type": "code",
   "execution_count": 10,
   "id": "9a56b919",
   "metadata": {},
   "outputs": [
    {
     "name": "stdout",
     "output_type": "stream",
     "text": [
      "{100: 'durga', 200: 'ravi', 300: 'shiva'}\n",
      "{}\n"
     ]
    }
   ],
   "source": [
    "d={100:\"durga\",200:\"ravi\",300:\"shiva\"} \n",
    "print(d) \n",
    "d.clear() \n",
    "print(d)"
   ]
  },
  {
   "cell_type": "markdown",
   "id": "877b3adc",
   "metadata": {},
   "source": [
    "**del d**  \n",
    "\n",
    "To delete total dictionary.Now we cannot access d  "
   ]
  },
  {
   "cell_type": "code",
   "execution_count": 8,
   "id": "608ccfda",
   "metadata": {},
   "outputs": [
    {
     "name": "stdout",
     "output_type": "stream",
     "text": [
      "{100: 'durga', 200: 'ravi', 300: 'shiva'}\n"
     ]
    }
   ],
   "source": [
    "d={100:\"durga\",200:\"ravi\",300:\"shiva\"} \n",
    "print(d) \n",
    "del d \n",
    "#print(d)"
   ]
  },
  {
   "cell_type": "markdown",
   "id": "f7ca68aa",
   "metadata": {},
   "source": [
    "## <u>Important functions of dictionary:</u>  \n",
    "\n",
    "**1. dict():**  \n",
    "\n",
    "To create a dictionary  \n",
    "```\n",
    "d=dict() ===>It creates empty dictionary  \n",
    "d=dict({100:\"durga\",200:\"ravi\"}) ==>It creates dictionary with specified elements  \n",
    "d=dict([(100,\"durga\"),(200,\"shiva\"),(300,\"ravi\")])==>It creates dictionary with the given list of tuple elements\n",
    "```"
   ]
  },
  {
   "cell_type": "markdown",
   "id": "61edbc7f",
   "metadata": {},
   "source": [
    "**2. len()**\n",
    "\n",
    "Returns the number of items in the dictionary  \n",
    "\n",
    "**3. clear():**  \n",
    "\n",
    "To remove all elements from the dictionary  \n",
    "\n",
    "**4. get():**  \n",
    "\n",
    "To get the value associated with the key  \n",
    "\n",
    "d.get(key)   \n",
    " If the key is available then returns the corresponding value otherwise returns None.It wont raise any error.  \n",
    " \n",
    "d.get(key,defaultvalue)  \n",
    " If the key is available then returns the corresponding value otherwise returns default value.  \n",
    " \n",
    "Eg:  \n",
    "```\n",
    "d={100:\"Vishal\",200:\"ravi\",300:\"shiva\"}  \n",
    "print(d[100]) ==>Vishal  \n",
    "print(d[400]) ==>KeyError:400  \n",
    "print(d.get(100)) ==Vishal\n",
    "print(d.get(400)) ==>None  \n",
    "print(d.get(100,\"Guest\")) ==>Vishal \n",
    "print(d.get(400,\"Guest\")) ==>Guest  \n",
    "```\n",
    "**3. pop():**  \n",
    "\n",
    "d.pop(key)  \n",
    " It removes the entry associated with the specified key and returns the corresponding value  \n",
    " If the specified key is not available then we will get KeyError   "
   ]
  },
  {
   "cell_type": "code",
   "execution_count": 11,
   "id": "146989c0",
   "metadata": {},
   "outputs": [
    {
     "name": "stdout",
     "output_type": "stream",
     "text": [
      "vishal\n",
      "{200: 'manoj', 300: 'sapan'}\n"
     ]
    }
   ],
   "source": [
    "d={100:\"vishal\",200:\"manoj\",300:\"sapan\"} \n",
    "print(d.pop(100)) \n",
    "print(d) \n",
    "#print(d.pop(400))"
   ]
  },
  {
   "cell_type": "markdown",
   "id": "4ffee0ae",
   "metadata": {},
   "source": [
    "**4. popitem():**\n",
    "\n",
    "It removes an arbitrary item(key-value) from the dictionaty and returns it. "
   ]
  },
  {
   "cell_type": "code",
   "execution_count": 14,
   "id": "3cc71243",
   "metadata": {},
   "outputs": [
    {
     "name": "stdout",
     "output_type": "stream",
     "text": [
      "{100: 'vishal', 200: 'manoj', 300: 'sapan'}\n",
      "(300, 'sapan')\n",
      "{100: 'vishal', 200: 'manoj'}\n"
     ]
    }
   ],
   "source": [
    "d={100:\"vishal\",200:\"manoj\",300:\"sapan\"} \n",
    "print(d) \n",
    "print(d.popitem()) \n",
    "print(d)"
   ]
  },
  {
   "cell_type": "markdown",
   "id": "d10265a8",
   "metadata": {},
   "source": [
    "If the dictionary is empty then we will get KeyError  \n",
    "d={} \n",
    "```\n",
    "print(d.popitem()) ==>KeyError: 'popitem(): dictionary is empty'  \n",
    "```\n",
    "**5. keys():**  \n",
    "\n",
    "It returns all keys associated eith dictionary"
   ]
  },
  {
   "cell_type": "code",
   "execution_count": 23,
   "id": "79f09f6e",
   "metadata": {},
   "outputs": [
    {
     "name": "stdout",
     "output_type": "stream",
     "text": [
      "dict_keys([100, 200, 300])\n",
      "100\n",
      "200\n",
      "300\n"
     ]
    }
   ],
   "source": [
    "d={100:\"vishal\",200:\"manoj\",300:\"sapan\"} \n",
    "print(d.keys()) \n",
    "for k in d.keys(): \n",
    "    print(k)"
   ]
  },
  {
   "cell_type": "markdown",
   "id": "a8a7799a",
   "metadata": {},
   "source": [
    "**6. values():**  \n",
    "\n",
    "It returns all values associated with the dictionary  "
   ]
  },
  {
   "cell_type": "code",
   "execution_count": 24,
   "id": "185cd645",
   "metadata": {},
   "outputs": [
    {
     "name": "stdout",
     "output_type": "stream",
     "text": [
      "dict_values(['vishal', 'manoj', 'sapan'])\n",
      "vishal\n",
      "manoj\n",
      "sapan\n"
     ]
    }
   ],
   "source": [
    "d={100:\"vishal\",200:\"manoj\",300:\"sapan\"} \n",
    "print(d.values()) \n",
    "for v in d.values(): \n",
    "    print(v)"
   ]
  },
  {
   "cell_type": "markdown",
   "id": "2a1eb9ff",
   "metadata": {},
   "source": [
    "**7. items():**  \n",
    "\n",
    "It returns list of tuples representing key-value pairs.  \n",
    "\n",
    "[(k,v),(k,v),(k,v)]  "
   ]
  },
  {
   "cell_type": "code",
   "execution_count": 25,
   "id": "3ed9db68",
   "metadata": {},
   "outputs": [
    {
     "name": "stdout",
     "output_type": "stream",
     "text": [
      "100 -- vishal\n",
      "200 -- manoj\n",
      "300 -- sapan\n"
     ]
    }
   ],
   "source": [
    " d={100:\"vishal\",200:\"manoj\",300:\"sapan\"} \n",
    "for k,v in d.items(): \n",
    "    print(k,\"--\",v)"
   ]
  },
  {
   "cell_type": "markdown",
   "id": "c12cdb35",
   "metadata": {},
   "source": [
    "**8. copy():**  \n",
    "\n",
    "To create exactly duplicate dictionary(cloned copy)  \n",
    "```\n",
    "d1=d.copy();  \n",
    "```\n",
    "**9. setdefault():**  \n",
    "```\n",
    "d.setdefault(k,v)\n",
    "````\n",
    "  If the key is already available then this function returns the corresponding value.  \n",
    "  If the key is not available then the specified key-value will be added as new item to the dictionary.    "
   ]
  },
  {
   "cell_type": "code",
   "execution_count": 26,
   "id": "8a16f0a2",
   "metadata": {},
   "outputs": [
    {
     "name": "stdout",
     "output_type": "stream",
     "text": [
      "pavan\n",
      "{100: 'vishal', 200: 'manoj', 300: 'sapan', 400: 'pavan'}\n",
      "vishal\n",
      "{100: 'vishal', 200: 'manoj', 300: 'sapan', 400: 'pavan'}\n"
     ]
    }
   ],
   "source": [
    "d={100:\"vishal\",200:\"manoj\",300:\"sapan\"} \n",
    "print(d.setdefault(400,\"pavan\")) \n",
    "print(d) \n",
    "print(d.setdefault(100,\"sachin\")) \n",
    "print(d)"
   ]
  },
  {
   "cell_type": "markdown",
   "id": "c1666b43",
   "metadata": {},
   "source": [
    "**10. update():**  \n",
    "\n",
    "d.update(x)  \n",
    " All items present in the dictionary x will be added to dictionary d  "
   ]
  },
  {
   "cell_type": "markdown",
   "id": "89feda5d",
   "metadata": {},
   "source": [
    "**Q. Write a program to take dictionary from the keyboard and print the sum \n",
    "of values?**"
   ]
  },
  {
   "cell_type": "code",
   "execution_count": 34,
   "id": "198f843f",
   "metadata": {},
   "outputs": [
    {
     "name": "stdout",
     "output_type": "stream",
     "text": [
      "Enter dictionary:{'A':100,'B':200,'C':300}\n",
      "Sum=  600\n"
     ]
    }
   ],
   "source": [
    "d=eval(input(\"Enter dictionary:\")) \n",
    "s=sum(d.values()) \n",
    "print(\"Sum= \",s)"
   ]
  },
  {
   "cell_type": "markdown",
   "id": "3af03695",
   "metadata": {},
   "source": [
    "**Q. Write a program to find number of occurrences of each letter present in \n",
    "the given string?**"
   ]
  },
  {
   "cell_type": "code",
   "execution_count": 36,
   "id": "a23c0ed1",
   "metadata": {},
   "outputs": [
    {
     "name": "stdout",
     "output_type": "stream",
     "text": [
      "Enter any word: mississippi\n",
      "m occurred  1  times\n",
      "i occurred  4  times\n",
      "s occurred  4  times\n",
      "p occurred  2  times\n"
     ]
    }
   ],
   "source": [
    "word=input(\"Enter any word: \")\n",
    "d={} \n",
    "for x in word: \n",
    "    d[x]=d.get(x,0)+1 \n",
    "for k,v in d.items(): \n",
    "    print(k,\"occurred \",v,\" times\")"
   ]
  },
  {
   "cell_type": "markdown",
   "id": "1e6d557f",
   "metadata": {},
   "source": [
    "**Q. Write a program to find number of occurrences of each vowel present in \n",
    "the given string?**"
   ]
  },
  {
   "cell_type": "code",
   "execution_count": 38,
   "id": "be8fa504",
   "metadata": {},
   "outputs": [
    {
     "name": "stdout",
     "output_type": "stream",
     "text": [
      "Enter any word: doganimaldoganimal\n",
      "a occurred  4  times\n",
      "i occurred  2  times\n",
      "o occurred  2  times\n"
     ]
    }
   ],
   "source": [
    "word=input(\"Enter any word: \") \n",
    "vowels={'a','e','i','o','u'} \n",
    "d={} \n",
    "for x in word: \n",
    "    if x in vowels: \n",
    "        d[x]=d.get(x,0)+1 \n",
    "for k,v in sorted(d.items()): \n",
    "    print(k,\"occurred \",v,\" times\")"
   ]
  },
  {
   "cell_type": "markdown",
   "id": "6c3ce7d7",
   "metadata": {},
   "source": [
    "**Q. Write a program to accept student name and marks from the keyboard \n",
    "and creates a dictionary. Also display student marks by taking student name \n",
    "as input?**"
   ]
  },
  {
   "cell_type": "code",
   "execution_count": 40,
   "id": "81b38753",
   "metadata": {},
   "outputs": [
    {
     "name": "stdout",
     "output_type": "stream",
     "text": [
      "Enter the number of students: 2\n",
      "Enter Student Name: vishal\n",
      "Enter Student Marks: 90\n",
      "Enter Student Name: manoj\n",
      "Enter Student Marks: 70\n",
      "Enter Student Name to get Marks: vishal\n",
      "The Marks of vishal are 90\n",
      "Do you want to find another student marks[Yes|No]No\n",
      "Thanks for using our application\n"
     ]
    }
   ],
   "source": [
    "n=int(input(\"Enter the number of students: \")) \n",
    "d={} \n",
    "for i in range(n): \n",
    "    name=input(\"Enter Student Name: \") \n",
    "    marks=input(\"Enter Student Marks: \") \n",
    "    d[name]=marks \n",
    "while True: \n",
    "    name=input(\"Enter Student Name to get Marks: \") \n",
    "    marks=d.get(name,-1) \n",
    "    if marks== -1: \n",
    "        print(\"Student Not Found\") \n",
    "    else: \n",
    "        print(\"The Marks of\",name,\"are\",marks) \n",
    "    option=input(\"Do you want to find another student marks[Yes|No]\") \n",
    "    if option==\"No\": \n",
    "        break \n",
    "print(\"Thanks for using our application\")"
   ]
  },
  {
   "cell_type": "markdown",
   "id": "a6401612",
   "metadata": {},
   "source": [
    "## <u>Dictionary Comprehension:</u>  \n",
    "\n",
    "\n",
    "Comprehension concept applicable for dictionaries also.  "
   ]
  },
  {
   "cell_type": "code",
   "execution_count": 42,
   "id": "950b38b0",
   "metadata": {},
   "outputs": [
    {
     "name": "stdout",
     "output_type": "stream",
     "text": [
      "{1: 1, 2: 4, 3: 9, 4: 16, 5: 25}\n",
      "{1: 2, 2: 4, 3: 6, 4: 8, 5: 10}\n"
     ]
    }
   ],
   "source": [
    "squares={x:x*x for x in range(1,6)} \n",
    "print(squares) \n",
    "doubles={x:2*x for x in range(1,6)} \n",
    "print(doubles)"
   ]
  }
 ],
 "metadata": {
  "kernelspec": {
   "display_name": "Python 3 (ipykernel)",
   "language": "python",
   "name": "python3"
  },
  "language_info": {
   "codemirror_mode": {
    "name": "ipython",
    "version": 3
   },
   "file_extension": ".py",
   "mimetype": "text/x-python",
   "name": "python",
   "nbconvert_exporter": "python",
   "pygments_lexer": "ipython3",
   "version": "3.9.12"
  }
 },
 "nbformat": 4,
 "nbformat_minor": 5
}
