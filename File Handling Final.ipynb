{
 "cells": [
  {
   "attachments": {
    "image.png": {
     "image/png": "[encoded data removed]"
    }
   },
   "cell_type": "markdown",
   "id": "114a04a4",
   "metadata": {},
   "source": [
    "![image.png](attachment:image.png)  \n",
    "\n",
    "\n",
    "As the part of programming requirement, we have to store our data permanently for future purpose. For this requirement we should go for files.  \n",
    "\n",
    "Files are very common permanent storage areas to store our data.  \n",
    "\n",
    "\n",
    "## <u>Types of Files:</u>  \n",
    "\n",
    "There are 2 types of files  \n",
    "\n",
    "### <u>1. Text Files:</u>  \n",
    "\n",
    "Usually we can use text files to store character data  \n",
    "eg: abc.txt  \n",
    "\n",
    "\n",
    "### <u>2. Binary Files:</u>   \n",
    "\n",
    "Usually we can use binary files to store binary data like images,video files, audio files etc...    \n",
    "\n",
    "\n",
    "## <u>Opening a File:</u>   \n",
    "\n",
    "Before performing any operation (like read or write) on the file,first we have to open that file. For this we should use Python's inbuilt function open()  \n",
    "\n",
    "But at the time of open, we have to specify mode,which represents the purpose of opening file.  \n",
    "\n",
    "**f = open(filename, mode)**  \n",
    "\n",
    "The allowed modes in Python are   \n",
    "\n",
    "1. r → open an existing file for read operation. The file pointer is positioned at the beginning of the file.If the specified file does not exist then we will get FileNotFoundError. This is default mode.   \n",
    "2. w → open an existing file for write operation. If the file already contains some data then it will be overridden. If the specified file is not already avaialble then this mode will create that file.  \n",
    "3. a → open an existing file for append operation. It won't override existing data.If the specified file is not already avaialble then this mode will create a new file.  \n",
    "4. r+ → To read and write data into the file. The previous data in the file will not be deleted.The file pointer is placed at the beginning of the file.  \n",
    "5. w+ → To write and read data. It will override existing data.  \n",
    "6. a+ → To append and read data from the file.It wont override existing data.  \n",
    "7. x → To open a file in exclusive creation mode for write operation. If the file already exists then we will get FileExistsError.  \n",
    "\n",
    "\n",
    "<u>Note:</u> All the above modes are applicable for text files. If the above modes suffixed with 'b' then these represents for binary files.  \n",
    "\n",
    "Eg: rb,wb,ab,r+b,w+b,a+b,xb  \n",
    "\n",
    "```\n",
    "f = open(\"abc.txt\",\"w\")  \n",
    "```\n",
    "We are opening abc.txt file for writing data.  \n",
    "\n",
    "\n",
    "## <u>Closing a File:</u>  \n",
    "\n",
    "After completing our operations on the file,it is highly recommended to close the file.  \n",
    "For this we have to use close() function.  \n",
    "```\n",
    "f.close()  \n",
    "```\n",
    "### <u>Various properties of File Object:</u>  \n",
    "\n",
    "Once we opend a file and we got file object,we can get various details related to that file by using its properties.  \n",
    "\n",
    "\n",
    "name → Name of opened file  \n",
    "mode → Mode in which the file is opened  \n",
    "closed → Returns boolean value indicates that file is closed or not  \n",
    "readable()→ Retruns boolean value indicates that whether file is readable or not  \n",
    "writable()→ Returns boolean value indicates that whether file is writable or not.  "
   ]
  },
  {
   "cell_type": "code",
   "execution_count": 1,
   "id": "c9ddf6a3",
   "metadata": {},
   "outputs": [
    {
     "name": "stdout",
     "output_type": "stream",
     "text": [
      "File Name:  abc.txt\n",
      "File Mode:  w\n",
      "Is File Readable:  False\n",
      "Is File Writable:  True\n",
      "Is File Closed :  False\n",
      "Is File Closed :  True\n"
     ]
    }
   ],
   "source": [
    "f=open(\"abc.txt\",'w') \n",
    "print(\"File Name: \",f.name) \n",
    "print(\"File Mode: \",f.mode) \n",
    "print(\"Is File Readable: \",f.readable()) \n",
    "print(\"Is File Writable: \",f.writable()) \n",
    "print(\"Is File Closed : \",f.closed) \n",
    "f.close() \n",
    "print(\"Is File Closed : \",f.closed)"
   ]
  },
  {
   "cell_type": "markdown",
   "id": "efe2e5c0",
   "metadata": {},
   "source": [
    "## <u>Writing data to text files:</u>    \n",
    "\n",
    "We can write character data to the text files by using the following 2 methods.  \n",
    "```\n",
    "write(str)  \n",
    "writelines(list of lines)  \n",
    "```"
   ]
  },
  {
   "cell_type": "code",
   "execution_count": 10,
   "id": "657eaf11",
   "metadata": {},
   "outputs": [
    {
     "name": "stdout",
     "output_type": "stream",
     "text": [
      "Data written to the file successfully\n"
     ]
    }
   ],
   "source": [
    "f=open(\"abcd.txt\",'w') \n",
    "f.write(\"Vishal\\n\") \n",
    "f.write(\"Parikh\\n\") \n",
    "f.write(\"Python Notes\\n\") \n",
    "print(\"Data written to the file successfully\") \n",
    "f.close()"
   ]
  },
  {
   "cell_type": "markdown",
   "id": "0dc22e11",
   "metadata": {},
   "source": [
    "<u>abcd.txt:</u>  \n",
    "Vishal\n",
    "Parikh  \n",
    "Python Notes  \n",
    "\n",
    "<u>Note:</u> In the above program, data present in the file will be overridden everytime if we run the program. Instead of overriding if we want append operation then we should open the file as follows.  \n",
    "\n",
    "**f = open(\"abcd.txt\",\"a\")**  "
   ]
  },
  {
   "cell_type": "code",
   "execution_count": 11,
   "id": "9755d222",
   "metadata": {},
   "outputs": [
    {
     "name": "stdout",
     "output_type": "stream",
     "text": [
      "List of lines written to the file successfully\n"
     ]
    }
   ],
   "source": [
    "# Eg 2:\n",
    "\n",
    "f=open(\"abcd.txt\",'w') \n",
    "list=[\"sunny\\n\",\"bunny\\n\",\"vinny\\n\",\"chinny\"] \n",
    "f.writelines(list) \n",
    "print(\"List of lines written to the file successfully\") \n",
    "f.close()"
   ]
  },
  {
   "cell_type": "markdown",
   "id": "440ccad1",
   "metadata": {},
   "source": [
    "<u>abcd.txt:</u>  \n",
    "sunny  \n",
    "bunny  \n",
    "vinny  \n",
    "chinny  \n",
    "\n",
    "<u>Note:</u> while writing data by using write() methods, compulsory we have to provide line seperator(\\n), otherwise total data should be written to a single line.  \n",
    "\n",
    "### <u>Reading Character Data from text files:</u>  \n",
    "\n",
    "We can read character data from text file by using the following read methods.  \n",
    "read()→ To read total data from the file  \n",
    "read(n) → To read 'n' characters from the file  \n",
    "readline()→ To read only one line  \n",
    "readlines()→ To read all lines into a list  "
   ]
  },
  {
   "cell_type": "code",
   "execution_count": 14,
   "id": "6f3e1a95",
   "metadata": {},
   "outputs": [
    {
     "name": "stdout",
     "output_type": "stream",
     "text": [
      "sunny\n",
      "bunny\n",
      "vinny\n",
      "chinny\n"
     ]
    }
   ],
   "source": [
    "# Eg 1: To read total data from the file\n",
    "\n",
    "f=open(\"abcd.txt\",'r') \n",
    "data=f.read() \n",
    "print(data) \n",
    "f.close()\n",
    "\n",
    "# Output\n",
    "# sunny \n",
    "# bunny \n",
    "# chinny \n",
    "# vinny"
   ]
  },
  {
   "cell_type": "code",
   "execution_count": 15,
   "id": "25f781ad",
   "metadata": {},
   "outputs": [
    {
     "name": "stdout",
     "output_type": "stream",
     "text": [
      "sunny\n",
      "bunn\n"
     ]
    }
   ],
   "source": [
    "# Eg 2: To read only first 10 characters:\n",
    "\n",
    "f=open(\"abcd.txt\",'r') \n",
    "data=f.read(10) \n",
    "print(data) \n",
    "f.close() \n",
    "\n",
    "\n",
    "# Output\n",
    "# sunny \n",
    "# bunn"
   ]
  },
  {
   "cell_type": "code",
   "execution_count": 16,
   "id": "9446bb44",
   "metadata": {},
   "outputs": [
    {
     "name": "stdout",
     "output_type": "stream",
     "text": [
      "sunny\n",
      "bunny\n",
      "vinny\n"
     ]
    }
   ],
   "source": [
    "# Eg 3: To read data line by line: \n",
    "        \n",
    "f=open(\"abcd.txt\",'r') \n",
    "line1=f.readline() \n",
    "print(line1,end='') \n",
    "line2=f.readline() \n",
    "print(line2,end='') \n",
    "line3=f.readline() \n",
    "print(line3,end='') \n",
    "f.close() \n",
    "\n",
    "# Output\n",
    "# sunny \n",
    "# bunny \n",
    "# vinny"
   ]
  },
  {
   "cell_type": "code",
   "execution_count": 19,
   "id": "804fbdfa",
   "metadata": {},
   "outputs": [
    {
     "name": "stdout",
     "output_type": "stream",
     "text": [
      "sunny\n",
      "bunny\n",
      "vinny\n",
      "chinny"
     ]
    }
   ],
   "source": [
    "# Eg 4: To read all lines into list:  \n",
    "\n",
    "f=open(\"abcd.txt\",'r') \n",
    "lines=f.readlines() \n",
    "for line in lines: \n",
    "    print(line,end='') \n",
    "f.close() \n",
    "\n",
    "# Output\n",
    "# sunny \n",
    "# bunny \n",
    "# vinny \n",
    "# chinny"
   ]
  },
  {
   "cell_type": "code",
   "execution_count": 20,
   "id": "b65955e3",
   "metadata": {},
   "outputs": [
    {
     "name": "stdout",
     "output_type": "stream",
     "text": [
      "sun\n",
      "ny\n",
      "\n",
      "bunn\n",
      "Remaining data\n",
      "y\n",
      "vinny\n",
      "chinny\n"
     ]
    }
   ],
   "source": [
    "# Eg 5:  \n",
    "\n",
    "f=open(\"abcd.txt\",\"r\") \n",
    "print(f.read(3)) \n",
    "print(f.readline()) \n",
    "print(f.read(4)) \n",
    "print(\"Remaining data\") \n",
    "print(f.read()) \n",
    "\n",
    "# Output\n",
    "# sun \n",
    "# ny \n",
    "\n",
    "# bunn \n",
    "# Remaining data\n",
    "# y \n",
    "# vinny\n",
    "# chinny"
   ]
  },
  {
   "cell_type": "markdown",
   "id": "968b98bc",
   "metadata": {},
   "source": [
    "## <u>The with statement:</u>  \n",
    "\n",
    "The with statement can be used while opening a file. We can use this to group file operation statements within a block.  \n",
    "\n",
    "The advantage of with statement is it will take care closing of file, after completing all operations automatically even in the case of exceptions also, and we are not required to close explicitly.  "
   ]
  },
  {
   "cell_type": "code",
   "execution_count": 8,
   "id": "e8e3cc77",
   "metadata": {},
   "outputs": [
    {
     "name": "stdout",
     "output_type": "stream",
     "text": [
      "Is File Closed:  False\n",
      "Is File Closed:  True\n"
     ]
    }
   ],
   "source": [
    "with open(\"abc.txt\",\"w\") as f: \n",
    "    f.write(\"Vishal\\n\") \n",
    "    f.write(\"Parikh\\n\") \n",
    "    f.write(\"Python Notes\\n\") \n",
    "    print(\"Is File Closed: \",f.closed) \n",
    "print(\"Is File Closed: \",f.closed) \n",
    "\n",
    "# Output\n",
    "# Is File Closed: False \n",
    "# Is File Closed: True"
   ]
  },
  {
   "cell_type": "markdown",
   "id": "6e4371bf",
   "metadata": {},
   "source": [
    "### <u>The seek() and tell() methods:</u>  \n",
    "\n",
    "<u>tell():</u>  \n",
    "\n",
    "-  We can use tell() method to return current position of the cursor(file pointer) from beginning of the file. Can you plese telll current cursor position.\n",
    "\n",
    "-  The position(index) of first character in files is zero just like string index."
   ]
  },
  {
   "cell_type": "code",
   "execution_count": 21,
   "id": "ea9cee22",
   "metadata": {},
   "outputs": [
    {
     "name": "stdout",
     "output_type": "stream",
     "text": [
      "0\n",
      "su\n",
      "2\n",
      "nny\n",
      "5\n"
     ]
    }
   ],
   "source": [
    "# Eg:\n",
    "\n",
    "f=open(\"abcd.txt\",\"r\") \n",
    "print(f.tell()) \n",
    "print(f.read(2)) \n",
    "print(f.tell()) \n",
    "print(f.read(3)) \n",
    "print(f.tell())"
   ]
  },
  {
   "cell_type": "markdown",
   "id": "201a6317",
   "metadata": {},
   "source": [
    "<u>seek():</u>  \n",
    "\n",
    "We can use seek() method to move cursor(file pointer) to specified location. Can you please seek the cursor to a particular location. \n",
    "```\n",
    "f.seek(offset, fromwhere)  \n",
    "```\n",
    "offset represents the number of positions  \n",
    "\n",
    "The allowed values for second attribute(from where) are  \n",
    "\n",
    "0--->From beginning of file(default value)  \n",
    "1--->From current position  \n",
    "2--->From end of the file  \n",
    "\n",
    "<u>Note:</u> Python 2 supports all 3 values but Python 3 supports only zero.  "
   ]
  },
  {
   "cell_type": "code",
   "execution_count": 1,
   "id": "d0cbe2d0",
   "metadata": {},
   "outputs": [
    {
     "name": "stdout",
     "output_type": "stream",
     "text": [
      "All Students are GOOD\n",
      "The Current Cursor Position:  21\n",
      "The Current Cursor Position:  17\n",
      "Data After Modification:\n",
      "All Students are GEMS!!!\n"
     ]
    }
   ],
   "source": [
    "data=\"All Students are GOOD\" \n",
    "f=open(\"abc.txt\",\"w\") \n",
    "f.write(data) \n",
    "with open(\"abc.txt\",\"r+\") as f: \n",
    "    text=f.read() \n",
    "    print(text) \n",
    "    print(\"The Current Cursor Position: \",f.tell()) \n",
    "    f.seek(17) \n",
    "    print(\"The Current Cursor Position: \",f.tell()) \n",
    "    f.write(\"GEMS!!!\") \n",
    "    f.seek(0) \n",
    "    text=f.read() \n",
    "    print(\"Data After Modification:\") \n",
    "    print(text)"
   ]
  },
  {
   "cell_type": "markdown",
   "id": "312795fe",
   "metadata": {},
   "source": [
    "### <u>How to check a particular file exists or not?</u>  \n",
    "\n",
    "We can use os library to get information about files in our computer.  \n",
    "\n",
    "Os module has path sub module,which contains isFile() function to check whether a particular file exists or not?  \n",
    "\n",
    "os.path.isfile(fname)  \n",
    "\n",
    "\n",
    "**<u>Q. Write a program to check whether the given file exists or not. If it is available then print its content?**  "
   ]
  },
  {
   "cell_type": "code",
   "execution_count": 2,
   "id": "7c536059",
   "metadata": {},
   "outputs": [
    {
     "name": "stdout",
     "output_type": "stream",
     "text": [
      "Enter File Name: abc.txt\n",
      "File exists: abc.txt\n",
      "The content of file is:\n",
      "All Students are GEMS!!!\n"
     ]
    }
   ],
   "source": [
    "import os,sys \n",
    "fname=input(\"Enter File Name: \") \n",
    "if os.path.isfile(fname): \n",
    "    print(\"File exists:\",fname) \n",
    "    f=open(fname,\"r\") \n",
    "else: \n",
    "    print(\"File does not exist:\",fname) \n",
    "    sys.exit(0) \n",
    "print(\"The content of file is:\") \n",
    "data=f.read() \n",
    "print(data)"
   ]
  },
  {
   "cell_type": "markdown",
   "id": "28258e60",
   "metadata": {},
   "source": [
    "<u>Note:</u>  \n",
    "sys.exit(0) \n",
    "\n",
    "- To exit system without executing rest of the program.  \n",
    "- argument represents status code. \n",
    "- 0 means normal termination and it is the default value.  "
   ]
  },
  {
   "cell_type": "markdown",
   "id": "304e9a03",
   "metadata": {},
   "source": [
    "## <u>Handling Binary Data:</u>  \n",
    "\n",
    "It is very common requirement to read or write binary data like images, video files, audio files etc. \n",
    "\n",
    "**<u>Q. Program to read image file and write to a new image file?</u>**"
   ]
  },
  {
   "cell_type": "code",
   "execution_count": null,
   "id": "748c0521",
   "metadata": {},
   "outputs": [],
   "source": [
    "f1=open(\"rossum.jpg\",\"rb\") \n",
    "f2=open(\"newpic.jpg\",\"wb\") \n",
    "bytes=f1.read() \n",
    "f2.write(bytes) \n",
    "print(\"New Image is available with the name: newpic.jpg\")"
   ]
  },
  {
   "cell_type": "markdown",
   "id": "9f25d9b0",
   "metadata": {},
   "source": [
    "## <u>Handling csv files:</u>  \n",
    "\n",
    "CSV==>Comma seperated values  \n",
    "\n",
    "As the part of programming,it is very common requirement to write and read data wrt csv files. Python provides csv module to handle csv files.  \n",
    "\n",
    "<u>Writing data to csv file:</u>  "
   ]
  },
  {
   "cell_type": "code",
   "execution_count": null,
   "id": "dc8731a2",
   "metadata": {},
   "outputs": [],
   "source": [
    "import csv \n",
    "with open(\"emp.csv\",\"w\",newline='') as f: \n",
    "    w=csv.writer(f) # returns csv writer object \n",
    "    w.writerow([\"ENO\",\"ENAME\",\"ESAL\",\"EADDR\"]) \n",
    "    n=int(input(\"Enter Number of Employees:\")) \n",
    "    for i in range(n): \n",
    "        eno=input(\"Enter Employee No:\") \n",
    "        ename=input(\"Enter Employee Name:\") \n",
    "        esal=input(\"Enter Employee Salary:\") \n",
    "        eaddr=input(\"Enter Employee Address:\") \n",
    "        w.writerow([eno,ename,esal,eaddr]) \n",
    "print(\"Total Employees data written to csv file successfully\")"
   ]
  },
  {
   "cell_type": "markdown",
   "id": "ba40972b",
   "metadata": {},
   "source": [
    "<u>Note:</u> Observe the difference with newline attribute and without  \n",
    "\n",
    "with open(\"emp.csv\",\"w\",newline='') as f:  \n",
    "with open(\"emp.csv\",\"w\") as f:  \n",
    "\n",
    "<u>Note:</u> If we are not using newline attribute then in the csv file blank lines will be included between data. To prevent these blank lines, newline attribute is required in Python-3, but in Python-2 just we can specify mode as 'wb' and we are not required to use newline attribute.  "
   ]
  },
  {
   "cell_type": "code",
   "execution_count": null,
   "id": "5d1a8ed2",
   "metadata": {},
   "outputs": [],
   "source": [
    "# Reading Data from csv file:\n",
    "\n",
    "import csv \n",
    "f=open(\"emp.csv\",'r') \n",
    "r=csv.reader(f) #returns csv reader object \n",
    "data=list(r) \n",
    "#print(data) \n",
    "for line in data: \n",
    "    for word in line: \n",
    "        print(word,\"\\t\",end='') \n",
    "    print()\n",
    "    \n",
    "    \n",
    "# Output\n",
    "# D:\\Python_classes>py test.py \n",
    "# ENO ENAME ESAL EADDR \n",
    "# 100 Durga 1000 Hyd \n",
    "# 200 Sachin 2000 Mumbai \n",
    "# 300 Dhoni 3000 Ranchi    "
   ]
  },
  {
   "cell_type": "markdown",
   "id": "2a837b4c",
   "metadata": {},
   "source": [
    "<u>Zipping and Unzipping Files:</u>  \n",
    "\n",
    "It is very common requirement to zip and unzip files.  \n",
    "\n",
    "The main advantages are:  \n",
    "\n",
    "1.To improve memory utilization  \n",
    "2.We can reduce transport time  \n",
    "3.We can improve performance.  \n",
    "\n",
    "To perform zip and unzip operations, Python contains one in-bulit module zip file.  \n",
    "\n",
    "This module contains a class : ZipFile  \n",
    "\n",
    "<u>To create Zip file:</u>  \n",
    "\n",
    "We have to create ZipFile class object with name of the zip file,mode and constant ZIP_DEFLATED. This constant represents we are creating zip file.  \n",
    "\n",
    "\n",
    "**f = ZipFile(\"files.zip\",\"w\",\"ZIP_DEFLATED\")**  \n",
    "\n",
    "Once we create ZipFile object,we can add files by using write() method.  \n",
    "\n",
    "**f.write(filename)**"
   ]
  },
  {
   "cell_type": "code",
   "execution_count": null,
   "id": "b0353fee",
   "metadata": {},
   "outputs": [],
   "source": [
    "# Eg:\n",
    "\n",
    "from zipfile import * \n",
    "f=ZipFile(\"files.zip\",'w',ZIP_DEFLATED) \n",
    "f.write(\"file1.txt\") \n",
    "f.write(\"file2.txt\") \n",
    "f.write(\"file3.txt\") \n",
    "f.close() \n",
    "print(\"files.zip file created successfully\")"
   ]
  },
  {
   "cell_type": "markdown",
   "id": "8faf02a8",
   "metadata": {},
   "source": [
    "<u>To perform unzip operation:</u>  \n",
    "\n",
    "We have to create ZipFile object as follows  \n",
    "\n",
    "f = ZipFile(\"files.zip\",\"r\",ZIP_STORED)  \n",
    "\n",
    "ZIP_STORED represents unzip operation. This is default value and hence we are not required to specify.  \n",
    "Once we created ZipFile object for unzip operation,we can get all file names present in that zip file by using namelist() method.  \n",
    "\n",
    "names = f.namelist()  "
   ]
  },
  {
   "cell_type": "code",
   "execution_count": null,
   "id": "6b51de0b",
   "metadata": {},
   "outputs": [],
   "source": [
    "# Eg:  \n",
    "\n",
    "from zipfile import * \n",
    "f=ZipFile(\"files.zip\",'r',ZIP_STORED) \n",
    "names=f.namelist() \n",
    "for name in names: \n",
    "    print( \"File Name: \",name) \n",
    "    print(\"The Content of this file is:\") \n",
    "    f1=open(name,'r') \n",
    "    print(f1.read()) \n",
    "    print()"
   ]
  },
  {
   "cell_type": "markdown",
   "id": "91b196a9",
   "metadata": {},
   "source": [
    "### <u>Working with Directories:</u>  \n",
    "\n",
    "It is very common requirement to perform operations for directories like  \n",
    "\n",
    "1.To know current working directory  \n",
    "2.To create a new directory  \n",
    "3.To remove an existing directory  \n",
    "4.To rename a directory  \n",
    "5.To list contents of the directory  \n",
    "etc...  "
   ]
  },
  {
   "cell_type": "markdown",
   "id": "64985e44",
   "metadata": {},
   "source": [
    "To perform these operations,Python provides inbuilt module os,which contains several functions to perform directory related operations.  \n",
    "\n",
    "<u>Q1. To Know Current Working Directory:</u>  \n",
    "```\n",
    "import os  \n",
    "cwd=os.getcwd()  \n",
    "print(\"Current Working Directory:\",cwd)  \n",
    "```\n",
    "<u>Q2. To create a sub directory in the current working directory:</u>  \n",
    "```\n",
    "import os  \n",
    "os.mkdir(\"mysub\")  \n",
    "print(\"mysub directory created in cwd\")  \n",
    "```\n",
    "<u>Q3. To create a sub directory in mysub directory:</u>  \n",
    "\n",
    " cwd  \n",
    " |-mysub  \n",
    " |-mysub2 \n",
    "``` \n",
    "import os  \n",
    "os.mkdir(\"mysub/mysub2\")  \n",
    "print(\"mysub2 created inside mysub\")  \n",
    "```\n",
    "\n",
    "<u>Note:</u> Assume mysub already present in cwd.  \n",
    "\n",
    "<u>Q4. To create multiple directories like sub1 in that sub2 in that sub3:</u>  \n",
    "```\n",
    "import os  \n",
    "os.makedirs(\"sub1/sub2/sub3\")  \n",
    "print(\"sub1 and in that sub2 and in that sub3 directories created\")  \n",
    "```\n",
    "<u>Q5. To remove a directory:</u>  \n",
    "```\n",
    "import os  \n",
    "os.rmdir(\"mysub/mysub2\")  \n",
    "print(\"mysub2 directory deleted\")  \n",
    "```\n",
    "<u>Q6. To remove multiple directories in the path:</u>  \n",
    "```\n",
    "import os  \n",
    "os.removedirs(\"sub1/sub2/sub3\")  \n",
    "print(\"All 3 directories sub1,sub2 and sub3 removed\")  \n",
    "```\n",
    "<u>Q7. To rename a directory:</u>  \n",
    "```\n",
    "import os  \n",
    "os.rename(\"mysub\",\"newdir\")  \n",
    "print(\"mysub directory renamed to newdir\")  \n",
    "```\n",
    "<u>Q8. To know contents of directory:</u>  \n",
    "\n",
    "os module provides listdir() to list out the contents of the specified directory. It won't display the contents of sub directory.  "
   ]
  },
  {
   "cell_type": "code",
   "execution_count": 3,
   "id": "95c4bcbf",
   "metadata": {},
   "outputs": [
    {
     "name": "stdout",
     "output_type": "stream",
     "text": [
      "['.ipynb_checkpoints', '100_numpy_exercises.ipynb', 'abc.txt', 'argv.py', 'Basic and data type.ipynb', 'classwork.ipynb', 'Containers.ipynb', 'data_visualization_guide.ipynb', 'Dictionary Data Structure.ipynb', 'Exception Handling.ipynb', 'File Handling.ipynb', 'FinalStart.ipynb', 'first-steps-with-python.ipynb', 'Flow Control.ipynb', 'FUNCTIONS.ipynb', 'italy-covid-daywise.csv', 'Modules.ipynb', 'Mutable and Immutable Object.ipynb', 'numpy_array_operations.ipynb', 'Numpy_final.ipynb', 'Operators.ipynb', 'Operators_Control_Structures_Number_Random_String.ipynb', 'Packages.ipynb', 'pandas_practice_assignment.ipynb', 'Practical 1', 'Practical-1.ipynb', \"Python's Exception Hierarchy.ipynb\", 'python-branching-and-loops.ipynb', 'python-functions-and-scope.ipynb', 'python-numerical-computing-with-numpy.ipynb', 'python-os-and-filesystem.ipynb', 'python-practice-assignment.ipynb', 'python-variables-and-data-types.ipynb', 'python_matplotlib_data_visualization.ipynb', 'python_numerical_computing_with_numpy.ipynb', 'python_os_and_filesystem.ipynb', 'python_pandas_data_analysis.ipynb', 'Set Data Structure.ipynb', 'Start.ipynb', 'String Data Type.ipynb', 'Test.ipynb', 'Test.py', 'Test1.py', 'test12.py', 'Tuple Data Structure.ipynb', 'Untitled.ipynb', '_PYTHON_LOGGING.ipynb', '__pycache__']\n"
     ]
    }
   ],
   "source": [
    "# Eg:\n",
    "\n",
    "import os \n",
    "print(os.listdir(\".\")) "
   ]
  },
  {
   "cell_type": "markdown",
   "id": "86201906",
   "metadata": {},
   "source": [
    "The above program display contents of current working directory but not contents of sub directories.  \n",
    "\n",
    "If we want the contents of a directory including sub directories then we should go for walk() function.  \n",
    "\n",
    "<u>Q9. To know contents of directory including sub directories:</u>  \n",
    "\n",
    "We have to use walk() function. Can you please walk in the directory so that we can aware all contents of that directory \n",
    "\n",
    "os.walk(path,topdown=True,onerror=None,followlinks=False)  \n",
    " \n",
    "It returns an Iterator object whose contents can be displayed by using for loop  \n",
    " \n",
    "path-->Directory path. cwd means.  \n",
    "topdown=True --->Travel from top to bottom  \n",
    "onerror=None --->on error detected which function has to execute.  \n",
    "followlinks=True -->To visit directories pointed by symbolic links  "
   ]
  },
  {
   "cell_type": "code",
   "execution_count": null,
   "id": "805aa98e",
   "metadata": {},
   "outputs": [],
   "source": [
    "# Eg: To display all contents of Current working directory including sub directories:\n",
    "\n",
    "import os \n",
    "for dirpath,dirnames,filenames in os.walk('.'): \n",
    "    print(\"Current Directory Path:\",dirpath) \n",
    "    print(\"Directories:\",dirnames) \n",
    "    print(\"Files:\",filenames) \n",
    "    print()"
   ]
  },
  {
   "cell_type": "markdown",
   "id": "10700c1f",
   "metadata": {},
   "source": [
    "<u>Note:</u> To display contents of particular directory,we have to provide that directory name as argument to walk() function.  \n",
    "```\n",
    "os.walk(\"directoryname\")  \n",
    "```\n",
    "### <u>Q What is the difference between listdir() and walk() functions?</u>  \n",
    "\n",
    "In the case of listdir(), we will get contents of specified directory but not sub directory contents. But in the case of walk() function we will get contents of specified directory and its sub directories also.  \n",
    "\n",
    "### <u>Running Other programs from Python program:</u>  \n",
    "\n",
    "os module contains system() function to run programs and commands.\n",
    "\n",
    "It is exactly same as system() function in C language.  \n",
    "```\n",
    "os.system(\"commad string\")\n",
    "```\n",
    "The argument is any command which is executing from DOS.   \n",
    " \n",
    "Eg:\n",
    "```\n",
    "import os  \n",
    "os.system(\"dir *.py\")  \n",
    "os.system(\"py abc.py\")  \n",
    "```\n",
    "\n",
    "#### <u>How to get information about a File:</u>  \n",
    "\n",
    "We can get statistics of a file like size, last accessed time,last modified time etc by using stat() function of os module.  \n",
    "\n",
    "**stats = os.stat(\"abc.txt\")**   \n",
    "\n",
    "The statistics of a file includes the following parameters:  \n",
    "\n",
    "st_mode==>Protection Bits  \n",
    "st_ino==>Inode number  \n",
    "st_dev===>device  \n",
    "st_nlink===>no of hard links  \n",
    "st_uid===>userid of owner  \n",
    "st_gid==>group id of owner  \n",
    "st_size===>size of file in bytes  \n",
    "st_atime==>Time of most recent access  \n",
    "st_mtime==>Time of Most recent modification   \n",
    "st_ctime==> Time of Most recent meta data change  \n",
    "\n",
    "\n",
    "**<u>Note:</u>**  \n",
    "\n",
    "st_atime, st_mtime and st_ctime returns the time as number of milli seconds since Jan 1st 1970, 12:00AM. By using datetime module fromtimestamp() function,we can get exact date and time.  \n",
    "\n",
    "\n",
    "**<u>Q. To print all statistics of file abc.txt:</u>**    "
   ]
  },
  {
   "cell_type": "code",
   "execution_count": 4,
   "id": "53bfe2eb",
   "metadata": {},
   "outputs": [
    {
     "name": "stdout",
     "output_type": "stream",
     "text": [
      "os.stat_result(st_mode=33206, st_ino=58265320179245154, st_dev=2193563674, st_nlink=1, st_uid=0, st_gid=0, st_size=24, st_atime=1676002076, st_mtime=1676001989, st_ctime=1676001989)\n"
     ]
    }
   ],
   "source": [
    "import os \n",
    "stats=os.stat(\"abc.txt\") \n",
    "print(stats)"
   ]
  },
  {
   "cell_type": "markdown",
   "id": "725492da",
   "metadata": {},
   "source": [
    "**<u>Q. To print specified properties:</u>**"
   ]
  },
  {
   "cell_type": "code",
   "execution_count": 5,
   "id": "70db1480",
   "metadata": {},
   "outputs": [
    {
     "name": "stdout",
     "output_type": "stream",
     "text": [
      "File Size in Bytes: 24\n",
      "File Last Accessed Time: 2023-02-10 09:37:56.428279\n",
      "File Last Modified Time: 2023-02-10 09:36:29.711980\n"
     ]
    }
   ],
   "source": [
    "import os \n",
    "from datetime import * \n",
    "stats=os.stat(\"abc.txt\") \n",
    "print(\"File Size in Bytes:\",stats.st_size) \n",
    "print(\"File Last Accessed Time:\",datetime.fromtimestamp(stats.st_atime)) \n",
    "print(\"File Last Modified Time:\",datetime.fromtimestamp(stats.st_mtime))"
   ]
  },
  {
   "attachments": {
    "image.png": {
     "image/png": "[encoded data removed]"
    }
   },
   "cell_type": "markdown",
   "id": "951f3491",
   "metadata": {},
   "source": [
    "## <u>Pickling and Unpickling of Objects:</u>  \n",
    "\n",
    "Sometimes we have to write total state of object to the file and we have to read total object from the file.  \n",
    "\n",
    "The process of writing state of object to the file is called pickling and the process of reading state of an object from the file is called unpickling.   \n",
    "\n",
    "We can implement pickling and unpickling by using pickle module of Python.  \n",
    "\n",
    "pickle module contains dump() function to perform pickling.  \n",
    "\n",
    "**pickle.dump(object,file)**  \n",
    "\n",
    "pickle module contains load() function to perform unpickling  \n",
    "\n",
    "**obj=pickle.load(file)**  \n",
    "\n",
    "![image.png](attachment:image.png)"
   ]
  },
  {
   "cell_type": "markdown",
   "id": "1b7ec364",
   "metadata": {},
   "source": [
    "### <u>Writing and Reading State of object by using pickle Module:</u>"
   ]
  },
  {
   "cell_type": "code",
   "execution_count": null,
   "id": "481e5b7a",
   "metadata": {},
   "outputs": [],
   "source": [
    "import pickle \n",
    "class Employee: \n",
    "    def __init__(self,eno,ename,esal,eaddr): \n",
    "        self.eno=eno; \n",
    "        self.ename=ename; \n",
    "        self.esal=esal; \n",
    "        self.eaddr=eaddr; \n",
    "    def display(self): \n",
    "        print(self.eno,\"\\t\",self.ename,\"\\t\",self.esal,\"\\t\",self.eaddr) \n",
    "with open(\"emp.dat\",\"wb\") as f: \n",
    "    e=Employee(100,\"Durga\",1000,\"Hyd\") \n",
    "    pickle.dump(e,f) \n",
    "    print(\"Pickling of Employee Object completed...\") \n",
    " \n",
    "with open(\"emp.dat\",\"rb\") as f: \n",
    "    obj=pickle.load(f) \n",
    "    print(\"Printing Employee Information after unpickling\") \n",
    "    obj.display()"
   ]
  },
  {
   "cell_type": "markdown",
   "id": "df30c7f6",
   "metadata": {},
   "source": [
    "### <u>Writing Multiple Employee Objects to the file:</u>  \n",
    "\n",
    "\n",
    "**<u>emp.py:</u>**"
   ]
  },
  {
   "cell_type": "code",
   "execution_count": 8,
   "id": "76f14c14",
   "metadata": {},
   "outputs": [],
   "source": [
    "class Employee: \n",
    "    def __init__(self,eno,ename,esal,eaddr): \n",
    "        self.eno=eno; \n",
    "        self.ename=ename; \n",
    "        self.esal=esal; \n",
    "        self.eaddr=eaddr; \n",
    "    def display(self): \n",
    "        print(self.eno,\"\\t\",self.ename,\"\\t\",self.esal,\"\\t\",self.eaddr)"
   ]
  },
  {
   "cell_type": "markdown",
   "id": "95b59fd3",
   "metadata": {},
   "source": [
    "**<u>pick.py:</u>**"
   ]
  },
  {
   "cell_type": "code",
   "execution_count": 9,
   "id": "69d87b8e",
   "metadata": {},
   "outputs": [
    {
     "ename": "ModuleNotFoundError",
     "evalue": "No module named 'emp'",
     "output_type": "error",
     "traceback": [
      "\u001b[1;31m---------------------------------------------------------------------------\u001b[0m",
      "\u001b[1;31mModuleNotFoundError\u001b[0m                       Traceback (most recent call last)",
      "Input \u001b[1;32mIn [9]\u001b[0m, in \u001b[0;36m<cell line: 1>\u001b[1;34m()\u001b[0m\n\u001b[1;32m----> 1\u001b[0m \u001b[38;5;28;01mimport\u001b[39;00m \u001b[38;5;21;01memp\u001b[39;00m\u001b[38;5;241m,\u001b[39m\u001b[38;5;21;01mpickle\u001b[39;00m \n\u001b[0;32m      2\u001b[0m f\u001b[38;5;241m=\u001b[39m\u001b[38;5;28mopen\u001b[39m(\u001b[38;5;124m\"\u001b[39m\u001b[38;5;124memp.dat\u001b[39m\u001b[38;5;124m\"\u001b[39m,\u001b[38;5;124m\"\u001b[39m\u001b[38;5;124mwb\u001b[39m\u001b[38;5;124m\"\u001b[39m) \n\u001b[0;32m      3\u001b[0m n\u001b[38;5;241m=\u001b[39m\u001b[38;5;28mint\u001b[39m(\u001b[38;5;28minput\u001b[39m(\u001b[38;5;124m\"\u001b[39m\u001b[38;5;124mEnter The number of Employees:\u001b[39m\u001b[38;5;124m\"\u001b[39m)) \n",
      "\u001b[1;31mModuleNotFoundError\u001b[0m: No module named 'emp'"
     ]
    }
   ],
   "source": [
    "import emp,pickle \n",
    "f=open(\"emp.dat\",\"wb\") \n",
    "n=int(input(\"Enter The number of Employees:\")) \n",
    "for i in range(n): \n",
    "    eno=int(input(\"Enter Employee Number:\")) \n",
    "    ename=input(\"Enter Employee Name:\") \n",
    "    esal=float(input(\"Enter Employee Salary:\")) \n",
    "    eaddr=input(\"Enter Employee Address:\") \n",
    "    e=emp.Employee(eno,ename,esal,eaddr) \n",
    "    pickle.dump(e,f) \n",
    "print(\"Employee Objects pickled successfully\")"
   ]
  },
  {
   "cell_type": "markdown",
   "id": "31900f91",
   "metadata": {},
   "source": [
    "**<u>unpick.py:</u>**"
   ]
  },
  {
   "cell_type": "code",
   "execution_count": null,
   "id": "c92704be",
   "metadata": {},
   "outputs": [],
   "source": [
    "import emp,pickle \n",
    "f=open(\"emp.dat\",\"rb\") \n",
    "print(\"Employee Details:\") \n",
    "while True: \n",
    "    try: \n",
    "        obj=pickle.load(f) \n",
    "        obj.display() \n",
    "    except EOFError: \n",
    "        print(\"All employees Completed\") \n",
    "         break \n",
    "f.close()"
   ]
  }
 ],
 "metadata": {
  "kernelspec": {
   "display_name": "Python 3 (ipykernel)",
   "language": "python",
   "name": "python3"
  },
  "language_info": {
   "codemirror_mode": {
    "name": "ipython",
    "version": 3
   },
   "file_extension": ".py",
   "mimetype": "text/x-python",
   "name": "python",
   "nbconvert_exporter": "python",
   "pygments_lexer": "ipython3",
   "version": "3.9.12"
  }
 },
 "nbformat": 4,
 "nbformat_minor": 5
}
