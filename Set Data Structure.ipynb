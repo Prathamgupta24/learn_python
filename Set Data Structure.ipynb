{
 "cells": [
  {
   "cell_type": "markdown",
   "id": "994dddaf",
   "metadata": {},
   "source": [
    "# <u>Set Data Structure</u>"
   ]
  },
  {
   "cell_type": "markdown",
   "id": "1b00b243",
   "metadata": {},
   "source": [
    "-  If we want to represent a group of unique values as a single entity then we should go for set.  \n",
    "-   Duplicates are not allowed.  \n",
    "-  Insertion order is not preserved.But we can sort the elements.  \n",
    "-  Indexing and slicing not allowed for the set.  \n",
    "-  Heterogeneous elements are allowed.  \n",
    "-  Set objects are mutable i.e once we creates set object we can perform any changes in that object based on our requirement.  \n",
    "-  We can represent set elements within curly braces and with comma seperation  \n",
    "-  We can apply mathematical operations like union,intersection,difference etc on set objects.  "
   ]
  },
  {
   "cell_type": "markdown",
   "id": "f8b0007b",
   "metadata": {},
   "source": [
    "**<u>Creation of Set objects:</u>**"
   ]
  },
  {
   "cell_type": "code",
   "execution_count": 2,
   "id": "615291ed",
   "metadata": {},
   "outputs": [
    {
     "name": "stdout",
     "output_type": "stream",
     "text": [
      "{40, 10, 20, 30}\n",
      "<class 'set'>\n"
     ]
    }
   ],
   "source": [
    "s={10,20,30,40} \n",
    "print(s) \n",
    "print(type(s)) "
   ]
  },
  {
   "cell_type": "markdown",
   "id": "8a29b5fd",
   "metadata": {},
   "source": [
    "We can create set objects by using set() function\n",
    "\n",
    "s=set(any sequence)"
   ]
  },
  {
   "cell_type": "code",
   "execution_count": 6,
   "id": "080fb7e1",
   "metadata": {},
   "outputs": [
    {
     "name": "stdout",
     "output_type": "stream",
     "text": [
      "{40, 10, 20, 30}\n"
     ]
    }
   ],
   "source": [
    "l = [10,20,30,40,10,20,10] \n",
    "s=set(l) \n",
    "print(s) "
   ]
  },
  {
   "cell_type": "code",
   "execution_count": 7,
   "id": "0ebb5c6e",
   "metadata": {},
   "outputs": [
    {
     "name": "stdout",
     "output_type": "stream",
     "text": [
      "{0, 1, 2, 3, 4}\n"
     ]
    }
   ],
   "source": [
    "s=set(range(5)) \n",
    "print(s)"
   ]
  },
  {
   "cell_type": "markdown",
   "id": "e1f9cf9b",
   "metadata": {},
   "source": [
    "Note: While creating empty set we have to take special care.\n",
    "Compulsory we should use set() function.  \n",
    "\n",
    "s={} ==>It is treated as dictionary but not empty set."
   ]
  },
  {
   "cell_type": "code",
   "execution_count": 8,
   "id": "3017efc8",
   "metadata": {},
   "outputs": [
    {
     "name": "stdout",
     "output_type": "stream",
     "text": [
      "{}\n",
      "<class 'dict'>\n"
     ]
    }
   ],
   "source": [
    "s={} \n",
    "print(s) \n",
    "print(type(s))"
   ]
  },
  {
   "cell_type": "raw",
   "id": "d16e1d3b",
   "metadata": {},
   "source": [
    "s=set() \n",
    "print(s) \n",
    "print(type(s))"
   ]
  },
  {
   "cell_type": "markdown",
   "id": "8d1eb177",
   "metadata": {},
   "source": [
    "<u>Important functions of set:</u>"
   ]
  },
  {
   "cell_type": "markdown",
   "id": "4b8cb9d8",
   "metadata": {},
   "source": [
    "<u>1.add(x):</u>  \n",
    "\n",
    "Adds item x to the set"
   ]
  },
  {
   "cell_type": "code",
   "execution_count": 12,
   "id": "4a7536bb",
   "metadata": {},
   "outputs": [
    {
     "name": "stdout",
     "output_type": "stream",
     "text": [
      "{40, 10, 20, 30}\n"
     ]
    }
   ],
   "source": [
    "s={10,20,30} \n",
    "s.add(40); \n",
    "print(s) "
   ]
  },
  {
   "cell_type": "markdown",
   "id": "50170201",
   "metadata": {},
   "source": [
    "<u>2. update(x,y,z):</u>\n",
    "\n",
    "To add multiple items to the set.  \n",
    "Arguments are not individual elements and these are Iterable objects like List,range etc.  \n",
    "All elements present in the given Iterable objects will be added to the set.  "
   ]
  },
  {
   "cell_type": "code",
   "execution_count": 13,
   "id": "2f9c4477",
   "metadata": {},
   "outputs": [
    {
     "name": "stdout",
     "output_type": "stream",
     "text": [
      "{0, 1, 2, 3, 4, 40, 10, 50, 20, 60, 30}\n"
     ]
    }
   ],
   "source": [
    "s={10,20,30} \n",
    "l=[40,50,60,10] \n",
    "s.update(l,range(5)) \n",
    "print(s)"
   ]
  },
  {
   "cell_type": "markdown",
   "id": "9d809167",
   "metadata": {},
   "source": [
    "Q. What is the difference between add() and update() functions in set?\n",
    "\n",
    "We can use add() to add individual item to the Set, where as we can use update() function to add multiple items to Set.  \n",
    "\n",
    "add() function can take only one argument where as update() function can take any number of arguments but all arguments should be iterable objects.  \n",
    "\n",
    "Q. Which of the following are valid for set s?  \n",
    "\n",
    "```\n",
    "1. s.add(10)\n",
    "2. s.add(10,20,30) TypeError: add() takes exactly one argument (3 given)\n",
    "3. s.update(10) TypeError: 'int' object is not iterable\n",
    "4. s.update(range(1,10,2),range(0,10,2))  \n",
    "```"
   ]
  },
  {
   "cell_type": "markdown",
   "id": "d4dd9fd0",
   "metadata": {},
   "source": [
    "<u>3. copy():</u>  \n",
    "Returns copy of the set.  \n",
    "It is cloned object.  \n",
    "```\n",
    "s={10,20,30}  \n",
    "s1=s.copy()  \n",
    "print(s1) \n",
    "```"
   ]
  },
  {
   "cell_type": "markdown",
   "id": "ae40c01c",
   "metadata": {},
   "source": [
    "<u>4. pop():</u>  \n",
    "It removes and returns some random element from the set."
   ]
  },
  {
   "cell_type": "code",
   "execution_count": 15,
   "id": "dbbc6e01",
   "metadata": {},
   "outputs": [
    {
     "name": "stdout",
     "output_type": "stream",
     "text": [
      "{40, 10, 20, 30}\n",
      "40\n",
      "{10, 20, 30}\n"
     ]
    }
   ],
   "source": [
    "s={40,10,30,20} \n",
    "print(s) \n",
    "print(s.pop()) \n",
    "print(s)"
   ]
  },
  {
   "cell_type": "markdown",
   "id": "e6f35390",
   "metadata": {},
   "source": [
    "<u>5. remove(x):</u>   \n",
    "\n",
    "It removes specified element from the set.   \n",
    "If the specified element not present in the Set then we will get KeyError"
   ]
  },
  {
   "cell_type": "code",
   "execution_count": 1,
   "id": "3e85c467",
   "metadata": {},
   "outputs": [
    {
     "name": "stdout",
     "output_type": "stream",
     "text": [
      "{40, 10, 20}\n"
     ]
    }
   ],
   "source": [
    "s={40,10,30,20}\n",
    "s.remove(30)\n",
    "print(s) \n",
    "#s.remove(50) "
   ]
  },
  {
   "cell_type": "markdown",
   "id": "75ae4557",
   "metadata": {},
   "source": [
    "<u>6. discard(x):</u>  \n",
    "\n",
    "It removes the specified element from the set.  \n",
    "If the specified element not present in the set then we won't get any error.  "
   ]
  },
  {
   "cell_type": "code",
   "execution_count": 22,
   "id": "49dac8a7",
   "metadata": {},
   "outputs": [
    {
     "name": "stdout",
     "output_type": "stream",
     "text": [
      "{20, 30}\n",
      "{20, 30}\n"
     ]
    }
   ],
   "source": [
    "s={10,20,30}\n",
    "s.discard(10)\n",
    "print(s)\n",
    "s.discard(50)\n",
    "print(s) "
   ]
  },
  {
   "cell_type": "markdown",
   "id": "40daa9b9",
   "metadata": {},
   "source": [
    "Q. What is the difference between remove() and discard() functions in Set?  \n",
    "Q. Explain differences between pop(),remove() and discard() functionsin Set?  "
   ]
  },
  {
   "cell_type": "markdown",
   "id": "4d2a3933",
   "metadata": {},
   "source": [
    "<u>7.clear():</u>  \n",
    "\n",
    "To remove all elements from the Set.  "
   ]
  },
  {
   "cell_type": "code",
   "execution_count": 24,
   "id": "3f5f2418",
   "metadata": {},
   "outputs": [
    {
     "name": "stdout",
     "output_type": "stream",
     "text": [
      "{10, 20, 30}\n",
      "set()\n"
     ]
    }
   ],
   "source": [
    "s={10,20,30} \n",
    "print(s) \n",
    "s.clear() \n",
    "print(s)"
   ]
  },
  {
   "cell_type": "markdown",
   "id": "ae9fa8bf",
   "metadata": {},
   "source": [
    "### <u>Mathematical operations on the Set:</u>"
   ]
  },
  {
   "cell_type": "markdown",
   "id": "7e2e41b1",
   "metadata": {},
   "source": [
    "<u>1.union():</u>  \n",
    "\n",
    "x.union(y) ==>We can use this function to return all elements present in both sets  \n",
    "\n",
    "x.union(y) or x|y  \n",
    "\n",
    "Eg:"
   ]
  },
  {
   "cell_type": "code",
   "execution_count": 25,
   "id": "6fcc2c2e",
   "metadata": {},
   "outputs": [
    {
     "name": "stdout",
     "output_type": "stream",
     "text": [
      "{40, 10, 50, 20, 60, 30}\n",
      "{40, 10, 50, 20, 60, 30}\n"
     ]
    }
   ],
   "source": [
    "x={10,20,30,40}\n",
    "y={30,40,50,60}\n",
    "print(x.union(y)) \n",
    "print(x|y) "
   ]
  },
  {
   "cell_type": "markdown",
   "id": "ce5e2d8d",
   "metadata": {},
   "source": [
    "<u>2.intersection():</u> \n",
    "\n",
    "x.intersection(y) or x&y  \n",
    "\n",
    "Returns common elements present in both x and y  \n"
   ]
  },
  {
   "cell_type": "code",
   "execution_count": 26,
   "id": "09b9f0f5",
   "metadata": {},
   "outputs": [
    {
     "name": "stdout",
     "output_type": "stream",
     "text": [
      "{40, 30}\n",
      "{40, 30}\n"
     ]
    }
   ],
   "source": [
    "x={10,20,30,40}\n",
    "y={30,40,50,60}\n",
    "print(x.intersection(y))\n",
    "print(x&y)"
   ]
  },
  {
   "cell_type": "markdown",
   "id": "f1214421",
   "metadata": {},
   "source": [
    "<u>3.difference():</u>  \n",
    "\n",
    "x.difference(y) or x-y  \n",
    "returns the elements present in x but not in y  \n",
    "\n",
    "Eg:"
   ]
  },
  {
   "cell_type": "code",
   "execution_count": 27,
   "id": "b926c566",
   "metadata": {},
   "outputs": [
    {
     "name": "stdout",
     "output_type": "stream",
     "text": [
      "{10, 20}\n",
      "{10, 20}\n",
      "{50, 60}\n"
     ]
    }
   ],
   "source": [
    "x={10,20,30,40}\n",
    "y={30,40,50,60}\n",
    "print(x.difference(y)) #{10, 20}\n",
    "print(x-y) \n",
    "print(y-x) "
   ]
  },
  {
   "cell_type": "markdown",
   "id": "2e22c2bd",
   "metadata": {},
   "source": [
    "<u>4.symmetric_difference():</u>  \n",
    "\n",
    "x.symmetric_difference(y) or x^y  \n",
    "\n",
    "Returns elements present in either x or y but not in both  \n",
    "\n",
    "Eg:"
   ]
  },
  {
   "cell_type": "code",
   "execution_count": 28,
   "id": "59da0a67",
   "metadata": {},
   "outputs": [
    {
     "name": "stdout",
     "output_type": "stream",
     "text": [
      "{10, 50, 20, 60}\n",
      "{10, 50, 20, 60}\n"
     ]
    }
   ],
   "source": [
    "x={10,20,30,40}\n",
    "y={30,40,50,60}\n",
    "print(x.symmetric_difference(y)) \n",
    "print(x^y) "
   ]
  },
  {
   "cell_type": "markdown",
   "id": "628bb337",
   "metadata": {},
   "source": [
    "### <u>Membership operators: (in , not in)</u>  "
   ]
  },
  {
   "cell_type": "code",
   "execution_count": 40,
   "id": "f4ea2914",
   "metadata": {},
   "outputs": [
    {
     "name": "stdout",
     "output_type": "stream",
     "text": [
      "{'a', 'i', 'v', 's', 'l', 'h'}\n",
      "False\n",
      "False\n"
     ]
    }
   ],
   "source": [
    "s=set(\"vishal\") \n",
    "print(s) \n",
    "print('d' in s) \n",
    "print('z' in s) "
   ]
  },
  {
   "cell_type": "markdown",
   "id": "e6699666",
   "metadata": {},
   "source": [
    "**<u>Set Comprehension:</u>**  \n",
    "\n",
    "Set comprehension is possible.  \n",
    "```\n",
    "s={x*x for x in range(5)}\n",
    "print(s) #{0, 1, 4, 9, 16}  \n",
    "\n",
    "s={2**x for x in range(2,10,2)}\n",
    "print(s) #{16, 256, 64, 4}\n",
    "```"
   ]
  },
  {
   "cell_type": "markdown",
   "id": "ecc36fce",
   "metadata": {},
   "source": [
    "**<u>set objects won't support indexing and slicing:</u>**  \n",
    "```\n",
    "s={10,20,30,40}  \n",
    "print(s[0])     ==>TypeError: 'set' object does not support indexing  \n",
    "print(s[1:3])    ==>TypeError: 'set' object is not subscriptable\n",
    "```"
   ]
  },
  {
   "cell_type": "markdown",
   "id": "83a89727",
   "metadata": {},
   "source": [
    "<u>Q.Write a program to eliminate duplicates present in the list?</u>"
   ]
  },
  {
   "cell_type": "markdown",
   "id": "43dc442d",
   "metadata": {},
   "source": [
    "Approach-1:"
   ]
  },
  {
   "cell_type": "code",
   "execution_count": 37,
   "id": "984dae3d",
   "metadata": {},
   "outputs": [
    {
     "name": "stdout",
     "output_type": "stream",
     "text": [
      "Enter List of values: 10,20,30,10,20,40\n",
      "{40, 10, 20, 30}\n"
     ]
    }
   ],
   "source": [
    "l=eval(input(\"Enter List of values: \")) \n",
    "s=set(l) \n",
    "print(s)"
   ]
  },
  {
   "cell_type": "markdown",
   "id": "92e7f052",
   "metadata": {},
   "source": [
    "Approach-2:"
   ]
  },
  {
   "cell_type": "code",
   "execution_count": 38,
   "id": "8e826b6b",
   "metadata": {},
   "outputs": [
    {
     "name": "stdout",
     "output_type": "stream",
     "text": [
      "Enter List of values: 10,20,30,10,20,40\n",
      "[10, 20, 30, 40]\n"
     ]
    }
   ],
   "source": [
    "l=eval(input(\"Enter List of values: \")) \n",
    "l1=[] \n",
    "for x in l: \n",
    "    if x not in l1: \n",
    "        l1.append(x) \n",
    "print(l1)"
   ]
  },
  {
   "cell_type": "markdown",
   "id": "c8676ed9",
   "metadata": {},
   "source": [
    "<u>Q. Write a program to print different vowels present in the given word?</u>"
   ]
  },
  {
   "cell_type": "code",
   "execution_count": 39,
   "id": "9f773d19",
   "metadata": {},
   "outputs": [
    {
     "name": "stdout",
     "output_type": "stream",
     "text": [
      "Enter word to search for vowels: vishal\n",
      "The different vowel present in vishal are {'a', 'i'}\n"
     ]
    }
   ],
   "source": [
    "w=input(\"Enter word to search for vowels: \") \n",
    "s=set(w) \n",
    "v={'a','e','i','o','u'} \n",
    "d=s.intersection(v) \n",
    "print(\"The different vowel present in\",w,\"are\",d) \n"
   ]
  }
 ],
 "metadata": {
  "kernelspec": {
   "display_name": "Python 3 (ipykernel)",
   "language": "python",
   "name": "python3"
  },
  "language_info": {
   "codemirror_mode": {
    "name": "ipython",
    "version": 3
   },
   "file_extension": ".py",
   "mimetype": "text/x-python",
   "name": "python",
   "nbconvert_exporter": "python",
   "pygments_lexer": "ipython3",
   "version": "3.9.12"
  }
 },
 "nbformat": 4,
 "nbformat_minor": 5
}
