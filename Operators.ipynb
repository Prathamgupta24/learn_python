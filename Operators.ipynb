{
 "cells": [
  {
   "cell_type": "markdown",
   "id": "65c13d76",
   "metadata": {},
   "source": [
    "# Operators\n",
    "\n",
    "Operator is a symbol that performs certain operations.\n",
    "\n",
    "Python provides the following set of operators\n",
    "\n",
    "1. Arithmetic Operators\n",
    "\n",
    "2. Relational Operators or Comparison Operators\n",
    "\n",
    "3. Logical operators\n",
    "\n",
    "4. Bitwise oeprators\n",
    "\n",
    "5. Assignment operators\n",
    "\n",
    "6. Special operators\n",
    "\n",
    "## 1. Arithmetic Operators:\n",
    "```\n",
    "+ ==>Addition\n",
    "\n",
    "- ==>Subtraction\n",
    "\n",
    "* ==>Multiplication\n",
    "\n",
    "/ ==>Division operator\n",
    "\n",
    "% ===>Modulo operator\n",
    "\n",
    "// ==>Floor Division operator\n",
    "\n",
    "** ==>Exponent operator or power operator\n",
    "```"
   ]
  },
  {
   "cell_type": "code",
   "execution_count": null,
   "id": "9e23a044",
   "metadata": {},
   "outputs": [],
   "source": [
    "a=10\n",
    "b=2\n",
    "print('a+b=',a+b)\n",
    "print('a-b=',a-b)\n",
    "print('a*b=',a*b)\n",
    "print('a/b=',a/b)\n",
    "print('a//b=',a//b)\n",
    "print('a%b=',a%b)\n",
    "print('a**b=',a**b)"
   ]
  },
  {
   "cell_type": "markdown",
   "id": "5b9fa9b3",
   "metadata": {},
   "source": [
    "Note: / operator always performs floating point arithmetic. Hence it will always returns float value.\n",
    "\n",
    "But Floor division (//) can perform both floating point and integral arithmetic. If arguments are int type then result is int type. If atleast one argument is float type then result is float type.\n",
    "\n",
    "Note:\n",
    "\n",
    "We can use +,* operators for str type also.\n",
    "\n",
    "If we want to use + operator for str type then compulsory both arguments should be str type only otherwise we will get error."
   ]
  },
  {
   "cell_type": "code",
   "execution_count": null,
   "id": "21ddd4b1",
   "metadata": {},
   "outputs": [],
   "source": [
    "#'vishal'+10\n",
    "'vishal'+'10'"
   ]
  },
  {
   "cell_type": "markdown",
   "id": "baffc831",
   "metadata": {},
   "source": [
    "If we use * operator for str type then compulsory one argument should be int and other argument should be str type."
   ]
  },
  {
   "cell_type": "code",
   "execution_count": null,
   "id": "906a2f77",
   "metadata": {},
   "outputs": [],
   "source": [
    "2*'vishal'\n",
    "'vishal'*2\n",
    "#2.5*'vishal'\n",
    "#'vishal'*'vishal'"
   ]
  },
  {
   "cell_type": "markdown",
   "id": "69822f28",
   "metadata": {},
   "source": [
    "+ ===>String concatenation operator\n",
    "\n",
    "* ===>String multiplication operator\n",
    "\n",
    "Note: For any number x,\n",
    "\n",
    "x/0 and x%0 always raises \"ZeroDivisionError\"\n",
    "\n",
    "## Relational Operators:\n",
    "```\n",
    ">,>=,<,<=\n",
    "```"
   ]
  },
  {
   "cell_type": "code",
   "execution_count": null,
   "id": "cd26afef",
   "metadata": {},
   "outputs": [],
   "source": [
    "a=10\n",
    "b=20\n",
    "print(\"a > b is \",a>b)\n",
    "print(\"a >= b is \",a>=b)\n",
    "print(\"a < b is \",a<b)\n",
    "print(\"a <= b is \",a<=b)"
   ]
  },
  {
   "cell_type": "markdown",
   "id": "8d3c36fa",
   "metadata": {},
   "source": [
    "We can apply relational operators for str types also"
   ]
  },
  {
   "cell_type": "code",
   "execution_count": null,
   "id": "ab749ec2",
   "metadata": {},
   "outputs": [],
   "source": [
    "a=\"vishal\"\n",
    "b=\"vishal\"\n",
    "print(\"a > b is \",a>b)\n",
    "print(\"a >= b is \",a>=b)\n",
    "print(\"a < b is \",a<b)\n",
    "print(\"a <= b is \",a<=b)"
   ]
  },
  {
   "cell_type": "code",
   "execution_count": null,
   "id": "14fb2da6",
   "metadata": {},
   "outputs": [],
   "source": [
    "print(True>True) \n",
    "print(True>=True)\n",
    "rint(10 >True) \n",
    "print(False > True)\n",
    "#print(10>'vishal')"
   ]
  },
  {
   "cell_type": "code",
   "execution_count": null,
   "id": "62a5aa62",
   "metadata": {},
   "outputs": [],
   "source": [
    "a=10\n",
    "b=20\n",
    "if(a>b):\n",
    "    print(\"a is greater than b\")\n",
    "else:\n",
    "    print(\"a is not greater than b\") "
   ]
  },
  {
   "cell_type": "markdown",
   "id": "029b0e0f",
   "metadata": {},
   "source": [
    "Note: Chaining of relational operators is possible. In the chaining, if all comparisons returns True then only result is True. If atleast one comparison returns False then the result is False\n",
    "```\n",
    "1) 10<20 ==>True\n",
    "2) 10<20<30 ==>True\n",
    "3) 10<20<30<40 ==>True\n",
    "4) 10<20<30<40>50 ==>False\n",
    "```"
   ]
  },
  {
   "cell_type": "markdown",
   "id": "332c3786",
   "metadata": {},
   "source": [
    "# equality operators:\n",
    "\n",
    "== , !=\n",
    "\n",
    "We can apply these operators for any type even for incompatible types also\n",
    "```\n",
    "1) 10==20 ==> False\n",
    "2) 10!=20 ==> True\n",
    "3) 10==True ==> False\n",
    "4) False==False ==> True\n",
    "5) 'vishal'=='vishal' ==> True\n",
    "6) 10=='vishal' ==> False\n",
    "```\n",
    "Note: Chaining concept is applicable for equality operators. If atleast one comparison returns False then the result is False. otherwise the result is True\n",
    "```\n",
    "1) 10==20==30==40 ==> False\n",
    "2) 10==10==10==10 ==> True\n",
    "```"
   ]
  },
  {
   "cell_type": "markdown",
   "id": "0fc243bf",
   "metadata": {},
   "source": [
    "## Logical Operators:\n",
    "\n",
    "and, or ,not\n",
    "\n",
    "We can apply for all types.\n",
    "\n",
    "For boolean types behaviour:\n",
    "\n",
    "and ==>If both arguments are True then only result is True\n",
    "\n",
    "or ====>If atleast one arugemnt is True then result is True\n",
    "\n",
    "not ==>complement\n",
    "```\n",
    "1) True and False ==>False\n",
    "\n",
    "2) True or False ===>True\n",
    "\n",
    "3) not False ==>True\n",
    "```\n",
    "For non-boolean types behaviour:\n",
    "\n",
    "0 means False\n",
    "\n",
    "non-zero means True\n",
    "\n",
    "empty string is always treated as False\n",
    "\n",
    "x and y:\n",
    "\n",
    "==>if x is evaluates to false return x otherwise return y\n",
    "\n",
    "Eg:\n",
    "```\n",
    "10 and 20\n",
    "\n",
    "0 and 20\n",
    "```\n",
    "If first argument is zero then result is zero otherwise result is y\n",
    "\n",
    "x or y:\n",
    "\n",
    "If x evaluates to True then result is x otherwise result is y\n",
    "```\n",
    "1) 10 or 20 ==> 10\n",
    "\n",
    "2) 0 or 20 ==> 20\n",
    "```\n",
    "not x:\n",
    "\n",
    "If x is evalutates to False then result is True otherwise False\n",
    "```\n",
    "1) not 10 ==>False\n",
    "\n",
    "2) not 0 ==>True\n",
    "```\n",
    "Examples:\n",
    "```\n",
    "1) \"vishal\" and \"parikh\" ==>parikh\n",
    "2) \"\" and \"vishal\" ==>''\n",
    "3) \"vishal\" and \"\" ==>''\n",
    "4) \"\" or \"vishal\" ==>'vishal'\n",
    "5) \"vishal\" or \"\"==>'vishal'\n",
    "6) not \"\"==>True\n",
    "7) not \"vishal\" ==>False\n",
    "```"
   ]
  },
  {
   "cell_type": "markdown",
   "id": "d40b8f3f",
   "metadata": {},
   "source": [
    "# Bitwise Operators:\n",
    "\n",
    "We can apply these operators bitwise.\n",
    "\n",
    "These operators are applicable only for int and boolean types.\n",
    "\n",
    "By mistake if we are trying to apply for any other type then we will get Error.\n",
    "\n",
    "&,|,^,~,<<,>>"
   ]
  },
  {
   "cell_type": "code",
   "execution_count": null,
   "id": "6da453d8",
   "metadata": {},
   "outputs": [],
   "source": [
    "print(4&5)\n",
    "#print(10.5 & 5.6)\n",
    "print(True & True)"
   ]
  },
  {
   "attachments": {
    "image-2.png": {
     "image/png": "[encoded data removed]"
    },
    "image-3.png": {
     "image/png": "[encoded data removed]"
    },
    "image.png": {
     "image/png": "[encoded data removed]"
    }
   },
   "cell_type": "markdown",
   "id": "db338625",
   "metadata": {},
   "source": [
    "```\n",
    "& ==> If both bits are 1 then only result is 1 otherwise result is 0\n",
    "\n",
    "| ==> If atleast one bit is 1 then result is 1 otherwise result is 0\n",
    "\n",
    "^ ==>If bits are different then only result is 1 otherwise result is 0\n",
    "\n",
    "~ ==>bitwise complement operator\n",
    "\n",
    "1==>0 & 0==>1\n",
    "\n",
    "<< ==>Bitwise Left shift\n",
    "\n",
    ">> ==>Bitwise Right Shift\n",
    "\n",
    "print(4&5) ==>4\n",
    "\n",
    "print(4|5) ==>5\n",
    "\n",
    "print(4^5) ==>1\n",
    "```\n",
    "![image.png](attachment:image.png)\n",
    "\n",
    "bitwise complement operator(~):\n",
    "\n",
    "We have to apply complement for total bits.\n",
    "\n",
    "Eg: print(~5) ==>-6\n",
    "\n",
    "Note:\n",
    "\n",
    "The most significant bit acts as sign bit. 0 value represents +ve number where as 1 represents -ve value.\n",
    "\n",
    "positive numbers will be repesented directly in the memory where as -ve numbers will be represented indirectly in 2's complement form.\n",
    "\n",
    "Shift Operators:\n",
    "\n",
    "<< Left shift operator\n",
    "\n",
    "After shifting the empty cells we have to fill with zero\n",
    "```\n",
    "print(10<<2)==>40\n",
    "```\n",
    "![image-2.png](attachment:image-2.png)\n",
    "\n",
    ">> Right Shift operator\n",
    "\n",
    "After shifting the empty cells we have to fill with sign bit.( 0 for +ve and 1 for -ve)\n",
    "```\n",
    "print(10>>2) ==>2\n",
    "```\n",
    "![image-3.png](attachment:image-3.png)\n",
    "\n",
    "We can apply bitwise operators for boolean types also\n",
    "```\n",
    "1) print(True & False) ==>False\n",
    "2) print(True | False) ===>True\n",
    "3) print(True ^ False) ==>True\n",
    "4) print(~True) ==>-2\n",
    "5) print(True<<2) ==>4\n",
    "6) print(True>>2) ==>0\n",
    "```"
   ]
  },
  {
   "cell_type": "markdown",
   "id": "0662e4bf",
   "metadata": {},
   "source": [
    "# Assignment Operators:\n",
    "\n",
    "We can use assignment operator to assign value to the variable.\n",
    "\n",
    "Eg:\n",
    "\n",
    "x=10\n",
    "\n",
    "We can combine asignment operator with some other operator to form compound\n",
    "assignment operator.\n",
    "\n",
    "Eg: x+=10 ====> x = x+10\n",
    "\n",
    "The following is the list of all possible compound assignment operators in Python\n",
    "\n",
    "1) +=\n",
    "\n",
    "2) -=\n",
    "\n",
    "3) *=\n",
    "\n",
    "4) /=\n",
    "\n",
    "5) %=\n",
    "\n",
    "6) //=\n",
    "\n",
    "7) **=\n",
    "\n",
    "8) &=\n",
    "\n",
    "9) |=\n",
    "\n",
    "10) ^=\n",
    "\n",
    "11) >>=\n",
    "\n",
    "12) <<=\n"
   ]
  },
  {
   "cell_type": "markdown",
   "id": "e1cb9a2a",
   "metadata": {},
   "source": [
    "# Ternary Operator:\n",
    "\n",
    "Syntax:\n",
    "```\n",
    "x = firstValue if condition else secondValue\n",
    "```\n",
    "If condition is True then firstValue will be considered else secondValue will be considered."
   ]
  },
  {
   "cell_type": "code",
   "execution_count": null,
   "id": "c54cf270",
   "metadata": {},
   "outputs": [],
   "source": [
    "a,b=10,20\n",
    "x=30 if a<b else 40\n",
    "print(x) #30"
   ]
  },
  {
   "cell_type": "code",
   "execution_count": null,
   "id": "07f48e0b",
   "metadata": {},
   "outputs": [],
   "source": [
    "a=int(input(\"Enter First Number:\"))\n",
    "b=int(input(\"Enter Second Number:\"))\n",
    "min=a if a<b else b\n",
    " print(\"Minimum Value:\",min)"
   ]
  },
  {
   "cell_type": "markdown",
   "id": "2b3812c2",
   "metadata": {},
   "source": [
    "Note: Nesting of ternary operator is possible"
   ]
  },
  {
   "cell_type": "code",
   "execution_count": null,
   "id": "bcdd45f2",
   "metadata": {},
   "outputs": [],
   "source": [
    "a=int(input(\"Enter First Number:\"))\n",
    "b=int(input(\"Enter Second Number:\"))\n",
    "c=int(input(\"Enter Third Number:\"))\n",
    "min=a if a<b and a<c else b if b<c else c\n",
    "print(\"Minimum Value:\",min)"
   ]
  },
  {
   "cell_type": "markdown",
   "id": "d0e843a9",
   "metadata": {},
   "source": [
    "## Special operators:\n",
    "\n",
    "Python defines the following 2 special operators\n",
    "1. Identity Operators\n",
    "2. Membership operators\n",
    "\n",
    "### 1. Identity Operators\n",
    "\n",
    "We can use identity operators for address comparison.\n",
    "\n",
    "2 identity operators are available\n",
    "\n",
    "1. is\n",
    "\n",
    "2. is not\n",
    "\n",
    "r1 is r2 returns True if both r1 and r2 are pointing to the same object\n",
    "\n",
    "r1 is not r2 returns True if both r1 and r2 are not pointing to the same object"
   ]
  },
  {
   "cell_type": "code",
   "execution_count": null,
   "id": "848cf119",
   "metadata": {},
   "outputs": [],
   "source": [
    "a=10\n",
    "b=10\n",
    "print(a is b) #True\n",
    "x=True\n",
    "y=True\n",
    "print( x is y) #True"
   ]
  },
  {
   "cell_type": "code",
   "execution_count": null,
   "id": "32bae838",
   "metadata": {},
   "outputs": [],
   "source": [
    "a=\"vishal\"\n",
    "b=\"vishal\"\n",
    "print(id(a))\n",
    "print(id(b))\n",
    "print(a is b)"
   ]
  },
  {
   "cell_type": "code",
   "execution_count": null,
   "id": "2ec97860",
   "metadata": {},
   "outputs": [],
   "source": [
    "list1=[\"one\",\"two\",\"three\"]\n",
    "list2=[\"one\",\"two\",\"three\"]\n",
    "print(id(list1))\n",
    "print(id(list2))\n",
    "print(list1 is list2) #False\n",
    "print(list1 is not list2) #True\n",
    "print(list1 == list2) #True"
   ]
  },
  {
   "cell_type": "markdown",
   "id": "a0539f8b",
   "metadata": {},
   "source": [
    "Note:\n",
    "We can use is operator for address comparison where as == operator for content\n",
    "comparison."
   ]
  },
  {
   "cell_type": "markdown",
   "id": "e0596e4f",
   "metadata": {},
   "source": [
    "### 2. Membership operators:\n",
    "\n",
    "We can use Membership operators to check whether the given object present in the given collection.(It may be String,List,Set,Tuple or Dict)\n",
    "\n",
    "in ==> Returns True if the given object present in the specified Collection\n",
    "\n",
    "not in ==> Retruns True if the given object not present in the specified Collection"
   ]
  },
  {
   "cell_type": "code",
   "execution_count": null,
   "id": "8b57c11f",
   "metadata": {},
   "outputs": [],
   "source": [
    "x=\"hello learning Python is very easy!!!\"\n",
    "print('h' in x) #True\n",
    "print('d' in x) #False\n",
    "print('d' not in x) #True\n",
    "print('Python' in x) #True"
   ]
  },
  {
   "cell_type": "code",
   "execution_count": null,
   "id": "346e4b2e",
   "metadata": {},
   "outputs": [],
   "source": [
    "list1=[\"sunny\",\"bunny\",\"chinny\",\"pinny\"]\n",
    "print(\"sunny\" in list1) #True\n",
    "print(\"tunny\" in list1) #False\n",
    "print(\"tunny\" not in list1) #True"
   ]
  },
  {
   "cell_type": "markdown",
   "id": "6f5cdbd3",
   "metadata": {},
   "source": [
    "## Operator Precedence:\n",
    "\n",
    "If multiple operators present then which operator will be evaluated first is decided by operator precedence.\n",
    "\n",
    "Eg:\n",
    "```\n",
    "print(3+10*2) ==> 23\n",
    "\n",
    "print((3+10)*2) ==> 26\n",
    "```\n",
    "The following list describes operator precedence in Python\n",
    "```\n",
    "() ==> Parenthesis\n",
    "\n",
    "** ==> exponential operator\n",
    "\n",
    "~,- ==> Bitwise complement operator,unary minus operator\n",
    "\n",
    "*,/,%,// ==> multiplication,division,modulo,floor division\n",
    "\n",
    "+,- ==> addition,subtraction\n",
    "\n",
    "<<,>> ==> Left and Right Shift\n",
    "\n",
    "& ==> bitwise And\n",
    "\n",
    "^ ==> Bitwise X-OR\n",
    "\n",
    "| ==> Bitwise OR\n",
    "\n",
    ">,>=,<,<=, ==, != ==> Relational or Comparison operators\n",
    "\n",
    "=,+=,-=,*=... ==> Assignment operators\n",
    "\n",
    "is , is not  ==> Identity Operators\n",
    "\n",
    "in , not in ==> Membership operators\n",
    "\n",
    "not ==> Logical not\n",
    "\n",
    "and ==> Logical and\n",
    "\n",
    "or ==> Logical or\n",
    "```"
   ]
  },
  {
   "cell_type": "code",
   "execution_count": null,
   "id": "a395e3f3",
   "metadata": {},
   "outputs": [],
   "source": [
    "a=30\n",
    "b=20\n",
    "c=10\n",
    "d=5\n",
    "print((a+b)*c/d) #100.0\n",
    "print((a+b)*(c/d)) #100.0\n",
    "print(a+(b*c)/d) #70.0"
   ]
  }
 ],
 "metadata": {
  "kernelspec": {
   "display_name": "Python 3 (ipykernel)",
   "language": "python",
   "name": "python3"
  },
  "language_info": {
   "codemirror_mode": {
    "name": "ipython",
    "version": 3
   },
   "file_extension": ".py",
   "mimetype": "text/x-python",
   "name": "python",
   "nbconvert_exporter": "python",
   "pygments_lexer": "ipython3",
   "version": "3.9.12"
  }
 },
 "nbformat": 4,
 "nbformat_minor": 5
}
