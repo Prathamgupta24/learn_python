{
 "cells": [
  {
   "cell_type": "markdown",
   "id": "334df55c",
   "metadata": {},
   "source": [
    "# String Data Type\n",
    "\n",
    "The most commonly used object in any project and in any programming language is String only.\n",
    "\n",
    "Hence we should aware complete information about String data type.\n",
    "\n",
    "What is String?\n",
    "\n",
    "Any sequence of characters within either single quotes or double quotes is considered as a String.\n",
    "\n",
    "Syntax:\n",
    "\n",
    "```\n",
    "s='vishal'\n",
    "\n",
    "s=\"vishal\"\n",
    "```\n",
    "Note: In most of other languges like C, C++,Java, a single character with in single quotes is treated\n",
    "as char data type value. But in Python we are not having char data type.Hence it is treated as\n",
    "String only"
   ]
  },
  {
   "cell_type": "code",
   "execution_count": 1,
   "id": "8404fdb7",
   "metadata": {},
   "outputs": [
    {
     "name": "stdout",
     "output_type": "stream",
     "text": [
      "<class 'str'>\n"
     ]
    }
   ],
   "source": [
    "ch='A'\n",
    "print(type(ch))"
   ]
  },
  {
   "cell_type": "markdown",
   "id": "912ccfc0",
   "metadata": {},
   "source": [
    "# How to define multi-line String literals:\n",
    "\n",
    "We can define multi-line String literals by using triple single or double quotes."
   ]
  },
  {
   "cell_type": "code",
   "execution_count": 3,
   "id": "75af438b",
   "metadata": {},
   "outputs": [
    {
     "data": {
      "text/plain": [
       "'Vishal\\n    Parikh\\n    Python Course'"
      ]
     },
     "execution_count": 3,
     "metadata": {},
     "output_type": "execute_result"
    }
   ],
   "source": [
    "s='''Vishal\n",
    "    Parikh\n",
    "    Python Course'''\n",
    "#print(s)\n",
    "s"
   ]
  },
  {
   "cell_type": "markdown",
   "id": "e27f8a04",
   "metadata": {},
   "source": [
    "We can also use triple quotes to use single quotes or double quotes as symbol inside String literal.\n",
    "\n",
    "Eg:\n",
    "```\n",
    "s='This is ' single quote symbol' ==>invalid\n",
    "\n",
    "s='This is \\' single quote symbol' ==>valid\n",
    "\n",
    "s=\"This is ' single quote symbol\"====>valid\n",
    "\n",
    "s='This is \" double quotes symbol' ==>valid\n",
    "\n",
    "s='The \"Python\" course for 'CSE' is very helpful' ==>invalid\n",
    "\n",
    "s=\"The \"Python\" by CSE' is very helpful\"==>invalid\n",
    "\n",
    "s='The \\\"Python course\\\" by \\'CSE\\' is very helpful' ==>valid\n",
    "\n",
    "s='''The \"Python course\" by 'CSE' is very helpful''' ==>valid\n",
    "```"
   ]
  },
  {
   "cell_type": "markdown",
   "id": "80993d22",
   "metadata": {},
   "source": [
    "# How to access characters of a String:\n",
    "\n",
    "We can access characters of a string by using the following ways.\n",
    "\n",
    "1. By using index\n",
    "\n",
    "2. By using slice operator\n",
    "\n",
    "## 1. By using index:\n",
    "\n",
    "Python supports both +ve and -ve index.\n",
    "\n",
    "+ve index means left to right(Forward direction)\n",
    "\n",
    "-ve index means right to left(Backward direction)\n",
    "\n",
    "Note: If we are trying to access characters of a string with out of range index then we will get\n",
    "error saying : IndexError\n",
    "\n",
    "Write a program to accept some string from the keyboard and display its characters by index wise(both positive and nEgative index)"
   ]
  },
  {
   "cell_type": "code",
   "execution_count": null,
   "id": "632ff449",
   "metadata": {},
   "outputs": [],
   "source": [
    "s=input(\"Enter Some String:\")\n",
    "i=0\n",
    "for x in s:\n",
    "    print(\"The character present at positive index {} and at negative index {} is {}\".format(i,i\n",
    "-len(s),x))\n",
    "    i=i+1"
   ]
  },
  {
   "cell_type": "markdown",
   "id": "675c8991",
   "metadata": {},
   "source": [
    "# 2. Accessing characters by using slice operator:\n",
    "\n",
    "Syntax: s[bEginindex:endindex:step]\n",
    "\n",
    "beginindex:From where we have to consider slice(substring)\n",
    "\n",
    "endindex: We have to terminate the slice(substring) at endindex-1\n",
    "\n",
    "step: incremented value\n",
    "\n",
    "Note: If we are not specifying bEgin index then it will consider from bEginning of the string.\n",
    "\n",
    "If we are not specifying end index then it will consider up to end of the string\n",
    "\n",
    "The default value for step is 1"
   ]
  },
  {
   "cell_type": "code",
   "execution_count": null,
   "id": "bf4079de",
   "metadata": {},
   "outputs": [],
   "source": [
    "s=\"Learning Python is very very easy!!!\"\n",
    "s[1:7:1]\n",
    "s[1:7]\n",
    "s[1:7:2]\n",
    "s[:7]\n",
    "s[7:]\n",
    "s[::]\n",
    "s[:]\n",
    "s[::-1]"
   ]
  },
  {
   "cell_type": "markdown",
   "id": "920b9a37",
   "metadata": {},
   "source": [
    "# Behaviour of slice operator:\n",
    "\n",
    "s[begin:end:step]\n",
    "\n",
    "step value can be either +ve or –ve\n",
    "\n",
    "if +ve then it should be forward direction(left to right) and we have to consider begin to end-1\n",
    "\n",
    "if -ve then it should be backward direction(right to left) and we have to consider begin to end+1\n",
    "\n",
    "***Note:\n",
    "\n",
    "In the backward direction if end value is -1 then result is always empty.\n",
    "\n",
    "In the forward direction if end value is 0 then result is always empty.\n",
    "\n",
    "# In forward direction:\n",
    "\n",
    "default value for begin: 0\n",
    "\n",
    "default value for end: length of string\n",
    "\n",
    "default value for step: +1\n",
    "\n",
    "# In backward direction:\n",
    "\n",
    "default value for begin: -1\n",
    "\n",
    "default value for end: -(length of string+1)\n",
    "\n",
    "Note: Either forward or backward direction, we can take both +ve and -ve values for begin and end index."
   ]
  },
  {
   "cell_type": "markdown",
   "id": "b2513930",
   "metadata": {},
   "source": [
    "# Mathematical Operators for String:\n",
    "\n",
    "We can apply the following mathematical operators for Strings.\n",
    "\n",
    "1. + operator for concatenation\n",
    "\n",
    "2. * operator for repetition\n",
    "\n",
    "```\n",
    "print(\"vishal\"+\"parikh\") #vishalparikh\n",
    "\n",
    "print(\"vishal\"*2) #vishalvishal\n",
    "```\n",
    "Note:\n",
    "\n",
    "1. To use + operator for Strings, compulsory both arguments should be str type\n",
    "\n",
    "2. To use * operator for Strings, compulsory one argument should be str and other argument should be int\n",
    "\n",
    "# len() in-built function:\n",
    "\n",
    "We can use len() function to find the number of characters present in the string."
   ]
  },
  {
   "cell_type": "code",
   "execution_count": 4,
   "id": "a9c290c8",
   "metadata": {},
   "outputs": [
    {
     "name": "stdout",
     "output_type": "stream",
     "text": [
      "6\n"
     ]
    }
   ],
   "source": [
    "s='vishal'\n",
    "print(len(s))"
   ]
  },
  {
   "cell_type": "markdown",
   "id": "03a6c5fd",
   "metadata": {},
   "source": [
    "Write a program to access each character of string in forward and backward direction by using while loop"
   ]
  },
  {
   "cell_type": "code",
   "execution_count": 5,
   "id": "9b058cdf",
   "metadata": {},
   "outputs": [
    {
     "name": "stdout",
     "output_type": "stream",
     "text": [
      "Forward direction\n",
      "L e a r n i n g   P y t h o n   i s   v e r y   e a s y   ! ! ! \n",
      "Backward direction\n",
      "! ! !   y s a e   y r e v   s i   n o h t y P   g n i n r a e L "
     ]
    }
   ],
   "source": [
    "s=\"Learning Python is very easy !!!\"\n",
    "n=len(s)\n",
    "i=0\n",
    "print(\"Forward direction\")\n",
    "while i<n:\n",
    "    print(s[i],end=' ')\n",
    "    i+=1\n",
    "print()\n",
    "print(\"Backward direction\")\n",
    "i=-1\n",
    "while i>=-n:\n",
    "    print(s[i],end=' ')\n",
    "    i=i-1"
   ]
  },
  {
   "cell_type": "code",
   "execution_count": 6,
   "id": "c3adb2b7",
   "metadata": {},
   "outputs": [
    {
     "name": "stdout",
     "output_type": "stream",
     "text": [
      "Forward direction\n",
      "L e a r n i n g   P y t h o n   i s   v e r y   e a s y   ! ! ! \n",
      "Forward direction\n",
      "L e a r n i n g   P y t h o n   i s   v e r y   e a s y   ! ! ! \n",
      "Backward direction\n",
      "! ! !   y s a e   y r e v   s i   n o h t y P   g n i n r a e L "
     ]
    }
   ],
   "source": [
    "s=\"Learning Python is very easy !!!\"\n",
    "print(\"Forward direction\")\n",
    "for i in s:\n",
    "    print(i,end=' ')\n",
    "print()\n",
    "print(\"Forward direction\")\n",
    "for i in s[::]:\n",
    "    print(i,end=' ')\n",
    "print()\n",
    "print(\"Backward direction\")\n",
    "for i in s[::-1]:\n",
    "    print(i,end=' ')"
   ]
  },
  {
   "cell_type": "markdown",
   "id": "5417a118",
   "metadata": {},
   "source": [
    "# Checking Membership:\n",
    "\n",
    "We can check whether the character or string is the member of another string or not by using in and not in operators\n",
    "\n",
    "```\n",
    "s='vishal'\n",
    "\n",
    "print('v' in s) #True\n",
    "\n",
    "print('z' in s) #False\n",
    "\n",
    "```"
   ]
  },
  {
   "cell_type": "code",
   "execution_count": 7,
   "id": "7d276258",
   "metadata": {},
   "outputs": [
    {
     "name": "stdout",
     "output_type": "stream",
     "text": [
      "Enter main string:Python is very easy\n",
      "Enter sub string:is\n",
      "is is found in main string\n"
     ]
    }
   ],
   "source": [
    "s=input(\"Enter main string:\")\n",
    "subs=input(\"Enter sub string:\")\n",
    "if subs in s:\n",
    "    print(subs,\"is found in main string\")\n",
    "else:\n",
    "    print(subs,\"is not found in main string\")"
   ]
  },
  {
   "cell_type": "markdown",
   "id": "6d4f76ab",
   "metadata": {},
   "source": [
    "# Comparison of Strings:\n",
    "\n",
    "We can use comparison operators (<,<=,>,>=) and equality operators(==,!=) for strings.\n",
    "\n",
    "Comparison will be performed based on alphabetical order."
   ]
  },
  {
   "cell_type": "code",
   "execution_count": 8,
   "id": "e91409d1",
   "metadata": {},
   "outputs": [
    {
     "name": "stdout",
     "output_type": "stream",
     "text": [
      "Enter first string:Hi\n",
      "Enter Second string:Hello\n",
      "First String is greater than Second String\n"
     ]
    }
   ],
   "source": [
    "s1=input(\"Enter first string:\")\n",
    "s2=input(\"Enter Second string:\")\n",
    "if s1==s2:\n",
    "    print(\"Both strings are equal\")\n",
    "elif s1<s2:\n",
    "    print(\"First String is less than Second String\")\n",
    "else:\n",
    "    print(\"First String is greater than Second String\")"
   ]
  },
  {
   "cell_type": "markdown",
   "id": "f632f29b",
   "metadata": {},
   "source": [
    "# Removing spaces from the string:\n",
    "\n",
    "We can use the following 3 methods\n",
    "\n",
    "1. rstrip()===>To remove spaces at right hand side\n",
    "\n",
    "2. lstrip()===>To remove spaces at left hand side\n",
    "\n",
    "3. strip() ==>To remove spaces both sides"
   ]
  },
  {
   "cell_type": "code",
   "execution_count": 9,
   "id": "a652f578",
   "metadata": {},
   "outputs": [
    {
     "name": "stdout",
     "output_type": "stream",
     "text": [
      "Enter your city Name:    Surat    \n",
      "Hello Surati\n"
     ]
    }
   ],
   "source": [
    "city=input(\"Enter your city Name:\")\n",
    "scity=city.strip()\n",
    "if scity=='Ahmedabad':\n",
    "    print(\"Hello Amdavadi\")\n",
    "elif scity=='Surat':\n",
    "    print(\"Hello Surati\")\n",
    "elif scity==\"Mehsana\":\n",
    "    print(\"Hello Mehsani\")\n",
    "else:\n",
    "    print(\"your entered city is invalid\")"
   ]
  },
  {
   "cell_type": "markdown",
   "id": "57443527",
   "metadata": {},
   "source": [
    "# Finding Substrings:\n",
    "\n",
    "We can use the following 4 methods\n",
    "\n",
    "For forward direction:\n",
    "\n",
    "find()\n",
    "\n",
    "index()\n",
    "\n",
    "For backward direction:\n",
    "\n",
    "rfind()\n",
    "\n",
    "rindex()\n",
    "\n",
    "## 1. find():\n",
    "\n",
    "s.find(substring)\n",
    "\n",
    "Returns index of first occurrence of the given substring. If it is not available then we will get -1"
   ]
  },
  {
   "cell_type": "code",
   "execution_count": null,
   "id": "885dd268",
   "metadata": {},
   "outputs": [],
   "source": [
    "s=\"Learning Python is very easy\"\n",
    "print(s.find(\"Python\")) #9\n",
    "print(s.find(\"Java\")) # -1\n",
    "print(s.find(\"r\"))#3\n",
    "print(s.rfind(\"r\"))#21"
   ]
  },
  {
   "cell_type": "markdown",
   "id": "5c6e9fc6",
   "metadata": {},
   "source": [
    "Note: By default find() method can search total string. We can also specify the boundaries to search.\n",
    "\n",
    "s.find(substring,begin,end)\n",
    "\n",
    "It will always search from begin index to end-1 index"
   ]
  },
  {
   "cell_type": "code",
   "execution_count": null,
   "id": "e77095f1",
   "metadata": {},
   "outputs": [],
   "source": [
    "s=\"vishalparikh\"\n",
    "print(s.find('a'))#4\n",
    "print(s.find('a',7,15))#7\n",
    "print(s.find('z',7,15))#-1"
   ]
  },
  {
   "cell_type": "markdown",
   "id": "b9d5a48e",
   "metadata": {},
   "source": [
    "## index() method:\n",
    "\n",
    "index() method is exactly same as find() method except that if the specified substring is not available then we will get ValueError"
   ]
  },
  {
   "cell_type": "code",
   "execution_count": 11,
   "id": "ee2575aa",
   "metadata": {},
   "outputs": [
    {
     "name": "stdout",
     "output_type": "stream",
     "text": [
      "Enter main string:Hi Hello Fine\n",
      "Enter sub string:Zero\n",
      "substring not found\n"
     ]
    }
   ],
   "source": [
    "s=input(\"Enter main string:\")\n",
    "subs=input(\"Enter sub string:\")\n",
    "try:\n",
    "    n=s.index(subs)\n",
    "except ValueError:\n",
    "    print(\"substring not found\")\n",
    "else:\n",
    "    print(\"substring found\")"
   ]
  },
  {
   "cell_type": "markdown",
   "id": "55bb465a",
   "metadata": {},
   "source": [
    "Program to display all positions of substring in a given main string"
   ]
  },
  {
   "cell_type": "code",
   "execution_count": 12,
   "id": "407b3a11",
   "metadata": {},
   "outputs": [
    {
     "name": "stdout",
     "output_type": "stream",
     "text": [
      "Enter main string:aaaabbbbbaaaaabbbbbaaabababa\n",
      "Enter sub string:ba\n",
      "Found at position 8\n",
      "Found at position 18\n",
      "Found at position 22\n",
      "Found at position 24\n",
      "Found at position 26\n"
     ]
    }
   ],
   "source": [
    "s=input(\"Enter main string:\")\n",
    "subs=input(\"Enter sub string:\")\n",
    "flag=False\n",
    "pos=-1\n",
    "n=len(s)\n",
    "while True:\n",
    "    pos=s.find(subs,pos+1,n)\n",
    "    if pos==-1:\n",
    "        break\n",
    "    print(\"Found at position\",pos)\n",
    "    flag=True\n",
    "if flag==False:\n",
    "    print(\"Not Found\")"
   ]
  },
  {
   "cell_type": "markdown",
   "id": "889d7e56",
   "metadata": {},
   "source": [
    "## Counting substring in the given String:\n",
    "\n",
    "We can find the number of occurrences of substring present in the given string by using count()\n",
    "method.\n",
    "\n",
    "1. s.count(substring) ==> It will search through out the string\n",
    "\n",
    "2. s.count(substring, begin, end) ===> It will search from begin index to end-1 index"
   ]
  },
  {
   "cell_type": "code",
   "execution_count": null,
   "id": "65916e12",
   "metadata": {},
   "outputs": [],
   "source": [
    "s=\"abcabcabcabcadda\"\n",
    "print(s.count('a')) #6\n",
    "print(s.count('ab')) #4\n",
    "print(s.count('a',3,7)) #2"
   ]
  },
  {
   "cell_type": "markdown",
   "id": "e605d94e",
   "metadata": {},
   "source": [
    "## Replacing a string with another string:\n",
    "\n",
    "s.replace(oldstring,newstring)\n",
    "\n",
    "inside s, every occurrence of oldstring will be replaced with newstring.\n",
    "\n",
    "Eg1:\n",
    "```\n",
    "s=\"Learning Python is very difficult\"\n",
    "\n",
    "s1=s.replace(\"difficult\",\"easy\")\n",
    "\n",
    "print(s1)\n",
    "\n",
    "Output:\n",
    "\n",
    "Learning Python is very easy\n",
    "```\n",
    "Eg2: All occurrences will be replaced\n",
    "```\n",
    "s=\"ababababababab\"\n",
    "\n",
    "s1=s.replace(\"a\",\"b\")\n",
    "\n",
    "print(s1)\n",
    "\n",
    "Output: bbbbbbbbbbbbbb\n",
    "```\n",
    "Q. String objects are immutable then how we can change the content by using replace() method.\n",
    "\n",
    "Once we creates string object, we cannot change the content.This non changeable behaviour is\n",
    "nothing but immutability. If we are trying to change the content by using any method, then with\n",
    "those changes a new object will be created and changes won't be happend in existing object.\n",
    "\n",
    "Hence with replace() method also a new object got created but existing object won't be changed.\n",
    "\n",
    "Eg:\n",
    "```\n",
    "s=\"abab\"\n",
    "\n",
    "s1=s.replace(\"a\",\"b\")\n",
    "\n",
    "print(s,\"is available at :\",id(s))\n",
    "\n",
    "print(s1,\"is available at :\",id(s1))\n",
    "\n",
    "Output:\n",
    "\n",
    "abab is available at : 4568672\n",
    "\n",
    "bbbb is available at : 456870\n",
    "```\n",
    "In the above example, original object is available and we can see new object which was created because of replace() method.\n",
    "\n",
    "## Splitting of Strings:\n",
    "\n",
    "We can split the given string according to specified seperator by using split() method.\n",
    "\n",
    "l=s.split(seperator)\n",
    "\n",
    "The default seperator is space. The return type of split() method is List"
   ]
  },
  {
   "cell_type": "code",
   "execution_count": 13,
   "id": "8a12c9c4",
   "metadata": {},
   "outputs": [
    {
     "name": "stdout",
     "output_type": "stream",
     "text": [
      "Python\n",
      "is\n",
      "very\n",
      "easy\n",
      "to\n",
      "understand\n"
     ]
    }
   ],
   "source": [
    "s=\"Python is very easy to understand\"\n",
    "l=s.split()\n",
    "for x in l:\n",
    "    print(x)"
   ]
  },
  {
   "cell_type": "code",
   "execution_count": 14,
   "id": "c60ac682",
   "metadata": {},
   "outputs": [
    {
     "name": "stdout",
     "output_type": "stream",
     "text": [
      "06\n",
      "02\n",
      "2023\n"
     ]
    }
   ],
   "source": [
    "s=\"06-02-2023\"\n",
    "l=s.split('-')\n",
    "for x in l:\n",
    "    print(x)"
   ]
  },
  {
   "cell_type": "markdown",
   "id": "62ce9f9f",
   "metadata": {},
   "source": [
    "## Joining of Strings:\n",
    "\n",
    "We can join a group of strings(list or tuple) wrt the given seperator.\n",
    "\n",
    "s=seperator.join(group of strings)"
   ]
  },
  {
   "cell_type": "code",
   "execution_count": 15,
   "id": "74c77e4a",
   "metadata": {},
   "outputs": [
    {
     "name": "stdout",
     "output_type": "stream",
     "text": [
      "sunny-bunny-chinny\n"
     ]
    }
   ],
   "source": [
    "t=('sunny','bunny','chinny')\n",
    "s='-'.join(t)\n",
    "print(s)"
   ]
  },
  {
   "cell_type": "markdown",
   "id": "1d6858f8",
   "metadata": {},
   "source": [
    "# Changing case of a String:\n",
    "\n",
    "We can change case of a string by using the following 4 methods.\n",
    "\n",
    "1. upper()===>To convert all characters to upper case\n",
    "\n",
    "2. lower() ===>To convert all characters to lower case\n",
    "\n",
    "3. swapcase()===>converts all lower case characters to upper case and all upper case characters to lower case\n",
    "\n",
    "4. title() ===>To convert all character to title case. i.e first character in every word should be upper case and all remaining characters should be in lower case.\n",
    "\n",
    "5. capitalize() ==>Only first character will be converted to upper case and all remaining characters can be converted to lower case"
   ]
  },
  {
   "cell_type": "code",
   "execution_count": 16,
   "id": "2b8b0ae6",
   "metadata": {},
   "outputs": [
    {
     "name": "stdout",
     "output_type": "stream",
     "text": [
      "LEARNING PYTHON IS VERY EASY\n",
      "learning python is very easy\n",
      "LEARNING pYTHON IS VERY eASY\n",
      "Learning Python Is Very Easy\n",
      "Learning python is very easy\n"
     ]
    }
   ],
   "source": [
    "s='learning Python is very Easy'\n",
    "print(s.upper())\n",
    "print(s.lower())\n",
    "print(s.swapcase())\n",
    "print(s.title())\n",
    "print(s.capitalize())"
   ]
  },
  {
   "cell_type": "markdown",
   "id": "a9f1a1c0",
   "metadata": {},
   "source": [
    "## Checking starting and ending part of the string:\n",
    "\n",
    "Python contains the following methods for this purpose\n",
    "\n",
    "1. s.startswith(substring)\n",
    "\n",
    "2. s.endswith(substring)"
   ]
  },
  {
   "cell_type": "code",
   "execution_count": 17,
   "id": "e702a4ce",
   "metadata": {},
   "outputs": [
    {
     "name": "stdout",
     "output_type": "stream",
     "text": [
      "True\n",
      "False\n",
      "True\n"
     ]
    }
   ],
   "source": [
    "s='learning Python is very easy'\n",
    "print(s.startswith('learning'))\n",
    "print(s.endswith('learning'))\n",
    "print(s.endswith('easy'))"
   ]
  },
  {
   "cell_type": "markdown",
   "id": "950204ac",
   "metadata": {},
   "source": [
    "## To check type of characters present in a string:\n",
    "\n",
    "Python contains the following methods for this purpose.\n",
    "\n",
    "1) isalnum(): Returns True if all characters are alphanumeric( a to z , A to Z ,0 to9 )\n",
    "\n",
    "2) isalpha(): Returns True if all characters are only alphabet symbols(a to z,A to Z)\n",
    "\n",
    "3) isdigit(): Returns True if all characters are digits only( 0 to 9)\n",
    "\n",
    "4) islower(): Returns True if all characters are lower case alphabet symbols\n",
    "\n",
    "5) isupper(): Returns True if all characters are upper case aplhabet symbols\n",
    "\n",
    "6) istitle(): Returns True if string is in title case\n",
    "\n",
    "7) isspace(): Returns True if string contains only spaces"
   ]
  },
  {
   "cell_type": "code",
   "execution_count": null,
   "id": "8c813907",
   "metadata": {},
   "outputs": [],
   "source": [
    "print('Vishal123'.isalnum()) #True\n",
    "print('Vishal111'.isalpha()) #False\n",
    "print('Vishal'.isalpha()) #True\n",
    "print('vishal'.isdigit()) #False\n",
    "print('123123'.isdigit()) #True\n",
    "print('abc'.islower()) #True\n",
    "print('Abc'.islower()) #False\n",
    "print('abc123'.islower()) #True\n",
    "print('ABC'.isupper()) #True\n",
    "print('Learning python is Easy'.istitle()) #False\n",
    "print('Learning Python Is Easy'.istitle()) #True\n",
    "print(' '.isspace()) #True"
   ]
  },
  {
   "cell_type": "code",
   "execution_count": 18,
   "id": "f4e619f7",
   "metadata": {},
   "outputs": [
    {
     "name": "stdout",
     "output_type": "stream",
     "text": [
      "Enter any character:a\n",
      "Alpha Numeric Character\n",
      "Alphabet character\n",
      "Lower case alphabet character\n"
     ]
    }
   ],
   "source": [
    "s=input(\"Enter any character:\")\n",
    "if s.isalnum():\n",
    "    print(\"Alpha Numeric Character\")\n",
    "    if s.isalpha():\n",
    "        print(\"Alphabet character\")\n",
    "        if s.islower():\n",
    "            print(\"Lower case alphabet character\")\n",
    "        else:\n",
    "            print(\"Upper case alphabet character\")\n",
    "    else:\n",
    "        print(\"it is a digit\")\n",
    "elif s.isspace():\n",
    "    print(\"It is space character\")\n",
    "else:\n",
    "    print(\"Non Space Special Character\")"
   ]
  },
  {
   "cell_type": "markdown",
   "id": "6c6a656b",
   "metadata": {},
   "source": [
    "## Formatting the Strings:\n",
    "\n",
    "We can format the strings with variable values by using replacement operator {} and format() method."
   ]
  },
  {
   "cell_type": "code",
   "execution_count": null,
   "id": "63e734e3",
   "metadata": {},
   "outputs": [],
   "source": [
    "name='vishal'\n",
    "salary=10000\n",
    "age=40\n",
    "print(\"{} 's salary is {} and his age is {}\".format(name,salary,age))\n",
    "print(\"{0} 's salary is {1} and his age is {2}\".format(name,salary,age))\n",
    "print(\"{x} 's salary is {y} and his age is {z}\".format(z=age,y=salary,x=name))"
   ]
  },
  {
   "cell_type": "markdown",
   "id": "891ec61b",
   "metadata": {},
   "source": [
    "Write a program to print characters at odd position and even position for the given String"
   ]
  },
  {
   "cell_type": "code",
   "execution_count": null,
   "id": "4facb31d",
   "metadata": {},
   "outputs": [],
   "source": [
    "s=input(\"Enter Some String:\")\n",
    "print(\"Characters at Even Position:\",s[0::2])\n",
    "print(\"Characters at Odd Position:\",s[1::2])"
   ]
  },
  {
   "cell_type": "markdown",
   "id": "26a25d1b",
   "metadata": {},
   "source": [
    "## Formatting the Strings:\n",
    "\n",
    "We can format the strings with variable values by using replacement operator {} and format() method.\n",
    "\n",
    "The main objective of format() method to format string into meaningful output form.\n",
    "\n",
    "### Case- 1: Basic Formatting for default, positional and keyword arguments"
   ]
  },
  {
   "cell_type": "code",
   "execution_count": null,
   "id": "20159518",
   "metadata": {},
   "outputs": [],
   "source": [
    "name='vishal'\n",
    "salary=5000\n",
    "age=40\n",
    "print(\"{} 's salary is {} and his age is {}\".format(name,salary,age))\n",
    "print(\"{0} 's salary is {1} and his age is {2}\".format(name,salary,age))\n",
    "print(\"{x} 's salary is {y} and his age is {z}\".format(z=age,y=salary,x=name))"
   ]
  },
  {
   "cell_type": "markdown",
   "id": "92c7f41b",
   "metadata": {},
   "source": [
    "### Case-2: Formatting Numbers\n",
    "\n",
    "d--->Decimal IntEger\n",
    "\n",
    "f----->Fixed point number(float).The default precision is 6\n",
    "\n",
    "b-->Binary format\n",
    "\n",
    "o--->Octal Format\n",
    "\n",
    "x-->Hexa Decimal Format(Lower case)\n",
    "\n",
    "X-->Hexa Decimal Format(Upper case)"
   ]
  },
  {
   "cell_type": "code",
   "execution_count": null,
   "id": "0551cf55",
   "metadata": {},
   "outputs": [],
   "source": [
    "print(\"The intEger number is: {}\".format(123)) # 123\n",
    "print(\"The intEger number is: {:d}\".format(123)) # 123\n",
    "print(\"The intEger number is: {:5d}\".format(123)) #   123\n",
    "print(\"The intEger number is: {:05d}\".format(123)) # 00123"
   ]
  },
  {
   "cell_type": "code",
   "execution_count": null,
   "id": "824b8bc1",
   "metadata": {},
   "outputs": [],
   "source": [
    "print(\"The float number is: {}\".format(123.4567)) # The float number is: 123.4567\n",
    "print(\"The float number is: {:f}\".format(123.4567)) # The float number is: 123.456700\n",
    "print(\"The float number is: {:8.3f}\".format(123.4567)) # The float number is:  123.457\n",
    "print(\"The float number is: {:08.3f}\".format(123.4567)) # The float number is: 0123.457\n",
    "print(\"The float number is: {:08.3f}\".format(123.45)) # The float number is: 0123.450\n",
    "print(\"The float number is: {:08.3f}\".format(786786123.45)) # The float number is: 786786123.450"
   ]
  },
  {
   "cell_type": "markdown",
   "id": "48749ba5",
   "metadata": {},
   "source": [
    "Note:\n",
    "\n",
    "{:08.3f}\n",
    "\n",
    "Total positions should be minimum 8.\n",
    "\n",
    "After decimal point exactly 3 digits are allowed.If it is less then 0s will be placed in the last positions\n",
    "\n",
    "If total number is < 8 positions then 0 will be placed in MSBs\n",
    "\n",
    "If total number is >8 positions then all intEgral digits will be considered.\n",
    "\n",
    "The extra digits we can take only 0\n",
    "\n",
    "Note: For numbers default alignment is Right Alignment(>)\n",
    "\n",
    "### Eg-3: Print Decimal value in binary, octal and hexadecimal form"
   ]
  },
  {
   "cell_type": "code",
   "execution_count": null,
   "id": "d2da9a59",
   "metadata": {},
   "outputs": [],
   "source": [
    "print(\"Binary Form:{0:b}\".format(153)) # Binary Form:10011001\n",
    "print(\"Octal Form:{0:o}\".format(153)) # Octal Form:231\n",
    "print(\"Hexa decimal Form:{0:x}\".format(154)) # Hexa decimal Form:9a\n",
    "print(\"Hexa decimal Form:{0:X}\".format(154)) # Hexa decimal Form:9A"
   ]
  },
  {
   "cell_type": "markdown",
   "id": "eacadcab",
   "metadata": {},
   "source": [
    "Note: We can represent only int values in binary, octal and hexadecimal and it is not possible for float values.\n",
    "\n",
    "Note:\n",
    "\n",
    "{:5d} It takes an intEger argument and assigns a minimum width of 5.\n",
    "\n",
    "{:8.3f} It takes a float argument and assigns a minimum width of 8 including \".\" and after decimal point excatly 3 digits are allowed with round operation if required\n",
    "\n",
    "{:05d} The blank places can be filled with 0. In this place only 0 allowed.\n",
    "\n",
    "### Case-3: Number formatting for signed numbers\n",
    "\n",
    "While displaying positive numbers,if we want to include + then we have to write {:+d} and {:+f}\n",
    "\n",
    "Using plus for -ve numbers there is no use and for -ve numbers - sign will come automatically."
   ]
  },
  {
   "cell_type": "code",
   "execution_count": null,
   "id": "0bf6c771",
   "metadata": {},
   "outputs": [],
   "source": [
    "print(\"int value with sign:{:+d}\".format(123)) # +123\n",
    "print(\"int value with sign:{:+d}\".format(-123)) # -123 \n",
    "print(\"float value with sign:{:+f}\".format(123.456)) # +123.456000\n",
    "print(\"float value with sign:{:+f}\".format(-123.456)) # -123.456000"
   ]
  },
  {
   "cell_type": "markdown",
   "id": "0b6affbd",
   "metadata": {},
   "source": [
    "### Case-4: Number formatting with alignment\n",
    "\n",
    "<,>,^ and = are used for alignment\n",
    "\n",
    "< ==>Left Alignment to the remaining space\n",
    "\n",
    "^ ===>Center alignment to the remaining space\n",
    "\n",
    "```> ===> Right alignment to the remaining space```\n",
    "\n",
    "= ===>Forces the signed(+) (-) to the left most position\n",
    "\n",
    "Note: Default Alignment for numbers is Right Alignment"
   ]
  },
  {
   "cell_type": "code",
   "execution_count": 19,
   "id": "215f930e",
   "metadata": {},
   "outputs": [
    {
     "name": "stdout",
     "output_type": "stream",
     "text": [
      "   12\n",
      "12   \n",
      "12000\n",
      "   12\n",
      "00012\n",
      " 12  \n",
      "-  12\n",
      "  12.235  \n",
      "- 12.235\n"
     ]
    }
   ],
   "source": [
    "print(\"{:5d}\".format(12))\n",
    "print(\"{:<5d}\".format(12)) \n",
    "print(\"{:<05d}\".format(12))\n",
    "print(\"{:>5d}\".format(12))\n",
    "print(\"{:>05d}\".format(12))\n",
    "print(\"{:^5d}\".format(12))\n",
    "print(\"{:=5d}\".format(-12))\n",
    "print(\"{:^10.3f}\".format(12.23456))\n",
    "print(\"{:=8.3f}\".format(-12.23456))"
   ]
  },
  {
   "cell_type": "markdown",
   "id": "3131c50d",
   "metadata": {},
   "source": [
    "### Case-5: String formatting with format()\n",
    "\n",
    "Similar to numbers, we can format String values also with format() method.\n",
    "\n",
    "s.format(string)"
   ]
  },
  {
   "cell_type": "code",
   "execution_count": 20,
   "id": "f10912c6",
   "metadata": {},
   "outputs": [
    {
     "name": "stdout",
     "output_type": "stream",
     "text": [
      "   12\n",
      "rat  \n",
      "  rat\n",
      "rat  \n",
      " rat \n",
      "*rat*\n"
     ]
    }
   ],
   "source": [
    "print(\"{:5d}\".format(12))\n",
    "print(\"{:5}\".format(\"rat\"))\n",
    "print(\"{:>5}\".format(\"rat\"))\n",
    "print(\"{:<5}\".format(\"rat\"))\n",
    "print(\"{:^5}\".format(\"rat\"))\n",
    "print(\"{:*^5}\".format(\"rat\")) #Instead of * we can use any character(like +,$,a etc)"
   ]
  },
  {
   "cell_type": "markdown",
   "id": "3ab84d64",
   "metadata": {},
   "source": [
    "Note: For numbers default alignment is right where as for strings default alignment is left\n",
    "\n",
    "### Case-6: Truncating Strings with format() method"
   ]
  },
  {
   "cell_type": "code",
   "execution_count": 21,
   "id": "421d056d",
   "metadata": {},
   "outputs": [
    {
     "name": "stdout",
     "output_type": "stream",
     "text": [
      "vis\n",
      "vis  \n",
      "  vis\n",
      " vis \n",
      "*vis*\n"
     ]
    }
   ],
   "source": [
    "print(\"{:.3}\".format(\"vishalparikh\"))\n",
    "print(\"{:5.3}\".format(\"vishalparikh\"))\n",
    "print(\"{:>5.3}\".format(\"vishalparikh\"))\n",
    "print(\"{:^5.3}\".format(\"vishalparikh\"))\n",
    "print(\"{:*^5.3}\".format(\"vishalparikh\"))"
   ]
  },
  {
   "cell_type": "markdown",
   "id": "df5b47a9",
   "metadata": {},
   "source": [
    "### Case-7: Formatting dictionary members using format()"
   ]
  },
  {
   "cell_type": "code",
   "execution_count": 28,
   "id": "61175fca",
   "metadata": {},
   "outputs": [
    {
     "name": "stdout",
     "output_type": "stream",
     "text": [
      "Vishal's age is: 40\n"
     ]
    }
   ],
   "source": [
    "person={'age':40,'name':'Vishal'}\n",
    "print(\"{p[name]}'s age is: {p[age]}\".format(p=person))"
   ]
  },
  {
   "cell_type": "markdown",
   "id": "9ae804bb",
   "metadata": {},
   "source": [
    "### Case-8: Formatting class members using format()"
   ]
  },
  {
   "cell_type": "code",
   "execution_count": 29,
   "id": "d02c7821",
   "metadata": {},
   "outputs": [
    {
     "name": "stdout",
     "output_type": "stream",
     "text": [
      "vishal's age is :40\n"
     ]
    }
   ],
   "source": [
    "class Person:\n",
    "    age=40\n",
    "    name=\"vishal\"\n",
    "print(\"{p.name}'s age is :{p.age}\".format(p=Person()))"
   ]
  },
  {
   "cell_type": "code",
   "execution_count": 31,
   "id": "de7a6fb2",
   "metadata": {},
   "outputs": [
    {
     "name": "stdout",
     "output_type": "stream",
     "text": [
      "Vishal's age is :40\n",
      "Malaram's age is :41\n"
     ]
    }
   ],
   "source": [
    "class Person:\n",
    "    def __init__(self,name,age):\n",
    "        self.name=name\n",
    "        self.age=age\n",
    "print(\"{p.name}'s age is :{p.age}\".format(p=Person('Vishal',40)))\n",
    "print(\"{p.name}'s age is :{p.age}\".format(p=Person('Malaram',41)))"
   ]
  },
  {
   "cell_type": "markdown",
   "id": "dea795cf",
   "metadata": {},
   "source": [
    "Note: Here Person object is passed as keyword argument. We can access by using its reference variable in the template string\n",
    "\n",
    "### Case-9: Dynamic Formatting using format()"
   ]
  },
  {
   "cell_type": "code",
   "execution_count": 32,
   "id": "391da6e7",
   "metadata": {},
   "outputs": [
    {
     "name": "stdout",
     "output_type": "stream",
     "text": [
      "*cat*\n",
      "*cat**\n",
      "cat***\n",
      "***cat\n"
     ]
    }
   ],
   "source": [
    "string=\"{:{fill}{align}{width}}\"\n",
    "print(string.format('cat',fill='*',align='^',width=5))\n",
    "print(string.format('cat',fill='*',align='^',width=6))\n",
    "print(string.format('cat',fill='*',align='<',width=6))\n",
    "print(string.format('cat',fill='*',align='>',width=6))"
   ]
  },
  {
   "cell_type": "markdown",
   "id": "7373c09d",
   "metadata": {},
   "source": [
    "### Case-10: Dynamic Float format template"
   ]
  },
  {
   "cell_type": "code",
   "execution_count": 22,
   "id": "f6250093",
   "metadata": {},
   "outputs": [
    {
     "name": "stdout",
     "output_type": "stream",
     "text": [
      "123.24  \n",
      "  123.24\n"
     ]
    }
   ],
   "source": [
    "num=\"{:{align}{width}.{precision}f}\"\n",
    "print(num.format(123.236,align='<',width=8,precision=2))\n",
    "print(num.format(123.236,align='>',width=8,precision=2))"
   ]
  },
  {
   "cell_type": "markdown",
   "id": "f28dfc79",
   "metadata": {},
   "source": [
    "### Case-11: Formatting Date values"
   ]
  },
  {
   "cell_type": "code",
   "execution_count": 33,
   "id": "062fd0f5",
   "metadata": {},
   "outputs": [
    {
     "name": "stdout",
     "output_type": "stream",
     "text": [
      "It's now:01/02/2023 16:14:03\n"
     ]
    }
   ],
   "source": [
    "import datetime\n",
    "#datetime formatting\n",
    "date=datetime.datetime.now()\n",
    "print(\"It's now:{:%d/%m/%Y %H:%M:%S}\".format(date))"
   ]
  },
  {
   "cell_type": "markdown",
   "id": "4db9eb7c",
   "metadata": {},
   "source": [
    "### Case-12: Formatting Complex Numbers"
   ]
  },
  {
   "cell_type": "code",
   "execution_count": 34,
   "id": "a32cabac",
   "metadata": {},
   "outputs": [
    {
     "name": "stdout",
     "output_type": "stream",
     "text": [
      "Real Part:1.0 and Imaginary Part:2.0\n"
     ]
    }
   ],
   "source": [
    "complexNumber=1+2j\n",
    "print(\"Real Part:{0.real} and Imaginary Part:{0.imag}\".format(complexNumber))"
   ]
  }
 ],
 "metadata": {
  "kernelspec": {
   "display_name": "Python 3 (ipykernel)",
   "language": "python",
   "name": "python3"
  },
  "language_info": {
   "codemirror_mode": {
    "name": "ipython",
    "version": 3
   },
   "file_extension": ".py",
   "mimetype": "text/x-python",
   "name": "python",
   "nbconvert_exporter": "python",
   "pygments_lexer": "ipython3",
   "version": "3.9.12"
  }
 },
 "nbformat": 4,
 "nbformat_minor": 5
}
