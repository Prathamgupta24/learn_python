{
 "cells": [
  {
   "cell_type": "markdown",
   "metadata": {},
   "source": [
    "# File Handling\n",
    "Python has several functions for creating, reading, updating, and deleting files.\n",
    "Python provides basic functions and methods necessary to manipulate files by default. You can do most of the file manipulation using a file object."
   ]
  },
  {
   "cell_type": "markdown",
   "metadata": {},
   "source": [
    "# Opening and Closing Files"
   ]
  },
  {
   "cell_type": "markdown",
   "metadata": {},
   "source": [
    "# The open Function\n",
    "This function creates a file object, which would be utilized to call other support methods associated with it.\n",
    "\n",
    "Syntax:\n",
    "    file object = open(file_name [, access_mode][, buffering])\n",
    "\n",
    "parameter details:\n",
    "\n",
    "    ->file_name − The file_name argument is a string value that contains the name of the file that you want to access.\n",
    "\n",
    "    ->access_mode − The access_mode determines the mode in which the file has to be opened, i.e., read, write, append, etc. This is optional parameter and the default file access mode is read (r).\n",
    "\n",
    "    ->buffering − If the buffering value is set to 0, no buffering takes place. If the buffering value is 1, line buffering is performed while accessing a file. If you specify the buffering value as an integer greater than 1, then buffering action is performed with the indicated buffer size. If negative, the buffer size is the system default(default behavior).\n",
    "\n",
    "list of the different modes of opening a file:\n",
    "\n",
    "    ->r = Opens a file for reading only.  \n",
    "    ->rb = Opens a file for reading only in binary format.\n",
    "    ->r+ = Opens a file for both reading and writing.\n",
    "    ->rb+ = Opens a file for both reading and writing in binary format. \n",
    "    ->w = Opens a file for writing only. Overwrites the file if the file exists. If the file does not exist, creates a new file for writing.\n",
    "    ->wb = Opens a file for writing only in binary format. Overwrites the file if the file exists. If the file does not exist, creates a new file for writing.\n",
    "    ->w+ = Opens a file for both writing and reading. Overwrites the existing file if the file exists. If the file does not exist, creates a new file for reading and writing.\n",
    "    ->wb+ = Opens a file for both writing and reading in binary format. Overwrites the existing file if the file exists. If the file does not exist, creates a new file for reading and writing.\n",
    "    ->a = Opens a file for appending. The file pointer is at the end of the file if the file exists. That is, the file is in the append mode. If the file does not exist, it creates a new file for writing.\n",
    "    ->ab = Opens a file for appending in binary format. The file pointer is at the end of the file if the file exists. That is, the file is in the append mode. If the file does not exist, it creates a new file for writing.\n",
    "    ->a+ = Opens a file for both appending and reading. The file pointer is at the end of the file if the file exists. The file opens in the append mode. If the file does not exist, it creates a new file for reading and writing.\n",
    "    ->ab+ = Opens a file for both appending and reading in binary format. The file pointer is at the end of the file if the file exists. The file opens in the append mode. If the file does not exist, it creates a new file for reading and writing."
   ]
  },
  {
   "cell_type": "markdown",
   "metadata": {},
   "source": [
    "# The file Object Attributes:\n",
    "\n",
    "Once a file is opened and you have one file object, you can get various information related to that file.\n",
    "\n",
    "List of attributes related to file object:\n",
    "\n",
    "    ->file.closed : Returns true if file is closed, false otherwise.\n",
    "    ->file.mode   : Returns access mode with which file was opened.\n",
    "    ->file.name   : Returns name of the file."
   ]
  },
  {
   "cell_type": "code",
   "execution_count": 1,
   "metadata": {
    "scrolled": true
   },
   "outputs": [
    {
     "name": "stdout",
     "output_type": "stream",
     "text": [
      "Name of the file:  foo.txt\n",
      "Closed or not :  False\n",
      "Opening mode :  w\n",
      "<_io.TextIOWrapper name='foo.txt' mode='w' encoding='cp1252'>\n"
     ]
    }
   ],
   "source": [
    "# Open a file\n",
    "fo = open(\"foo.txt\", \"w\")\n",
    "print(\"Name of the file: \", fo.name)\n",
    "print(\"Closed or not : \", fo.closed)\n",
    "print(\"Opening mode : \", fo.mode)\n",
    "print(fo)"
   ]
  },
  {
   "cell_type": "markdown",
   "metadata": {},
   "source": [
    "# The close() Method\n",
    "\n",
    "    The close() method of a file object flushes any unwritten information and closes the file object, after which no more writing can be done.\n",
    "\n",
    "    Python automatically closes a file when the reference object of a file is reassigned to another file. It is a good practice to use the close() method to close a file.\n"
   ]
  },
  {
   "cell_type": "code",
   "execution_count": 2,
   "metadata": {},
   "outputs": [
    {
     "name": "stdout",
     "output_type": "stream",
     "text": [
      "Name of the file:  foo.txt\n",
      "True\n"
     ]
    }
   ],
   "source": [
    "# Open a file\n",
    "fo = open(\"foo.txt\", \"w\")\n",
    "print(\"Name of the file: \", fo.name)\n",
    "\n",
    "# Close opend file\n",
    "fo.close()\n",
    "print(fo.closed)"
   ]
  },
  {
   "cell_type": "markdown",
   "metadata": {},
   "source": [
    "# Reading and Writing Files\n",
    "    The file object provides a set of access methods to make our lives easier. We would see how to use read() and write() methods to read and write files."
   ]
  },
  {
   "cell_type": "markdown",
   "metadata": {},
   "source": [
    "# The write() Method\n",
    "\n",
    "    The write() method writes any string to an open file. It is important to note that Python strings can have binary data and not just text.\n",
    "\n",
    "    The write() method does not add a newline character ('\\n') to the end of the string.\n"
   ]
  },
  {
   "cell_type": "code",
   "execution_count": 4,
   "metadata": {},
   "outputs": [],
   "source": [
    "# Open a file\n",
    "fo = open(\"foo.txt\", \"w\")\n",
    "fo.write(\"Python is a great language.\\nYeah its great!!\\n\")\n",
    "fo.write(\"Python is a great language.\\nYeah its great!!\\n\")\n",
    "#fo.write(\"\\n\")\n",
    "# Close opend file\n",
    "fo.close()"
   ]
  },
  {
   "cell_type": "markdown",
   "metadata": {},
   "source": [
    "# The read() Method\n",
    "\n",
    "    The read() method reads a string from an open file. It is important to note that Python strings can have binary data. apart from text data.\n",
    "\n",
    "    Syntax: fileObject.read([count])\n",
    "    Here, passed parameter is the number of bytes to be read from the opened file. This method starts reading from the beginning of the file and if count is missing, then it tries to read as much as possible, maybe until the end of file."
   ]
  },
  {
   "cell_type": "code",
   "execution_count": 7,
   "metadata": {},
   "outputs": [
    {
     "name": "stdout",
     "output_type": "stream",
     "text": [
      "Read String is :  Python is \n",
      "Read String is :  a great la\n"
     ]
    }
   ],
   "source": [
    "# Open a file\n",
    "fo = open(\"foo.txt\", \"r\")\n",
    "str = fo.read(10);\n",
    "print(\"Read String is : \", str)\n",
    "str = fo.read(10);\n",
    "print(\"Read String is : \", str)\n",
    "#str = fo.read();\n",
    "#print(\"Read String is : \", str)\n",
    "# Close opend file\n",
    "fo.close()"
   ]
  },
  {
   "cell_type": "markdown",
   "metadata": {},
   "source": [
    "# File Positions\n",
    "\n",
    "    The tell() method tells you the current position within the file; in other words, the next read or write will occur at that many bytes from the beginning of the file.\n",
    "\n",
    "    The seek(offset[, from]) method changes the current file position. The offset argument indicates the number of bytes to be moved. The from argument specifies the reference position from where the bytes are to be moved.\n",
    "    If from is set to 0, it means use the beginning of the file as the reference position and 1 means use the current position as the reference position and if it is set to 2 then the end of the file would be taken as the reference position."
   ]
  },
  {
   "cell_type": "code",
   "execution_count": 5,
   "metadata": {
    "scrolled": true
   },
   "outputs": [
    {
     "name": "stdout",
     "output_type": "stream",
     "text": [
      "Current File postion: 0\n",
      "Read String is :  T\n",
      "Current File postion: 1\n",
      "Read String is :  his is 1st l\n",
      "Current file position :  13\n",
      "Again read String is :  This is 1s\n",
      "Again read String is :  t line\n",
      "Thi\n",
      "Again read String is :  \n"
     ]
    },
    {
     "ename": "UnsupportedOperation",
     "evalue": "can't do nonzero end-relative seeks",
     "output_type": "error",
     "traceback": [
      "\u001b[1;31m---------------------------------------------------------------------------\u001b[0m",
      "\u001b[1;31mUnsupportedOperation\u001b[0m                      Traceback (most recent call last)",
      "\u001b[1;32m<ipython-input-5-ccbda506dd36>\u001b[0m in \u001b[0;36m<module>\u001b[1;34m\u001b[0m\n\u001b[0;32m     26\u001b[0m \u001b[0mprint\u001b[0m\u001b[1;33m(\u001b[0m\u001b[1;34m\"Again read String is : \"\u001b[0m\u001b[1;33m,\u001b[0m \u001b[0mstr\u001b[0m\u001b[1;33m)\u001b[0m\u001b[1;33m\u001b[0m\u001b[1;33m\u001b[0m\u001b[0m\n\u001b[0;32m     27\u001b[0m \u001b[1;33m\u001b[0m\u001b[0m\n\u001b[1;32m---> 28\u001b[1;33m \u001b[0mposition\u001b[0m \u001b[1;33m=\u001b[0m \u001b[0mfo\u001b[0m\u001b[1;33m.\u001b[0m\u001b[0mseek\u001b[0m\u001b[1;33m(\u001b[0m\u001b[1;33m-\u001b[0m\u001b[1;36m10\u001b[0m\u001b[1;33m,\u001b[0m \u001b[1;36m2\u001b[0m\u001b[1;33m)\u001b[0m\u001b[1;33m;\u001b[0m\u001b[1;33m\u001b[0m\u001b[1;33m\u001b[0m\u001b[0m\n\u001b[0m\u001b[0;32m     29\u001b[0m \u001b[0mstr\u001b[0m \u001b[1;33m=\u001b[0m \u001b[0mfo\u001b[0m\u001b[1;33m.\u001b[0m\u001b[0mread\u001b[0m\u001b[1;33m(\u001b[0m\u001b[1;36m10\u001b[0m\u001b[1;33m)\u001b[0m\u001b[1;33m\u001b[0m\u001b[1;33m\u001b[0m\u001b[0m\n\u001b[0;32m     30\u001b[0m \u001b[0mprint\u001b[0m\u001b[1;33m(\u001b[0m\u001b[1;34m\"Again read String is : \"\u001b[0m\u001b[1;33m,\u001b[0m \u001b[0mstr\u001b[0m\u001b[1;33m)\u001b[0m\u001b[1;33m\u001b[0m\u001b[1;33m\u001b[0m\u001b[0m\n",
      "\u001b[1;31mUnsupportedOperation\u001b[0m: can't do nonzero end-relative seeks"
     ]
    }
   ],
   "source": [
    "# Open a file\n",
    "fo = open(\"foo.txt\", \"r+\")\n",
    "print(\"Current File postion:\",fo.tell())\n",
    "str = fo.read(1)\n",
    "print(\"Read String is : \", str)\n",
    "print(\"Current File postion:\",fo.tell())\n",
    "str = fo.read(12)\n",
    "print(\"Read String is : \", str)\n",
    "\n",
    "# Check current position\n",
    "position = fo.tell()\n",
    "print(\"Current file position : \", position)\n",
    "\n",
    "# Reposition pointer at the beginning once again\n",
    "position = fo.seek(0, 0);\n",
    "str = fo.read(10)\n",
    "print(\"Again read String is : \", str)\n",
    "\n",
    "position = fo.seek(0, 1);\n",
    "str = fo.read(10)\n",
    "print(\"Again read String is : \", str)\n",
    "\n",
    "#appending , move position to end of the file\n",
    "position = fo.seek(0, 2);\n",
    "str = fo.read(10)\n",
    "print(\"Again read String is : \", str)\n",
    "\n",
    "position = fo.seek(-10, 2);\n",
    "str = fo.read(10)\n",
    "print(\"Again read String is : \", str)\n",
    "\n",
    "position = fo.seek(10, 1);\n",
    "str = fo.read(10)\n",
    "print(\"Again read String is : \", str)\n",
    "\n",
    "# Close opend file\n",
    "fo.close()"
   ]
  },
  {
   "cell_type": "markdown",
   "metadata": {},
   "source": [
    "# Renaming and Deleting Files\n",
    "Python os module provides methods that help you perform file-processing operations, such as renaming and deleting files.\n",
    "\n",
    "To use this module you need to import it first and then you can call any related functions."
   ]
  },
  {
   "cell_type": "markdown",
   "metadata": {},
   "source": [
    "# The rename() Method\n",
    "    The rename() method takes two arguments, the current filename and the new filename.\n",
    "\n",
    "    Syntax\n",
    "        os.rename(current_file_name, new_file_name)"
   ]
  },
  {
   "cell_type": "code",
   "execution_count": 10,
   "metadata": {},
   "outputs": [],
   "source": [
    "import os\n",
    "\n",
    "fo = open(\"test1.txt\", \"w\")\n",
    "fo.write(\"Python is a great language.\\nYeah its great!!\\n\")\n",
    "fo.write(\"Python is a great language.\\nYeah its great!!\\n\")\n",
    "# Close opend file\n",
    "fo.close()\n",
    "\n",
    "if os.path.exists(\"test1.txt\"):\n",
    "    # Rename a file from test1.txt to test2.txt\n",
    "    os.rename( \"test1.txt\", \"test2.txt\" )\n",
    "else:\n",
    "    print(\"The file does not exist\")"
   ]
  },
  {
   "cell_type": "markdown",
   "metadata": {},
   "source": [
    "# The remove() Method\n",
    "    You can use the remove() method to delete files by supplying the name of the file to be deleted as the argument.\n",
    "\n",
    "    Syntax\n",
    "        os.remove(file_name)"
   ]
  },
  {
   "cell_type": "code",
   "execution_count": 11,
   "metadata": {},
   "outputs": [
    {
     "name": "stdout",
     "output_type": "stream",
     "text": [
      "File removed...\n"
     ]
    }
   ],
   "source": [
    "import os\n",
    "if os.path.exists(\"test2.txt\"):\n",
    "    os.remove(\"test2.txt\")\n",
    "    print(\"File removed...\")\n",
    "else:\n",
    "    print(\"The file does not exist\")"
   ]
  },
  {
   "cell_type": "markdown",
   "metadata": {},
   "source": [
    "#  File readline() Method\n",
    "    Python file method readline() reads one entire line from the file. A trailing newline character is kept in the string. If the size argument is present and non-negative, it is a maximum byte count including the trailing newline and an incomplete line may be returned.\n",
    "\n",
    "    An empty string is returned only when EOF is encountered immediately.\n",
    "\n",
    "    Syntax\n",
    "        Following is the syntax for readline() method −\n",
    "\n",
    "    fileObject.readline( size );\n",
    "    Parameters\n",
    "        size − This is the number of bytes to be read from the file."
   ]
  },
  {
   "cell_type": "code",
   "execution_count": 12,
   "metadata": {},
   "outputs": [
    {
     "name": "stdout",
     "output_type": "stream",
     "text": [
      "Name of the file:  foo.txt\n",
      "This is 1st line\n",
      "This is 2nd line\n",
      "This is 3rd line\n",
      "This is 4th line\n",
      "This is 5th line\n",
      "\n",
      "Read Line: This is 1st line\n",
      "\n",
      "Read Line: This is 2nd line\n",
      "\n",
      "Read Line: This \n"
     ]
    }
   ],
   "source": [
    "# Open a file\n",
    "fo = open(\"foo.txt\", \"r+\")\n",
    "print(\"Name of the file: \", fo.name)\n",
    "\n",
    "# Assuming file has following 5 lines\n",
    "# This is 1st line\n",
    "# This is 2nd line\n",
    "# This is 3rd line\n",
    "# This is 4th line\n",
    "# This is 5th line\n",
    "\n",
    "print(fo.read())\n",
    "fo.seek(0,0)\n",
    "\n",
    "line = fo.readline()\n",
    "print(\"Read Line: %s\" % (line))\n",
    "\n",
    "line = fo.readline(25)\n",
    "print (\"Read Line: %s\" % (line))\n",
    "\n",
    "fo.seek(0,0)\n",
    "line = fo.readline(5)\n",
    "print (\"Read Line: %s\" % (line))\n",
    "\n",
    "# Close opend file\n",
    "fo.close()"
   ]
  },
  {
   "cell_type": "markdown",
   "metadata": {},
   "source": [
    "# Loop through the file line by line:"
   ]
  },
  {
   "cell_type": "code",
   "execution_count": 14,
   "metadata": {},
   "outputs": [
    {
     "name": "stdout",
     "output_type": "stream",
     "text": [
      "This is 1st line\n",
      "This is 2nd line\n",
      "This is 3rd line\n",
      "This is 4th line\n",
      "This is 5th line\n",
      "False\n"
     ]
    }
   ],
   "source": [
    "f = open(\"foo.txt\", \"r\")\n",
    "#f1 = f.readlines()\n",
    "for x in f:\n",
    "    print(x,end=\"\")\n",
    "print(f.closed)"
   ]
  },
  {
   "cell_type": "markdown",
   "metadata": {},
   "source": [
    "# File readlines() Method\n",
    "    Python file method readlines() reads until EOF using readline() and returns a list containing the lines. If the optional sizehint argument is present, instead of reading up to EOF, whole lines totalling approximately sizehint bytes (possibly after rounding up to an internal buffer size) are read.\n",
    "\n",
    "    An empty string is returned only when EOF is encountered immediately.\n",
    "\n",
    "    Syntax\n",
    "    Following is the syntax for readlines() method −\n",
    "        fileObject.readlines( sizehint );\n",
    "    \n",
    "    Parameters\n",
    "        sizehint − This is the number of bytes to be read from the file.\n",
    "\n",
    "    Return Value\n",
    "        This method returns a list containing the lines."
   ]
  },
  {
   "cell_type": "code",
   "execution_count": 1,
   "metadata": {},
   "outputs": [
    {
     "name": "stdout",
     "output_type": "stream",
     "text": [
      "Name of the file:  foo.txt\n",
      "Read Line: ['This is 1st line\\n', 'This is 2nd line\\n', 'This is 3rd line\\n', 'This is 4th line\\n', 'This is 5th line\\n']\n",
      "Read Line: ['This is 1st line\\n', 'This is 2nd line\\n']\n"
     ]
    }
   ],
   "source": [
    "# Open a file\n",
    "fo = open(\"foo.txt\", \"r+\")\n",
    "print (\"Name of the file: \", fo.name)\n",
    "\n",
    "# Assuming file has following 5 lines\n",
    "# This is 1st line\n",
    "# This is 2nd line\n",
    "# This is 3rd line\n",
    "# This is 4th line\n",
    "# This is 5th line\n",
    "\n",
    "line = fo.readlines()\n",
    "print (\"Read Line: %s\" % (line))\n",
    "\n",
    "# Reposition pointer at the beginning once again\n",
    "position = fo.seek(0, 0);\n",
    "\n",
    "line = fo.readlines(30)\n",
    "print (\"Read Line: %s\" % (line))\n",
    "\n",
    "# Close opend file\n",
    "fo.close()"
   ]
  },
  {
   "cell_type": "markdown",
   "metadata": {},
   "source": [
    "# File writelines() Method\n",
    "    Python file method writelines() writes a sequence of strings to the file. The sequence can be any iterable object producing strings, typically a list of strings. There is no return value.\n",
    "\n",
    "    Syntax\n",
    "        Following is the syntax for writelines() method −\n",
    "        fileObject.writelines( sequence )\n",
    "\n",
    "    Parameters\n",
    "        sequence − This is the Sequence of the strings."
   ]
  },
  {
   "cell_type": "code",
   "execution_count": 11,
   "metadata": {},
   "outputs": [
    {
     "name": "stdout",
     "output_type": "stream",
     "text": [
      "Name of the file:  foo.txt\n",
      "Line No 1 - This is 1st line\n",
      "\n",
      "Line No 2 - This is 2nd line\n",
      "\n",
      "Line No 3 - This is 3rd line\n",
      "\n",
      "Line No 4 - This is 4th line\n",
      "\n",
      "Line No 5 - This is 5th line\n",
      "\n",
      "Line No 6 - This is 6th line\n",
      "\n",
      "Line No 7 - This is 7th line\n",
      "\n"
     ]
    }
   ],
   "source": [
    "# Open a file in witre mode\n",
    "fo = open(\"foo.txt\", \"a+\")\n",
    "print(\"Name of the file: \", fo.name)\n",
    "\n",
    "# Assuming file has following 5 lines\n",
    "# This is 1st line\n",
    "# This is 2nd line\n",
    "# This is 3rd line\n",
    "# This is 4th line\n",
    "# This is 5th line\n",
    "\n",
    "seq = [\"This is 6th line\\n\", \"This is 7th line\\n\"]\n",
    "# Write sequence of lines at the end of the file.\n",
    "fo.seek(0, 2)\n",
    "line = fo.writelines( seq )\n",
    "\n",
    "# Now read complete file from beginning.\n",
    "fo.seek(0,0)\n",
    "for index in range(7):\n",
    "    line = fo.readline()\n",
    "    print(\"Line No %d - %s\" % (index+1, line))\n",
    "\n",
    "# Close opend file\n",
    "fo.close()"
   ]
  },
  {
   "cell_type": "markdown",
   "metadata": {},
   "source": [
    "# File handling demo program"
   ]
  },
  {
   "cell_type": "code",
   "execution_count": 3,
   "metadata": {
    "scrolled": true
   },
   "outputs": [
    {
     "name": "stdout",
     "output_type": "stream",
     "text": [
      "Name of the file:  ldata1.txt\n",
      "Enter  words comma seperated, enter 'end' word to terminatea,b,c,d\n",
      "Enter words comma seperated, enter 'end' word to terminatee,f,g\n",
      "Enter words comma seperated, enter 'end' word to terminateend\n",
      "File Data:\n",
      "Line  a,b,c,d\n",
      "\n",
      "split operation\n",
      "['a', 'b', 'c', 'd\\n']\n",
      "a\n",
      "b\n",
      "c\n",
      "d\n",
      "\n",
      "Line  e,f,g\n",
      "\n",
      "split operation\n",
      "['e', 'f', 'g\\n']\n",
      "e\n",
      "f\n",
      "g\n",
      "\n"
     ]
    }
   ],
   "source": [
    "# Open a file in witre mode\n",
    "fo = open(\"ldata1.txt\", \"w+\")\n",
    "print(\"Name of the file: \", fo.name)\n",
    "\n",
    "istr=input(\"Enter  words comma seperated, enter 'end' word to terminate\")\n",
    "#print(istr==\"end\")\n",
    "while not istr==\"end\":\n",
    "    fo.write(istr)\n",
    "    fo.write('\\n')\n",
    "    istr=input(\"Enter words comma seperated, enter 'end' word to terminate\")\n",
    "\n",
    "fo.flush()\n",
    "print('File Data:')\n",
    "# Now read complete file from beginning.\n",
    "fo.seek(0,0)\n",
    "for index in fo:\n",
    "    print(\"Line  %s\" %  index)\n",
    "    x=index.split(',') \n",
    "    print(\"split operation\")\n",
    "    print(x)\n",
    "    for i in x:\n",
    "        print(i)\n",
    "\n",
    "# Close opend file\n",
    "fo.close()"
   ]
  },
  {
   "cell_type": "code",
   "execution_count": 5,
   "metadata": {},
   "outputs": [
    {
     "name": "stdout",
     "output_type": "stream",
     "text": [
      "['19BCE078', '19BCE079', '19BCE080', '19BCE081', '19BCE082', '19BCE083', '19BCE084', '19BCE085', '19BCE086', '19BCE087']\n"
     ]
    }
   ],
   "source": [
    "file = open('numbers.txt','r+')\n",
    "file.seek(0,0)\n",
    "x = file.read().splitlines()\n",
    "print(x)"
   ]
  },
  {
   "cell_type": "markdown",
   "metadata": {},
   "source": [
    "# Working with csv files in Python\n",
    "\n",
    "First of all, what is a CSV ?\n",
    "    \n",
    "    CSV (Comma Separated Values) is a simple file format used to store tabular data, such as a spreadsheet or database. A CSV file stores tabular data (numbers and text) in plain text. Each line of the file is a data record. Each record consists of one or more fields, separated by commas. The use of the comma as a field separator is the source of the name for this file format.\n",
    "    \n",
    "    For working CSV files in python, there is an inbuilt module called csv.\n"
   ]
  },
  {
   "cell_type": "code",
   "execution_count": 11,
   "metadata": {},
   "outputs": [
    {
     "name": "stdout",
     "output_type": "stream",
     "text": [
      "Total no. of rows: 0\n",
      "Column names are:\n",
      "  Date,Open,High,Low,Last,Close,Total Trade Quantity,Turnover (Lacs)\n",
      "\t 9/28/2018 \t 683.1\n",
      "\t 9/27/2018 \t 697.15\n",
      "\t 9/26/2018 \t 711.6\n",
      "\t 9/25/2018 \t 718.15\n",
      "\t 9/24/2018 \t 721.9\n",
      "\t 9/21/2018 \t 717.4\n",
      "\t 9/19/2018 \t 736.15\n",
      "\t 9/18/2018 \t 757.85\n",
      "\t 9/17/2018 \t 778.7\n",
      "\t 9/14/2018 \t 730.7\n",
      "\t 9/12/2018 \t 731.15\n",
      "\t 9/11/2018 \t 733.35\n",
      "\t 9/10/2018 \t 735.1\n",
      "\t 9/7/2018 \t 735.8\n",
      "\t 9/6/2018 \t 737.75\n",
      "\t 9/5/2018 \t 730.05\n",
      "\t 9/4/2018 \t 737.75\n",
      "\t 9/3/2018 \t 746.15\n",
      "\t 8/31/2018 \t 739.8\n",
      "Processed  20 lines.\n"
     ]
    }
   ],
   "source": [
    "# importing csv module \n",
    "import csv \n",
    "\n",
    "# csv file name \n",
    "filename = \"sm.csv\"\n",
    "\n",
    "# The best way to do this is using the with statement.\n",
    "# This ensures that the file is closed when the block inside with is exited.\n",
    "# We don't need to explicitly call the close() method.\n",
    "# It is done internally.\n",
    "\n",
    "# reading csv file \n",
    "with open(filename, 'r') as csvfile: \n",
    "    # creating a csv reader object \n",
    "    csvreader = csv.reader(csvfile, delimiter=',') \n",
    "    \n",
    "    # get total number of rows \n",
    "    print(\"Total no. of rows: %d\"%(csvreader.line_num)) \n",
    "\n",
    "    line_count = 0\n",
    "    for row in csvreader:\n",
    "        if line_count == 0:\n",
    "            print('Column names are:\\n ', \",\".join(row))\n",
    "            line_count += 1\n",
    "        else:\n",
    "            #print('\\t',row[0],'\\t',row[5])\n",
    "            print(\"\\t\".join(row))\n",
    "            line_count += 1\n",
    "    print('Processed ',line_count, 'lines.' )"
   ]
  },
  {
   "cell_type": "code",
   "execution_count": 13,
   "metadata": {},
   "outputs": [],
   "source": [
    "import csv\n",
    "# Writing CSV files Using csv.writer()\n",
    "#The csv.writer() function returns a writer object that converts the \n",
    "#user's data into a delimited string. \n",
    "#This string can later be used to write into CSV files \n",
    "#using the writerow() function. \n",
    "with open('sm1.csv', 'a+',newline='') as file:\n",
    "    writer = csv.writer(file)\n",
    "    writer.writerow([\"9/28/2018\",707,707.95,681,682.65,683.1,131700,910.52])\n",
    "    writer.writerow([\"9/27/2018\",716.8,723.5,691.1,697.8,697.15,156222,1104.25])"
   ]
  },
  {
   "cell_type": "code",
   "execution_count": 15,
   "metadata": {},
   "outputs": [],
   "source": [
    "import csv\n",
    "#Writing multiple rows with writerows()\n",
    "csv_rowlist = [[\"9/28/2018\",707,707.95,681,682.65,683.1,131700,910.52], \n",
    "               [\"9/27/2018\",716.8,723.5,691.1,697.8,697.15,156222,1104.25]]\n",
    "with open('sm1.csv', 'a',newline='') as file:\n",
    "    writer = csv.writer(file,delimiter = ',')\n",
    "    writer.writerows(csv_rowlist)"
   ]
  },
  {
   "cell_type": "markdown",
   "metadata": {},
   "source": [
    "References:\n",
    "\n",
    "    1) https://www.tutorialspoint.com/python/python_files_io.htm\n",
    "    2) https://realpython.com/python-csv/\n",
    "    3) https://www.programiz.com/python-programming/csv"
   ]
  },
  {
   "cell_type": "code",
   "execution_count": 18,
   "metadata": {},
   "outputs": [
    {
     "name": "stdout",
     "output_type": "stream",
     "text": [
      "Read Line This is 1st line\n",
      "This is 2nd line\n",
      "This is 3rd line\n",
      "This is 4th line\n",
      "This is 5th line\n",
      "This is 6th line\n",
      "This is 7th line\n",
      "\n",
      "Read String is :  This is 1st line\n",
      "\n",
      "Using Readline function:\n",
      "Hi, Line1: This is 2nd line\n",
      "Hi, Line2: This is 3rd line\n",
      "Hi, Line3: This is 4th line\n",
      "Hi, Line4: This is 5th line\n",
      "Hi, Line5: This is 6th line\n",
      "Hi, Line6: This is 7th line\n",
      "Using readlines function\n",
      "['This is 1st line\\n', 'This is 2nd line\\n', 'This is 3rd line\\n', 'This is 4th line\\n', 'This is 5th line\\n', 'This is 6th line\\n', 'This is 7th line\\n']\n",
      "This is 1st line\n",
      "This is 2nd line\n",
      "This is 3rd line\n",
      "This is 4th line\n",
      "This is 5th line\n",
      "This is 6th line\n",
      "This is 7th line\n"
     ]
    }
   ],
   "source": [
    "fo = open(\"foo.txt\", \"r\")\n",
    "#str = fo.read(10);\n",
    "#print(\"Read String is : \", str)\n",
    "str1 = fo.read()\n",
    "print(\"Read Line %s\"% str1)\n",
    "fo.seek(0.0)\n",
    "str = fo.readline();\n",
    "print(\"Read String is : \", str)\n",
    "# Using readline() \n",
    "count = 0\n",
    " \n",
    "print(\"Using Readline function:\")\n",
    "while True: \n",
    "    count += 1\n",
    "    # Get next line from file \n",
    "    line = fo.readline() \n",
    "    #print(type(line))\n",
    "    # if line is empty \n",
    "    # end of file is reached \n",
    "    if not line: \n",
    "        break\n",
    "    print(\"Hi, Line{}: {}\".format(count, line.strip())) \n",
    "# Close opend file\n",
    "print(\"Using readlines function\")\n",
    "fo.seek(0,0)\n",
    "newline1 = fo.readlines()\n",
    "print(newline1)\n",
    "for s in newline1:\n",
    "    print(s.rstrip('\\n'))\n",
    "\n",
    "fo.close()"
   ]
  },
  {
   "cell_type": "markdown",
   "metadata": {},
   "source": [
    "# Store structure in the file"
   ]
  },
  {
   "cell_type": "code",
   "execution_count": 19,
   "metadata": {},
   "outputs": [
    {
     "name": "stdout",
     "output_type": "stream",
     "text": [
      "['hello', 'world'] {1: 'one', 2: 'two'}\n"
     ]
    }
   ],
   "source": [
    "import pickle\n",
    "\n",
    "def main():\n",
    "    f = open(\"data.txt\",'wb')\n",
    "    pickle.dump(['hello','world'],f)\n",
    "    pickle.dump({1:'one',2:'two'},f)\n",
    "    f.close()\n",
    "    \n",
    "    f = open('data.txt','rb')\n",
    "    value1 = pickle.load(f)\n",
    "    value2 = pickle.load(f)\n",
    "    print(value1,value2)\n",
    "    f.close()\n",
    "    \n",
    "if __name__ == '__main__':\n",
    "    main()"
   ]
  },
  {
   "cell_type": "markdown",
   "metadata": {},
   "source": [
    "### Practice Question\n",
    "###### Hint: Explore the OS package of python\n",
    "\n",
    "1. Create folder name with desired name... Creat a list which has all folder name and create folder using this data\n",
    "2. Read all the files from the folder and make common file by merging content of all the files\n",
    "3. Copy the file from one folder to another folder"
   ]
  },
  {
   "cell_type": "markdown",
   "metadata": {},
   "source": [
    "dict1 = {\"a\": 1, \"b\": 9, \"c\": 4}\n",
    "sorted_values = sorted(dict1.values()) # Sort the values\n",
    "sorted_dict = {}\n",
    "\n",
    "for i in sorted_values:\n",
    "    for k in dict1.keys():\n",
    "        if dict1[k] == i:\n",
    "            sorted_dict[k] = dict1[k]\n",
    "            break\n",
    "\n",
    "print(sorted_dict)"
   ]
  },
  {
   "cell_type": "markdown",
   "metadata": {},
   "source": [
    "x = {\"a\": 2, \"b\": 4, \"z\": 3, \"d\": 1, \"e\": 0}\n",
    "{k: v for k, v in sorted(x.items(), key=lambda item: item[1])}"
   ]
  },
  {
   "cell_type": "code",
   "execution_count": null,
   "metadata": {},
   "outputs": [],
   "source": []
  }
 ],
 "metadata": {
  "kernelspec": {
   "display_name": "Python 3",
   "language": "python",
   "name": "python3"
  },
  "language_info": {
   "codemirror_mode": {
    "name": "ipython",
    "version": 3
   },
   "file_extension": ".py",
   "mimetype": "text/x-python",
   "name": "python",
   "nbconvert_exporter": "python",
   "pygments_lexer": "ipython3",
   "version": "3.7.4"
  }
 },
 "nbformat": 4,
 "nbformat_minor": 2
}
