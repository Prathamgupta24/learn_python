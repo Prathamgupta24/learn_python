{
 "cells": [
  {
   "cell_type": "markdown",
   "id": "b3ae741b",
   "metadata": {},
   "source": [
    "# <u>Tuple Data Structure</u>"
   ]
  },
  {
   "cell_type": "markdown",
   "id": "9f5fc0bd",
   "metadata": {},
   "source": [
    "1. Tuple is exactly same as List except that it is immutable. i.e once we creates Tuple object, we cannot perform any changes in that object. Hence Tuple is Read Only version of List.  \n",
    "\n",
    "2. If our data is fixed and never changes then we should go for Tuple.  \n",
    "\n",
    "3. Insertion Order is preserved  \n",
    "\n",
    "4. Duplicates are allowed  \n",
    "\n",
    "5. Heterogeneous objects are allowed.  \n",
    "\n",
    "6. We can preserve insertion order and we can differentiate duplicate objects by using index. Hence index will play very important role in Tuple also. Tuple support both +ve and -ve index. +ve index means forward direction(from left to right) and -ve index means backward direction(from right to left)  \n",
    "7. We can represent Tuple elements within Parenthesis and with comma seperator.\n",
    "\n",
    " Parenethesis are optional but recommended to use.  "
   ]
  },
  {
   "cell_type": "code",
   "execution_count": 1,
   "id": "0d445486",
   "metadata": {},
   "outputs": [
    {
     "name": "stdout",
     "output_type": "stream",
     "text": [
      "(10, 20, 30, 40)\n",
      "<class 'tuple'>\n"
     ]
    }
   ],
   "source": [
    "t=10,20,30,40 \n",
    "print(t) \n",
    "print(type(t))"
   ]
  },
  {
   "cell_type": "markdown",
   "id": "be0ec685",
   "metadata": {},
   "source": [
    "<u>Note: </u>We have to take special care about single valued tuple.compulsary the value should ends with comma,otherwise it is not treated as tuple.  "
   ]
  },
  {
   "cell_type": "code",
   "execution_count": 2,
   "id": "ab2040c8",
   "metadata": {},
   "outputs": [
    {
     "name": "stdout",
     "output_type": "stream",
     "text": [
      "10\n",
      "<class 'int'>\n"
     ]
    }
   ],
   "source": [
    "t=(10) \n",
    "print(t) \n",
    "print(type(t))"
   ]
  },
  {
   "cell_type": "code",
   "execution_count": 3,
   "id": "6f8e97d5",
   "metadata": {},
   "outputs": [
    {
     "name": "stdout",
     "output_type": "stream",
     "text": [
      "(10,)\n",
      "<class 'tuple'>\n"
     ]
    }
   ],
   "source": [
    "t=(10,) \n",
    "print(t) \n",
    "print(type(t))"
   ]
  },
  {
   "cell_type": "markdown",
   "id": "9e813e58",
   "metadata": {},
   "source": [
    "**<u>Q. Which of the following are valid tuples?</u>** \n",
    "\n",
    " 1. t=()  \n",
    " 2. t=10,20,30,40  \n",
    " 3. t=10  \n",
    " 4. t=10,  \n",
    " 5. t=(10)  \n",
    " 6. t=(10,)  \n",
    " 7. t=(10,20,30,40)  \n",
    " \n",
    "**Tuple creation:**  \n",
    "\n",
    "**1. t=()**  \n",
    " creation of empty tuple  \n",
    "\n",
    "**2. t=(10,)**  \n",
    " t=10,    \n",
    " creation of single valued tuple, parenthesis are optional, should ends with comma  \n",
    " \n",
    "**3. t=10,20,30**  \n",
    " t=(10,20,30)  \n",
    " creation of multi values tuples & parenthesis are optional  \n",
    " \n",
    "**4. By using tuple() function**  "
   ]
  },
  {
   "cell_type": "code",
   "execution_count": 4,
   "id": "34afdaf8",
   "metadata": {},
   "outputs": [
    {
     "name": "stdout",
     "output_type": "stream",
     "text": [
      "(10, 20, 30)\n",
      "(10, 12, 14, 16, 18)\n"
     ]
    }
   ],
   "source": [
    "list=[10,20,30] \n",
    "t=tuple(list) \n",
    "print(t) \n",
    " \n",
    "t=tuple(range(10,20,2)) \n",
    "print(t)"
   ]
  },
  {
   "cell_type": "markdown",
   "id": "8411a289",
   "metadata": {},
   "source": [
    "### <u>Accessing elements of tuple:</u>   \n",
    "\n",
    "We can access either by index or by slice operator  \n",
    "\n",
    "**1. By using index:**  "
   ]
  },
  {
   "cell_type": "code",
   "execution_count": 1,
   "id": "8238afc8",
   "metadata": {},
   "outputs": [
    {
     "name": "stdout",
     "output_type": "stream",
     "text": [
      "10\n",
      "60\n"
     ]
    }
   ],
   "source": [
    "t=(10,20,30,40,50,60) \n",
    "print(t[0])  \n",
    "print(t[-1])  \n",
    "#print(t[100])"
   ]
  },
  {
   "cell_type": "markdown",
   "id": "a3dc6df4",
   "metadata": {},
   "source": [
    "**2. By using slice operator:**"
   ]
  },
  {
   "cell_type": "code",
   "execution_count": 8,
   "id": "2ef17890",
   "metadata": {},
   "outputs": [
    {
     "name": "stdout",
     "output_type": "stream",
     "text": [
      "(30, 40, 50)\n",
      "(30, 40, 50, 60)\n",
      "(10, 30, 50)\n"
     ]
    }
   ],
   "source": [
    "t=(10,20,30,40,50,60) \n",
    "print(t[2:5]) \n",
    "print(t[2:100]) \n",
    "print(t[::2])"
   ]
  },
  {
   "cell_type": "markdown",
   "id": "157379b6",
   "metadata": {},
   "source": [
    "**<u>Tuple vs immutability:</u>**  \n",
    "\n",
    "Once we creates tuple,we cannot change its content.  \n",
    "Hence tuple objects are immutable.  \n",
    " \n",
    "Eg:  \n",
    "t=(10,20,30,40)  \n",
    "t[1]=70 TypeError: 'tuple' object does not support item assignment  "
   ]
  },
  {
   "cell_type": "markdown",
   "id": "21cfa5ae",
   "metadata": {},
   "source": [
    "## <u>Mathematical operators for tuple:</u>  \n",
    "\n",
    "We can apply + and * operators for tuple  \n",
    "\n",
    "**1. Concatenation Operator(+):**  "
   ]
  },
  {
   "cell_type": "code",
   "execution_count": 10,
   "id": "e6c01eb4",
   "metadata": {},
   "outputs": [
    {
     "name": "stdout",
     "output_type": "stream",
     "text": [
      "(10, 20, 30, 40, 50, 60)\n"
     ]
    }
   ],
   "source": [
    "t1=(10,20,30) \n",
    "t2=(40,50,60)\n",
    "t3=t1+t2 \n",
    "print(t3)"
   ]
  },
  {
   "cell_type": "markdown",
   "id": "8aff99a1",
   "metadata": {},
   "source": [
    "**2. Multiplication operator or repetition operator(*)**"
   ]
  },
  {
   "cell_type": "code",
   "execution_count": 11,
   "id": "0ce1d32c",
   "metadata": {},
   "outputs": [
    {
     "name": "stdout",
     "output_type": "stream",
     "text": [
      "(10, 20, 30, 10, 20, 30, 10, 20, 30)\n"
     ]
    }
   ],
   "source": [
    "t1=(10,20,30) \n",
    "t2=t1*3 \n",
    "print(t2)"
   ]
  },
  {
   "cell_type": "markdown",
   "id": "27bab1f1",
   "metadata": {},
   "source": [
    "**Important functions of Tuple:</u>**\n",
    "\n",
    "**1. len()**  \n",
    " To return number of elements present in the tuple  \n",
    " \n",
    " Eg:  \n",
    " t=(10,20,30,40)  \n",
    " print(len(t)) #4  \n",
    " \n",
    "**2. count()**  \n",
    " To return number of occurrences of given element in the tuple  \n",
    " \n",
    " Eg:  \n",
    " t=(10,20,10,10,20)  \n",
    " print(t.count(10)) #3  \n",
    " \n",
    "**3. index()**  \n",
    " returns index of first occurrence of the given element.  \n",
    " If the specified element is not available then we will get ValueError.  \n",
    " \n",
    " Eg:  \n",
    " t=(10,20,10,10,20)  \n",
    " print(t.index(10)) #0  \n",
    " print(t.index(30)) ValueError: tuple.index(x): x not in tuple  \n",
    " \n",
    "**4. sorted()**  \n",
    " To sort elements based on default natural sorting order  "
   ]
  },
  {
   "cell_type": "code",
   "execution_count": 12,
   "id": "ed443ee5",
   "metadata": {},
   "outputs": [
    {
     "name": "stdout",
     "output_type": "stream",
     "text": [
      "[10, 20, 30, 40]\n",
      "(40, 10, 30, 20)\n"
     ]
    }
   ],
   "source": [
    "t=(40,10,30,20) \n",
    "t1=sorted(t) \n",
    "print(t1) \n",
    "print(t)"
   ]
  },
  {
   "cell_type": "code",
   "execution_count": 13,
   "id": "0599b5d9",
   "metadata": {},
   "outputs": [
    {
     "name": "stdout",
     "output_type": "stream",
     "text": [
      "[40, 30, 20, 10]\n"
     ]
    }
   ],
   "source": [
    "t1=sorted(t,reverse=True)\n",
    "print(t1)"
   ]
  },
  {
   "cell_type": "markdown",
   "id": "aa89babb",
   "metadata": {},
   "source": [
    "**5. min() and max() functions:**\n",
    "\n",
    "These functions return min and max values according to default natural sorting order.  \n",
    "\n",
    "Eg: "
   ]
  },
  {
   "cell_type": "code",
   "execution_count": 14,
   "id": "ea25152f",
   "metadata": {},
   "outputs": [
    {
     "name": "stdout",
     "output_type": "stream",
     "text": [
      "10\n",
      "40\n"
     ]
    }
   ],
   "source": [
    "t=(40,10,30,20) \n",
    "print(min(t)) #10 \n",
    "print(max(t)) #40"
   ]
  },
  {
   "cell_type": "markdown",
   "id": "52c107d7",
   "metadata": {},
   "source": [
    "**6. cmp():**  \n",
    "    \n",
    "It compares the elements of both tuples.  \n",
    "If both tuples are equal then returns 0  \n",
    "If the first tuple is less than second tuple then it returns -1  \n",
    "If the first tuple is greater than second tuple then it returns +1  \n",
    "\n",
    "Eg: \n",
    "\n",
    "1. t1=(10,20,30)   \n",
    "2. t2=(40,50,60)   \n",
    "3. t3=(10,20,30)   \n",
    "4. print(cmp(t1,t2)) # -1   \n",
    "5. print(cmp(t1,t3)) # 0     \n",
    "6. print(cmp(t2,t3)) # +1   \n",
    "\n",
    "<u>Note:</u> cmp() function is available only in Python2 but not in Python 3  "
   ]
  },
  {
   "cell_type": "markdown",
   "id": "c79f7135",
   "metadata": {},
   "source": [
    "### <u>Tuple Packing and Unpacking:</u>\n",
    "\n",
    "We can create a tuple by packing a group of variables.  \n",
    "\n",
    "Eg:  \n",
    "\n",
    "a=10  \n",
    "b=20  \n",
    "c=30  \n",
    "d=40  \n",
    "t=a,b,c,d  \n",
    "print(t) #(10, 20, 30, 40)  \n",
    "\n",
    "Here a,b,c,d are packed into a tuple t. This is nothing but tuple packing. \n",
    "Tuple unpacking is the reverse process of tuple packing  \n",
    "We can unpack a tuple and assign its values to different variables  \n",
    "\n",
    "Eg:"
   ]
  },
  {
   "cell_type": "code",
   "execution_count": 18,
   "id": "6072da5c",
   "metadata": {},
   "outputs": [
    {
     "name": "stdout",
     "output_type": "stream",
     "text": [
      "a= 10 b= 20 c= 30 d= 40\n"
     ]
    }
   ],
   "source": [
    "t=(10,20,30,40) \n",
    "a,b,c,d=t \n",
    "print(\"a=\",a,\"b=\",b,\"c=\",c,\"d=\",d)"
   ]
  },
  {
   "cell_type": "markdown",
   "id": "95e189f5",
   "metadata": {},
   "source": [
    "<u>Note:</u> At the time of tuple unpacking the number of variables and number of values   \n",
    "should be same. ,otherwise we will get ValueError.  \n",
    "\n",
    "Eg:  \n",
    "t=(10,20,30,40)  \n",
    "a,b,c=t    #ValueError: too many values to unpack (expected 3)  "
   ]
  },
  {
   "cell_type": "markdown",
   "id": "b2aea114",
   "metadata": {},
   "source": [
    "**<u>Tuple Comprehension</u>:**  \n",
    "    \n",
    "Tuple Comprehension is not supported by Python.  \n",
    "\n",
    " t= ( x**2 for x in range(1,6))  \n",
    "    \n",
    "Here we are not getting tuple object and we are getting generator object.  "
   ]
  },
  {
   "cell_type": "code",
   "execution_count": 20,
   "id": "b01d1431",
   "metadata": {},
   "outputs": [
    {
     "name": "stdout",
     "output_type": "stream",
     "text": [
      "<class 'generator'>\n",
      "1\n",
      "4\n",
      "9\n",
      "16\n",
      "25\n"
     ]
    }
   ],
   "source": [
    "t= ( x**2 for x in range(1,6)) \n",
    "print(type(t)) \n",
    "for x in t: \n",
    "    print(x)"
   ]
  },
  {
   "cell_type": "markdown",
   "id": "158c1562",
   "metadata": {},
   "source": [
    "**Q. Write a program to take a tuple of numbers from the keyboard and print its sum and \n",
    "average?**"
   ]
  },
  {
   "cell_type": "code",
   "execution_count": 21,
   "id": "1a99d238",
   "metadata": {},
   "outputs": [
    {
     "name": "stdout",
     "output_type": "stream",
     "text": [
      "Enter Tuple of Numbers:(10,20,30,40)\n",
      "The Sum= 100\n",
      "The Average= 25.0\n"
     ]
    }
   ],
   "source": [
    "t=eval(input(\"Enter Tuple of Numbers:\")) \n",
    "l=len(t) \n",
    "sum=0 \n",
    "for x in t: \n",
    "    sum=sum+x \n",
    "print(\"The Sum=\",sum) \n",
    "print(\"The Average=\",sum/l)"
   ]
  },
  {
   "attachments": {
    "image.png": {
     "image/png": "[encoded data removed]"
    }
   },
   "cell_type": "markdown",
   "id": "b9112058",
   "metadata": {},
   "source": [
    "## <u>Differences between List and Tuple:</u>  \n",
    "\n",
    "List and Tuple are exactly same except small difference: List objects are mutable where as \n",
    "Tuple objects are immutable.  \n",
    "\n",
    "In both cases insertion order is preserved, duplicate objects are allowed, heterogenous \n",
    "objects are allowed, index and slicing are supported.  \n",
    "\n",
    "![image.png](attachment:image.png)"
   ]
  },
  {
   "cell_type": "code",
   "execution_count": null,
   "id": "74cbb42b",
   "metadata": {},
   "outputs": [],
   "source": []
  }
 ],
 "metadata": {
  "kernelspec": {
   "display_name": "Python 3 (ipykernel)",
   "language": "python",
   "name": "python3"
  },
  "language_info": {
   "codemirror_mode": {
    "name": "ipython",
    "version": 3
   },
   "file_extension": ".py",
   "mimetype": "text/x-python",
   "name": "python",
   "nbconvert_exporter": "python",
   "pygments_lexer": "ipython3",
   "version": "3.9.12"
  }
 },
 "nbformat": 4,
 "nbformat_minor": 5
}
