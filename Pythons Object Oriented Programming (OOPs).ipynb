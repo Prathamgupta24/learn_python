{
 "cells": [
  {
   "cell_type": "markdown",
   "metadata": {},
   "source": [
    "## <u>Python's Object Oriented Programming (OOPs)</u>"
   ]
  },
  {
   "cell_type": "markdown",
   "metadata": {},
   "source": [
    "<b>What is Class:</b>  \n",
    "\n",
    "⚽ In Python every thing is an object. To create objects we required some Model or Plan or Blue print, which is nothing but class.  \n",
    "\n",
    "⚽ We can write a class to represent properties (attributes) and actions (behaviour) of object.  \n",
    "\n",
    "⚽ Properties can be represented by variables \n",
    "\n",
    "⚽ Actions can be represented by Methods. \n",
    "\n",
    "⚽ Hence class contains both variables and methods.\n",
    "\n",
    "<b>How to Define a class?</b>    \n",
    "\n",
    "We can define a class by using class keyword.   \n",
    "\n",
    "<b>Syntax:</b>  \n",
    "class className:  \n",
    " ''' documentation string '''  \n",
    " variables:instance variables,static and local variables  \n",
    " methods: instance methods,static methods,class methods  \n",
    "Documentation string represents description of the class. Within the class doc string is always optional. We can get doc string by using the following 2 ways.  \n",
    "\n",
    "1. ```print(classname.__doc__)```  \n",
    "2.```help(classname)```  "
   ]
  },
  {
   "cell_type": "code",
   "execution_count": 1,
   "metadata": {},
   "outputs": [
    {
     "name": "stdout",
     "output_type": "stream",
     "text": [
      " This is student class with required data\n",
      "Help on class Student in module __main__:\n",
      "\n",
      "class Student(builtins.object)\n",
      " |  This is student class with required data\n",
      " |  \n",
      " |  Data descriptors defined here:\n",
      " |  \n",
      " |  __dict__\n",
      " |      dictionary for instance variables (if defined)\n",
      " |  \n",
      " |  __weakref__\n",
      " |      list of weak references to the object (if defined)\n",
      "\n"
     ]
    }
   ],
   "source": [
    "\n",
    "# Example:\n",
    "\n",
    "class Student: \n",
    "    ''' This is student class with required data''' \n",
    "print(Student.__doc__) \n",
    "help(Student)"
   ]
  },
  {
   "cell_type": "markdown",
   "metadata": {},
   "source": [
    "Within the Python class we can represent data by using variables. \n",
    "There are 3 types of variables are allowed.   \n",
    "\n",
    "1.Instance Variables (Object Level Variables)  \n",
    "2.Static Variables (Class Level Variables)  \n",
    "3.Local variables (Method Level Variables)    \n",
    "\n",
    "Within the Python class, we can represent operations by using methods. The following are various \n",
    "types of allowed methods   \n",
    "1. Instance Methods\n",
    "2. Class Methods \n",
    "3. Static Methods\n"
   ]
  },
  {
   "cell_type": "code",
   "execution_count": 2,
   "metadata": {},
   "outputs": [],
   "source": [
    "#Example for class:\n",
    "\n",
    "class Student: \n",
    "  '''Developed by Vishal for python demo'''\n",
    "  def __init__(self): \n",
    "    self.name='Vishal' \n",
    "    self.age=40 \n",
    "    self.marks=80 \n",
    "\n",
    "  def talk(self): \n",
    "    print(\"Hello I am :\",self.name) \n",
    "    print(\"My Age is:\",self.age) \n",
    "    print(\"My Marks are:\",self.marks)"
   ]
  },
  {
   "cell_type": "markdown",
   "metadata": {},
   "source": [
    "### What is Object:  \n",
    "\n",
    "Pysical existence of a class is nothing but object. We can create any number of objects for a class.  \n",
    "\n",
    "<u>Syntax to create object:</u> ```referencevariable = classname() ``` \n",
    "\n",
    "<u>Example:</u>``` s = Student() ``` \n",
    "\n",
    "### What is Reference Variable:  \n",
    "\n",
    "The variable which can be used to refer object is called reference variable. \n",
    "By using reference variable, we can access properties and methods of object.\n",
    "\n",
    "<u>Program:</u> Write a Python program to create a Student class and Creates an object to it. Call the \n",
    "method talk() to display student details  "
   ]
  },
  {
   "cell_type": "code",
   "execution_count": 4,
   "metadata": {},
   "outputs": [
    {
     "name": "stdout",
     "output_type": "stream",
     "text": [
      "Hello My Name is: Vishal\n",
      "My Rollno is: 101\n",
      "My Marks are: 80\n"
     ]
    }
   ],
   "source": [
    "class Student: \n",
    "\n",
    "    def __init__(self,name,rollno,marks): \n",
    "        self.name=name \n",
    "        self.rollno=rollno \n",
    "        self.marks=marks \n",
    " \n",
    "    def talk(self): \n",
    "        print(\"Hello My Name is:\",self.name) \n",
    "        print(\"My Rollno is:\",self.rollno) \n",
    "        print(\"My Marks are:\",self.marks) \n",
    "        \n",
    "s1=Student(\"Vishal\",101,80) \n",
    "s1.talk()         "
   ]
  },
  {
   "cell_type": "markdown",
   "metadata": {},
   "source": [
    "### Self variable:  \n",
    "\n",
    "self is the default variable which is always pointing to current object (like this keyword in Java)   \n",
    "\n",
    "By using self we can access instance variables and instance methods of object.  \n",
    "\n",
    "Note:  \n",
    "1.self should be first parameter inside constructor   \n",
    "``` def __init__(self): ``` \n",
    " \n",
    "2.self should be first parameter inside instance methods  \n",
    "``` def talk(self):```  \n",
    " \n",
    " \n",
    "### Constructor Concept:  \n",
    "☕ Constructor is a special method in python.  \n",
    "☕ The name of the constructor should be ```__init__(self) ``` \n",
    "\n",
    "☕ Constructor will be executed automatically at the time of object creation.  \n",
    "☕ The main purpose of constructor is to declare and initialize instance variables.  \n",
    "☕ Per object constructor will be exeucted only once.  \n",
    "☕ Constructor can take atleast one argument(atleast self)  \n",
    "☕ Constructor is optional and if we are not providing any constructor then python will provide\n",
    "default constructor.  \n",
    "\n"
   ]
  },
  {
   "cell_type": "code",
   "execution_count": null,
   "metadata": {},
   "outputs": [],
   "source": [
    "#Example:\n",
    "\n",
    "def __init__(self,name,rollno,marks): \n",
    "    self.name=name \n",
    "    self.rollno=rollno \n",
    "    self.marks=marks"
   ]
  },
  {
   "cell_type": "code",
   "execution_count": 6,
   "metadata": {},
   "outputs": [
    {
     "name": "stdout",
     "output_type": "stream",
     "text": [
      "Constructor exeuction...\n",
      "Constructor exeuction...\n",
      "Constructor exeuction...\n",
      "Method execution...\n"
     ]
    }
   ],
   "source": [
    "# Program to demonistrate constructor will execute only once per object:\n",
    "\n",
    "class Test: \n",
    "\n",
    "    def __init__(self): \n",
    "        print(\"Constructor exeuction...\")\n",
    "\n",
    "    def m1(self): \n",
    "        print(\"Method execution...\") \n",
    "\n",
    "t1=Test() \n",
    "t2=Test() \n",
    "t3=Test() \n",
    "t1.m1()\n"
   ]
  },
  {
   "cell_type": "code",
   "execution_count": 5,
   "metadata": {},
   "outputs": [
    {
     "name": "stdout",
     "output_type": "stream",
     "text": [
      "Student Name:Vishal\n",
      "Rollno:101 \n",
      "Marks:80\n",
      "Student Name:Ajay\n",
      "Rollno:102 \n",
      "Marks:100\n"
     ]
    }
   ],
   "source": [
    "# Program:\n",
    "\n",
    "class Student: \n",
    "\n",
    "    ''' This is student class with required data''' \n",
    "    def __init__(self,x,y,z): \n",
    "        self.name=x \n",
    "        self.rollno=y \n",
    "        self.marks=z \n",
    "\n",
    "    def display(self): \n",
    "        print(\"Student Name:{}\\nRollno:{} \\nMarks:{}\".format(self.name,self.rollno,self.marks)) \n",
    "\n",
    "s1=Student(\"Vishal\",101,80) \n",
    "s1.display() \n",
    "s2=Student(\"Ajay\",102,100) \n",
    "s2.display() "
   ]
  },
  {
   "attachments": {
    "image.png": {
     "image/png": "[encoded data removed]"
    }
   },
   "cell_type": "markdown",
   "metadata": {},
   "source": [
    "![image.png](attachment:image.png)"
   ]
  },
  {
   "cell_type": "markdown",
   "metadata": {},
   "source": [
    "### Types of Variables:  \n",
    "\n",
    "Inside Python class 3 types of variables are allowed.  \n",
    "\n",
    "1.Instance Variables (Object Level Variables)  \n",
    "2.Static Variables (Class Level Variables)  \n",
    "3.Local variables (Method Level Variables)  \n",
    "\n",
    "#### 1. Instance Variables:  \n",
    "\n",
    "If the value of a variable is varied from object to object, then such type of variables are called instance variables.  \n",
    "\n",
    "For every object a separate copy of instance variables will be created.  \n",
    "\n",
    "<u>Where we can declare Instance variables:</u>  \n",
    "1.Inside Constructor by using self variable  \n",
    "2.Inside Instance Method by using self variable  \n",
    "3.Outside of the class by using object reference variable  \n",
    "\n",
    "#### 1. Inside Constructor by using self variable:    \n",
    "We can declare instance variables inside a constructor by using self keyword. Once we creates\n",
    "object, automatically these variables will be added to the object.  "
   ]
  },
  {
   "cell_type": "code",
   "execution_count": 6,
   "metadata": {},
   "outputs": [
    {
     "name": "stdout",
     "output_type": "stream",
     "text": [
      "{'eno': 100, 'ename': 'Vishal', 'esal': 10000}\n"
     ]
    }
   ],
   "source": [
    "#Example: \n",
    "\n",
    "class Employee: \n",
    "\n",
    "    def __init__(self): \n",
    "        self.eno=100 \n",
    "        self.ename='Vishal' \n",
    "        self.esal=10000 \n",
    "\n",
    "e=Employee()\n",
    "print(e.__dict__)"
   ]
  },
  {
   "cell_type": "markdown",
   "metadata": {},
   "source": [
    "#### 2. Inside Instance Method by using self variable:  \n",
    "\n",
    "We can also declare instance variables inside instance method by using self variable. If any\n",
    "instance variable declared inside instance method, that instance variable will be added once we\n",
    "call taht method.  "
   ]
  },
  {
   "cell_type": "code",
   "execution_count": 10,
   "metadata": {},
   "outputs": [
    {
     "name": "stdout",
     "output_type": "stream",
     "text": [
      "{'a': 10, 'b': 20, 'c': 30}\n"
     ]
    }
   ],
   "source": [
    "#Example:  \n",
    "\n",
    "class Test: \n",
    "\n",
    "    def __init__(self): \n",
    "        self.a=10 \n",
    "        self.b=20 \n",
    "\n",
    "    def m1(self): \n",
    "        self.c=30 \n",
    "\n",
    "t=Test() \n",
    "t.m1() \n",
    "print(t.__dict__)"
   ]
  },
  {
   "cell_type": "markdown",
   "metadata": {},
   "source": [
    "#### 3. Outside of the class by using object reference variable:   \n",
    "\n",
    "We can also add instance variables outside of a class to a particular object."
   ]
  },
  {
   "cell_type": "code",
   "execution_count": 11,
   "metadata": {},
   "outputs": [
    {
     "name": "stdout",
     "output_type": "stream",
     "text": [
      "{'a': 10, 'b': 20, 'c': 30, 'd': 40}\n"
     ]
    }
   ],
   "source": [
    "class Test: \n",
    "    \n",
    "    def __init__(self): \n",
    "        self.a=10 \n",
    "        self.b=20 \n",
    "    \n",
    "    def m1(self): \n",
    "        self.c=30 \n",
    "    \n",
    "t=Test() \n",
    "t.m1() \n",
    "t.d=40 \n",
    "print(t.__dict__)"
   ]
  },
  {
   "cell_type": "markdown",
   "metadata": {},
   "source": [
    "##### How to access Instance variables:  \n",
    "\n",
    "We can access instance variables with in the class by using self variable and outside of the class by \n",
    "using object reference."
   ]
  },
  {
   "cell_type": "code",
   "execution_count": 12,
   "metadata": {},
   "outputs": [
    {
     "name": "stdout",
     "output_type": "stream",
     "text": [
      "10\n",
      "20\n",
      "10 20\n"
     ]
    }
   ],
   "source": [
    "class Test: \n",
    "\n",
    "    def __init__(self): \n",
    "        self.a=10 \n",
    "        self.b=20 \n",
    "\n",
    "    def display(self): \n",
    "        print(self.a) \n",
    "        print(self.b) \n",
    " \n",
    "t=Test() \n",
    "t.display() \n",
    "print(t.a,t.b)"
   ]
  },
  {
   "cell_type": "markdown",
   "metadata": {},
   "source": [
    "#### How to delete instance variable from the object:  \n",
    "\n",
    "1.Within a class we can delete instance variable as follows\n",
    "\n",
    " ``` del self.variableName```  \n",
    "  \n",
    "2.From outside of class we can delete instance variables as follows  \n",
    " \n",
    " ```del objectreference.variableName```  "
   ]
  },
  {
   "cell_type": "code",
   "execution_count": 13,
   "metadata": {},
   "outputs": [
    {
     "name": "stdout",
     "output_type": "stream",
     "text": [
      "{'a': 10, 'b': 20, 'c': 30, 'd': 40}\n",
      "{'a': 10, 'b': 20, 'c': 30}\n",
      "{'a': 10, 'b': 20}\n"
     ]
    }
   ],
   "source": [
    "#Example:\n",
    "\n",
    "class Test: \n",
    "    def __init__(self): \n",
    "        self.a=10 \n",
    "        self.b=20 \n",
    "        self.c=30 \n",
    "        self.d=40 \n",
    "    def m1(self): \n",
    "        del self.d \n",
    "\n",
    "t=Test() \n",
    "print(t.__dict__)\n",
    "t.m1() \n",
    "print(t.__dict__) \n",
    "del t.c \n",
    "print(t.__dict__)"
   ]
  },
  {
   "cell_type": "markdown",
   "metadata": {},
   "source": [
    "Note: The instance variables which are deleted from one object,will not be deleted from other \n",
    "objects."
   ]
  },
  {
   "cell_type": "code",
   "execution_count": 14,
   "metadata": {},
   "outputs": [
    {
     "name": "stdout",
     "output_type": "stream",
     "text": [
      "{'b': 20, 'c': 30, 'd': 40}\n",
      "{'a': 10, 'b': 20, 'c': 30, 'd': 40}\n"
     ]
    }
   ],
   "source": [
    "#Example:\n",
    "\n",
    "class Test: \n",
    "    def __init__(self): \n",
    "        self.a=10 \n",
    "        self.b=20 \n",
    "        self.c=30 \n",
    "        self.d=40 \n",
    "\n",
    "\n",
    "t1=Test() \n",
    "t2=Test() \n",
    "del t1.a \n",
    "print(t1.__dict__) \n",
    "print(t2.__dict__)"
   ]
  },
  {
   "cell_type": "markdown",
   "metadata": {},
   "source": [
    "If we change the values of instance variables of one object then those changes won't be reflected \n",
    "to the remaining objects, because for every object separate copy of instance variables are \n",
    "available."
   ]
  },
  {
   "cell_type": "code",
   "execution_count": 15,
   "metadata": {},
   "outputs": [
    {
     "name": "stdout",
     "output_type": "stream",
     "text": [
      "t1: 888 999\n",
      "t2: 10 20\n"
     ]
    }
   ],
   "source": [
    "#Example:\n",
    "\n",
    "class Test: \n",
    "    def __init__(self): \n",
    "        self.a=10 \n",
    "        self.b=20 \n",
    "\n",
    "t1=Test() \n",
    "t1.a=888 \n",
    "t1.b=999 \n",
    "t2=Test() \n",
    "print('t1:',t1.a,t1.b)\n",
    "print('t2:',t2.a,t2.b)"
   ]
  },
  {
   "cell_type": "markdown",
   "metadata": {},
   "source": [
    "### 1. Static variables:  \n",
    "\n",
    "If the value of a variable is not varied from object to object, such type of variables we have to \n",
    "declare with in the class directly but outside of methods. Such type of variables are called Static \n",
    "variables.  \n",
    "\n",
    "For total class only one copy of static variable will be created and shared by all objects of that \n",
    "class.  \n",
    "\n",
    "We can access static variables either by class name or by object reference. But recommended to \n",
    "use class name.  \n",
    "\n",
    "#### <u>Instance Variable vs Static Variable:</u>  \n",
    "\n",
    "Note: In the case of instance variables for every object a seperate copy will be created, but in the \n",
    "case of static variables for entire class only one copy will be created and shared by every object of \n",
    "that class."
   ]
  },
  {
   "cell_type": "code",
   "execution_count": 17,
   "metadata": {},
   "outputs": [
    {
     "name": "stdout",
     "output_type": "stream",
     "text": [
      "t1: 10 20\n",
      "t2: 10 20\n",
      "t1: 888 999\n",
      "t2: 888 20\n"
     ]
    }
   ],
   "source": [
    "class Test: \n",
    "    x=10 \n",
    "    def __init__(self): \n",
    "        self.y=20 \n",
    "\n",
    "t1=Test() \n",
    "t2=Test() \n",
    "print('t1:',t1.x,t1.y) \n",
    "print('t2:',t2.x,t2.y) \n",
    "Test.x=888 \n",
    "t1.y=999 \n",
    "print('t1:',t1.x,t1.y) \n",
    "print('t2:',t2.x,t2.y)"
   ]
  },
  {
   "cell_type": "markdown",
   "metadata": {},
   "source": [
    "#### Various places to declare static variables:  \n",
    "\n",
    "1.In general we can declare within the class directly but from out side of any method  \n",
    "2.Inside constructor by using class name  \n",
    "3.Inside instance method by using class name  \n",
    "4.Inside classmethod by using either class name or cls variable  \n",
    "5.Inside static method by using class name  "
   ]
  },
  {
   "cell_type": "code",
   "execution_count": 7,
   "metadata": {},
   "outputs": [
    {
     "name": "stdout",
     "output_type": "stream",
     "text": [
      "{'__module__': '__main__', 'a': 10, '__init__': <function Test.__init__ at 0x0000025AC5DBDCA0>, 'm1': <function Test.m1 at 0x0000025AC5EA95E0>, 'm2': <classmethod object at 0x0000025AC6E97310>, 'm3': <staticmethod object at 0x0000025AC6E97340>, '__dict__': <attribute '__dict__' of 'Test' objects>, '__weakref__': <attribute '__weakref__' of 'Test' objects>, '__doc__': None}\n",
      "{'__module__': '__main__', 'a': 10, '__init__': <function Test.__init__ at 0x0000025AC5DBDCA0>, 'm1': <function Test.m1 at 0x0000025AC5EA95E0>, 'm2': <classmethod object at 0x0000025AC6E97310>, 'm3': <staticmethod object at 0x0000025AC6E97340>, '__dict__': <attribute '__dict__' of 'Test' objects>, '__weakref__': <attribute '__weakref__' of 'Test' objects>, '__doc__': None, 'b': 20}\n",
      "{'__module__': '__main__', 'a': 10, '__init__': <function Test.__init__ at 0x0000025AC5DBDCA0>, 'm1': <function Test.m1 at 0x0000025AC5EA95E0>, 'm2': <classmethod object at 0x0000025AC6E97310>, 'm3': <staticmethod object at 0x0000025AC6E97340>, '__dict__': <attribute '__dict__' of 'Test' objects>, '__weakref__': <attribute '__weakref__' of 'Test' objects>, '__doc__': None, 'b': 20, 'c': 30}\n",
      "{'__module__': '__main__', 'a': 10, '__init__': <function Test.__init__ at 0x0000025AC5DBDCA0>, 'm1': <function Test.m1 at 0x0000025AC5EA95E0>, 'm2': <classmethod object at 0x0000025AC6E97310>, 'm3': <staticmethod object at 0x0000025AC6E97340>, '__dict__': <attribute '__dict__' of 'Test' objects>, '__weakref__': <attribute '__weakref__' of 'Test' objects>, '__doc__': None, 'b': 20, 'c': 30, 'd1': 40, 'd2': 400}\n",
      "{'__module__': '__main__', 'a': 10, '__init__': <function Test.__init__ at 0x0000025AC5DBDCA0>, 'm1': <function Test.m1 at 0x0000025AC5EA95E0>, 'm2': <classmethod object at 0x0000025AC6E97310>, 'm3': <staticmethod object at 0x0000025AC6E97340>, '__dict__': <attribute '__dict__' of 'Test' objects>, '__weakref__': <attribute '__weakref__' of 'Test' objects>, '__doc__': None, 'b': 20, 'c': 30, 'd1': 40, 'd2': 400, 'e': 50}\n",
      "{'__module__': '__main__', 'a': 10, '__init__': <function Test.__init__ at 0x0000025AC5DBDCA0>, 'm1': <function Test.m1 at 0x0000025AC5EA95E0>, 'm2': <classmethod object at 0x0000025AC6E97310>, 'm3': <staticmethod object at 0x0000025AC6E97340>, '__dict__': <attribute '__dict__' of 'Test' objects>, '__weakref__': <attribute '__weakref__' of 'Test' objects>, '__doc__': None, 'b': 20, 'c': 30, 'd1': 40, 'd2': 400, 'e': 50, 'f': 60}\n"
     ]
    }
   ],
   "source": [
    "class Test: \n",
    "    a=10 \n",
    "    def __init__(self): \n",
    "        Test.b=20 \n",
    "    def m1(self): \n",
    "        Test.c=30 \n",
    "    @classmethod \n",
    "    def m2(cls): \n",
    "        cls.d1=40 \n",
    "        Test.d2=400 \n",
    "    @staticmethod \n",
    "    def m3(): \n",
    "        Test.e=50 \n",
    "print(Test.__dict__) \n",
    "t=Test() \n",
    "print(Test.__dict__) \n",
    "t.m1() \n",
    "print(Test.__dict__) \n",
    "Test.m2() \n",
    "print(Test.__dict__) \n",
    "Test.m3() \n",
    "print(Test.__dict__) \n",
    "Test.f=60 \n",
    "print(Test.__dict__)"
   ]
  },
  {
   "cell_type": "markdown",
   "metadata": {},
   "source": [
    "### How to access static variables:  \n",
    "\n",
    "1. inside constructor: by using either self or classname\n",
    "2. inside instance method: by using either self or classname\n",
    "3. inside class method: by using either cls variable or classname\n",
    "4. inside static method: by using classname\n",
    "5. From outside of class: by using either object reference or classname"
   ]
  },
  {
   "cell_type": "code",
   "execution_count": 8,
   "metadata": {},
   "outputs": [
    {
     "name": "stdout",
     "output_type": "stream",
     "text": [
      "10\n",
      "10\n",
      "10\n",
      "10\n",
      "10\n",
      "10\n",
      "10\n",
      "10\n",
      "10\n"
     ]
    }
   ],
   "source": [
    "class Test: \n",
    "    a=10 \n",
    "    def __init__(self): \n",
    "        print(self.a) \n",
    "        print(Test.a) \n",
    "    def m1(self): \n",
    "        print(self.a)\n",
    "        print(Test.a) \n",
    "    @classmethod \n",
    "    def m2(cls): \n",
    "        print(cls.a) \n",
    "        print(Test.a) \n",
    "    @staticmethod \n",
    "    def m3(): \n",
    "        print(Test.a) \n",
    "t=Test() \n",
    "print(Test.a) \n",
    "print(t.a) \n",
    "t.m1() \n",
    "t.m2() \n",
    "t.m3()"
   ]
  },
  {
   "cell_type": "markdown",
   "metadata": {},
   "source": [
    "### Where we can modify the value of static variable:\n",
    "Anywhere either with in the class or outside of class we can modify by using classname.\n",
    "But inside class method, by using cls variable."
   ]
  },
  {
   "cell_type": "code",
   "execution_count": 19,
   "metadata": {},
   "outputs": [
    {
     "name": "stdout",
     "output_type": "stream",
     "text": [
      "777\n",
      "888\n",
      "999\n"
     ]
    }
   ],
   "source": [
    "#Example:\n",
    "\n",
    "class Test: \n",
    "    a=777 \n",
    "    @classmethod \n",
    "    def m1(cls): \n",
    "        cls.a=888 \n",
    "    @staticmethod \n",
    "    def m2(): \n",
    "        Test.a=999 \n",
    "print(Test.a) \n",
    "Test.m1() \n",
    "print(Test.a) \n",
    "Test.m2() \n",
    "print(Test.a)"
   ]
  },
  {
   "cell_type": "markdown",
   "metadata": {},
   "source": [
    "### If we change the value of static variable by using either self or object reference variable:  \n",
    "\n",
    "If we change the value of static variable by using either self or object reference variable, then the \n",
    "value of static variable won't be changed, just a new instance variable with that name will be added to that particular object."
   ]
  },
  {
   "cell_type": "code",
   "execution_count": 20,
   "metadata": {},
   "outputs": [
    {
     "name": "stdout",
     "output_type": "stream",
     "text": [
      "10\n",
      "888\n"
     ]
    }
   ],
   "source": [
    "# Example 1:\n",
    "\n",
    "class Test: \n",
    "    a=10 \n",
    "    def m1(self): \n",
    "        self.a=888 \n",
    "t1=Test() \n",
    "t1.m1() \n",
    "print(Test.a) \n",
    "print(t1.a)"
   ]
  },
  {
   "cell_type": "code",
   "execution_count": 21,
   "metadata": {},
   "outputs": [
    {
     "name": "stdout",
     "output_type": "stream",
     "text": [
      "t1: 10 20\n",
      "t2: 10 20\n",
      "t1: 888 999\n",
      "t2: 10 20\n"
     ]
    }
   ],
   "source": [
    "# Example:\n",
    "\n",
    "class Test: \n",
    "    x=10 \n",
    "    def __init__(self): \n",
    "        self.y=20 \n",
    "    \n",
    "t1=Test() \n",
    "t2=Test() \n",
    "print('t1:',t1.x,t1.y) \n",
    "print('t2:',t2.x,t2.y) \n",
    "t1.x=888 \n",
    "t1.y=999 \n",
    "print('t1:',t1.x,t1.y) \n",
    "print('t2:',t2.x,t2.y)"
   ]
  },
  {
   "cell_type": "code",
   "execution_count": 22,
   "metadata": {},
   "outputs": [
    {
     "name": "stdout",
     "output_type": "stream",
     "text": [
      "888 999\n",
      "888 20\n"
     ]
    }
   ],
   "source": [
    "# Example:\n",
    "class Test: \n",
    "    a=10 \n",
    "    def __init__(self): \n",
    "        self.b=20 \n",
    "t1=Test() \n",
    "t2=Test() \n",
    "Test.a=888 \n",
    "t1.b=999 \n",
    "print(t1.a,t1.b) \n",
    "print(t2.a,t2.b)"
   ]
  },
  {
   "cell_type": "code",
   "execution_count": 24,
   "metadata": {},
   "outputs": [
    {
     "name": "stdout",
     "output_type": "stream",
     "text": [
      "888 999\n",
      "10 20\n"
     ]
    }
   ],
   "source": [
    "class Test: \n",
    "    a=10 \n",
    "    def __init__(self): \n",
    "        self.b=20 \n",
    "    def m1(self): \n",
    "        self.a=888 \n",
    "        self.b=999\n",
    "t1=Test() \n",
    "t2=Test() \n",
    "t1.m1() \n",
    "print(t1.a,t1.b) \n",
    "print(t2.a,t2.b)        "
   ]
  },
  {
   "cell_type": "code",
   "execution_count": 27,
   "metadata": {},
   "outputs": [
    {
     "name": "stdout",
     "output_type": "stream",
     "text": [
      "888 20\n",
      "888 20\n",
      "888 999\n"
     ]
    }
   ],
   "source": [
    "# Example:\n",
    "class Test: \n",
    "    a=10 \n",
    "    def __init__(self): \n",
    "        self.b=20 \n",
    "    @classmethod \n",
    "    def m1(cls): \n",
    "        cls.a=888 \n",
    "        cls.b=999 \n",
    "\n",
    "t1=Test() \n",
    "t2=Test()\n",
    "t1.m1() \n",
    "print(t1.a,t1.b) \n",
    "print(t2.a,t2.b) \n",
    "print(Test.a,Test.b)"
   ]
  },
  {
   "cell_type": "markdown",
   "metadata": {},
   "source": [
    "#### How to delete static variables of a class:  \n",
    "\n",
    "We can delete static variables from anywhere by using the following syntax  \n",
    "\n",
    "```del classname.variablename```\n",
    "\n",
    "But inside classmethod we can also use cls variable  \n",
    "\n",
    "```del cls.variablename```"
   ]
  },
  {
   "cell_type": "code",
   "execution_count": null,
   "metadata": {},
   "outputs": [],
   "source": [
    "class Test: \n",
    "    a=10 \n",
    "    @classmethod \n",
    "    def m1(cls): \n",
    "        del cls.a \n",
    "Test.m1() \n",
    "print(Test.__dict__)"
   ]
  },
  {
   "cell_type": "code",
   "execution_count": null,
   "metadata": {},
   "outputs": [],
   "source": [
    "# Example:\n",
    "\n",
    "class Test: \n",
    "    a=10 \n",
    "    def __init__(self): \n",
    "        Test.b=20 \n",
    "        del Test.a \n",
    "    def m1(self): \n",
    "        Test.c=30 \n",
    "        del Test.b \n",
    "    @classmethod \n",
    "    def m2(cls): \n",
    "        cls.d=40 \n",
    "        del Test.c \n",
    "    @staticmethod \n",
    "    def m3(): \n",
    "        Test.e=50 \n",
    "        del Test.d \n",
    "print(Test.__dict__) \n",
    "t=Test()\n",
    "print(Test.__dict__) \n",
    "t.m1() \n",
    "print(Test.__dict__) \n",
    "Test.m2() \n",
    "print(Test.__dict__) \n",
    "Test.m3() \n",
    "print(Test.__dict__) \n",
    "Test.f=60 \n",
    "print(Test.__dict__) \n",
    "del Test.e \n",
    "print(Test.__dict__)"
   ]
  },
  {
   "cell_type": "markdown",
   "metadata": {},
   "source": [
    "Note: By using object reference variable/self we can read static variables, but we cannot modify \n",
    "or delete.  \n",
    "\n",
    "If we are trying to modify, then a new instance variable will be added to that particular object.\n",
    "```t1.a = 70```  \n",
    "\n",
    "If we are trying to delete then we will get error."
   ]
  },
  {
   "cell_type": "code",
   "execution_count": null,
   "metadata": {},
   "outputs": [],
   "source": [
    "# Example:\n",
    "\n",
    "class Test: \n",
    "    a=10 \n",
    "\n",
    "t1=Test() \n",
    "del t1.a ===>AttributeError: a"
   ]
  },
  {
   "cell_type": "markdown",
   "metadata": {},
   "source": [
    "We can modify or delete static variables only by using classname or cls variable."
   ]
  },
  {
   "cell_type": "code",
   "execution_count": null,
   "metadata": {},
   "outputs": [],
   "source": [
    "import sys \n",
    "\n",
    "class Customer: \n",
    "    '''Customer class with bank operations.. ''' \n",
    "    bankname='DURGABANK' \n",
    "    def __init__(self,name,balance=0.0): \n",
    "        self.name=name \n",
    "        self.balance=balance \n",
    "    def deposit(self,amt): \n",
    "        self.balance=self.balance+amt \n",
    "        print('Balance after deposit:',self.balance) \n",
    "    def withdraw(self,amt): \n",
    "         if amt>self.balance: \n",
    "             print('Insufficient Funds..cannot perform this operation') \n",
    "             sys.exit() \n",
    "         self.balance=self.balance-amt \n",
    "         print('Balance after withdraw:',self.balance) \n",
    " \n",
    "print('Welcome to',Customer.bankname)\n",
    "name=input('Enter Your Name:')\n",
    "c=Customer(name) \n",
    "while True: \n",
    "    print('d-Deposit \\nw-Withdraw \\ne-exit') \n",
    "    option=input('Choose your option:') \n",
    "    if option=='d' or option=='D': \n",
    "        amt=float(input('Enter amount:')) \n",
    "        c.deposit(amt) \n",
    "    elif option=='w' or option=='W': \n",
    "        amt=float(input('Enter amount:')) \n",
    "        c.withdraw(amt) \n",
    "    elif option=='e' or option=='E': \n",
    "        print('Thanks for Banking') \n",
    "        sys.exit() \n",
    "    else: \n",
    "        print('Invalid option..Plz choose valid option')"
   ]
  },
  {
   "cell_type": "markdown",
   "metadata": {},
   "source": [
    "#### Local variables:  \n",
    "\n",
    "Sometimes to meet temporary requirements of programmer,we can declare variables inside a \n",
    "method directly,such type of variables are called local variable or temporary variables.  \n",
    "\n",
    "Local variables will be created at the time of method execution and destroyed once method \n",
    "completes.  \n",
    "\n",
    "Local variables of a method cannot be accessed from outside of method."
   ]
  },
  {
   "cell_type": "code",
   "execution_count": 32,
   "metadata": {},
   "outputs": [
    {
     "name": "stdout",
     "output_type": "stream",
     "text": [
      "1000\n",
      "2000\n"
     ]
    }
   ],
   "source": [
    "# Example:\n",
    "\n",
    "class Test: \n",
    "    def m1(self): \n",
    "        a=1000 \n",
    "        print(a) \n",
    "    def m2(self): \n",
    "        b=2000 \n",
    "        print(b) \n",
    "t=Test() \n",
    "t.m1() \n",
    "t.m2()"
   ]
  },
  {
   "cell_type": "code",
   "execution_count": 33,
   "metadata": {},
   "outputs": [
    {
     "name": "stdout",
     "output_type": "stream",
     "text": [
      "1000\n"
     ]
    },
    {
     "ename": "NameError",
     "evalue": "name 'a' is not defined",
     "output_type": "error",
     "traceback": [
      "\u001b[1;31m---------------------------------------------------------------------------\u001b[0m",
      "\u001b[1;31mNameError\u001b[0m                                 Traceback (most recent call last)",
      "Cell \u001b[1;32mIn[33], line 13\u001b[0m\n\u001b[0;32m     11\u001b[0m t\u001b[38;5;241m=\u001b[39mTest() \n\u001b[0;32m     12\u001b[0m t\u001b[38;5;241m.\u001b[39mm1() \n\u001b[1;32m---> 13\u001b[0m \u001b[43mt\u001b[49m\u001b[38;5;241;43m.\u001b[39;49m\u001b[43mm2\u001b[49m\u001b[43m(\u001b[49m\u001b[43m)\u001b[49m\n",
      "Cell \u001b[1;32mIn[33], line 9\u001b[0m, in \u001b[0;36mTest.m2\u001b[1;34m(self)\u001b[0m\n\u001b[0;32m      7\u001b[0m \u001b[38;5;28;01mdef\u001b[39;00m \u001b[38;5;21mm2\u001b[39m(\u001b[38;5;28mself\u001b[39m): \n\u001b[0;32m      8\u001b[0m     b\u001b[38;5;241m=\u001b[39m\u001b[38;5;241m2000\u001b[39m \n\u001b[1;32m----> 9\u001b[0m     \u001b[38;5;28mprint\u001b[39m(\u001b[43ma\u001b[49m) \n\u001b[0;32m     10\u001b[0m     \u001b[38;5;28mprint\u001b[39m(b)\n",
      "\u001b[1;31mNameError\u001b[0m: name 'a' is not defined"
     ]
    }
   ],
   "source": [
    "# Example 2:\n",
    "\n",
    "class Test: \n",
    "    def m1(self): \n",
    "        a=1000 \n",
    "        print(a) \n",
    "    def m2(self): \n",
    "        b=2000 \n",
    "        print(a) \n",
    "        print(b)\n",
    "t=Test() \n",
    "t.m1() \n",
    "t.m2()"
   ]
  },
  {
   "cell_type": "markdown",
   "metadata": {},
   "source": [
    "#### Types of Methods:  \n",
    "\n",
    "Inside Python class 3 types of methods are allowed  \n",
    "1. Instance Methods\n",
    "2. Class Methods\n",
    "3. Static Methods    \n",
    "\n",
    "#### 1.Instance Methods:  \n",
    "\n",
    "Inside method implementation if we are using instance variables then such type of methods are \n",
    "called instance methods.   \n",
    "Inside instance method declaration,we have to pass self variable.  \n",
    "\n",
    " def m1(self):  \n",
    " \n",
    "By using self variable inside method we can able to access instance variables.  \n",
    "\n",
    "Within the class we can call instance method by using self variable and from outside of the class \n",
    "we can call by using object reference.  "
   ]
  },
  {
   "cell_type": "code",
   "execution_count": 4,
   "metadata": {},
   "outputs": [
    {
     "name": "stdout",
     "output_type": "stream",
     "text": [
      "Enter number of students:2\n",
      "Enter Name:Vishal\n",
      "Enter Marks:90\n",
      "Hi Vishal\n",
      "Your Marks are: 90\n",
      "You got First Grade\n",
      "\n",
      "Enter Name:Amit\n",
      "Enter Marks:12\n",
      "Hi Amit\n",
      "Your Marks are: 12\n",
      "You are Failed\n",
      "\n"
     ]
    }
   ],
   "source": [
    "class Student: \n",
    "    def __init__(self,name,marks): \n",
    "        self.name=name \n",
    "        self.marks=marks \n",
    "    def display(self): \n",
    "        print('Hi',self.name)\n",
    "        print('Your Marks are:',self.marks) \n",
    "    def grade(self): \n",
    "        if self.marks>=60: \n",
    "            print('You got First Grade') \n",
    "        elif self.marks>=50: \n",
    "            print('Yout got Second Grade') \n",
    "        elif self.marks>=35: \n",
    "            print('You got Third Grade') \n",
    "        else: \n",
    "            print('You are Failed') \n",
    "n=int(input('Enter number of students:')) \n",
    "for i in range(n): \n",
    "    name=input('Enter Name:') \n",
    "    marks=int(input('Enter Marks:')) \n",
    "    s= Student(name,marks) \n",
    "    s.display() \n",
    "    s.grade() \n",
    "    print()"
   ]
  },
  {
   "cell_type": "markdown",
   "metadata": {},
   "source": [
    "### Setter and Getter Methods:  \n",
    "We can set and get the values of instance variables by using getter and setter methods.  \n",
    "\n",
    "### Setter Method:  \n",
    "\n",
    "setter methods can be used to set values to the instance variables. setter methods also known as \n",
    "mutator methods.  \n",
    "\n",
    "<u>syntax:</u>  \n",
    "\n",
    "```    \n",
    "def setVariable(self,variable):\n",
    "    self.variable=variable  \n",
    "``` \n",
    "Example:  \n",
    "```\n",
    "def setName(self,name):  \n",
    "    self.name=name  \n",
    "```\n",
    " \n",
    "### Getter Method:  \n",
    "\n",
    "Getter methods can be used to get values of the instance variables. Getter methods also known as \n",
    "accessor methods.  \n",
    "\n",
    "<u>syntax:</u>  \n",
    "```\n",
    "def getVariable(self):  \n",
    "    return self.variable  \n",
    "``` \n",
    "Example:  \n",
    "```\n",
    "def getName(self):  \n",
    "    return self.name  \n",
    "```"
   ]
  },
  {
   "cell_type": "code",
   "execution_count": 9,
   "metadata": {},
   "outputs": [
    {
     "name": "stdout",
     "output_type": "stream",
     "text": [
      "Enter number of students:2\n",
      "Enter Name:Vishal\n",
      "Enter Marks:80\n",
      "Hi Vishal\n",
      "Your Marks are: 80\n",
      "\n",
      "Enter Name:Ajay\n",
      "Enter Marks:87\n",
      "Hi Ajay\n",
      "Your Marks are: 87\n",
      "\n"
     ]
    }
   ],
   "source": [
    "# Demo Program:\n",
    "\n",
    "class Student: \n",
    "    def setName(self,name): \n",
    "        self.name=name \n",
    "\n",
    "    def getName(self): \n",
    "        return self.name \n",
    "\n",
    "    def setMarks(self,marks): \n",
    "        self.marks=marks \n",
    " \n",
    "    def getMarks(self): \n",
    "        return self.marks \n",
    " \n",
    "n=int(input('Enter number of students:')) \n",
    "for i in range(n): \n",
    "    s=Student() \n",
    "    name=input('Enter Name:') \n",
    "    s.setName(name) \n",
    "    marks=int(input('Enter Marks:')) \n",
    "    s.setMarks(marks) \n",
    "\n",
    "    print('Hi',s.getName()) \n",
    "    print('Your Marks are:',s.getMarks()) \n",
    "    print()"
   ]
  },
  {
   "cell_type": "markdown",
   "metadata": {},
   "source": [
    "### 2. Class Methods:  \n",
    "\n",
    "Inside method implementation if we are using only class variables (static variables), then such type \n",
    "of methods we should declare as class method.  \n",
    "\n",
    "We can declare class method explicitly by using @classmethod decorator.   \n",
    "For class method we should provide cls variable at the time of declarationWe can call classmethod by using classname or object reference variable.  "
   ]
  },
  {
   "cell_type": "code",
   "execution_count": 36,
   "metadata": {},
   "outputs": [
    {
     "name": "stdout",
     "output_type": "stream",
     "text": [
      "Dog walks with 4 legs...\n",
      "Cat walks with 4 legs...\n"
     ]
    }
   ],
   "source": [
    "# Demo Program:\n",
    "\n",
    "class Animal: \n",
    "    legs=4 \n",
    "    @classmethod \n",
    "    def walk(cls,name): \n",
    "        print('{} walks with {} legs...'.format(name,cls.legs)) \n",
    "Animal.walk('Dog') \n",
    "Animal.walk('Cat')"
   ]
  },
  {
   "cell_type": "code",
   "execution_count": null,
   "metadata": {},
   "outputs": [],
   "source": [
    "# Program to track the number of objects created for a class:\n",
    "\n",
    "class Test: \n",
    "    count=0 \n",
    "    def __init__(self): \n",
    "        Test.count =Test.count+1 \n",
    "    @classmethod \n",
    "    def noOfObjects(cls): \n",
    "        print('The number of objects created for test class:',cls.count)\n",
    "    \n",
    "t1=Test() \n",
    "t2=Test() \n",
    "Test.noOfObjects() \n",
    "t3=Test() \n",
    "t4=Test() \n",
    "t5=Test() \n",
    "Test.noOfObjects() "
   ]
  },
  {
   "cell_type": "markdown",
   "metadata": {},
   "source": [
    "#### 3. Static Methods:  \n",
    "\n",
    "In general these methods are general utility methods.\n",
    "Inside these methods we won't use any instance or class variables.\n",
    "Here we won't provide self or cls arguments at the time of declaration.  \n",
    "\n",
    "We can declare static method explicitly by using @staticmethod decorator\n",
    "We can access static methods by using classname or object reference"
   ]
  },
  {
   "cell_type": "code",
   "execution_count": 11,
   "metadata": {},
   "outputs": [
    {
     "name": "stdout",
     "output_type": "stream",
     "text": [
      "The Sum: 30\n",
      "The Product: 200\n",
      "The average: 15.0\n"
     ]
    }
   ],
   "source": [
    " class VishalMath: \n",
    "\n",
    "    @staticmethod \n",
    "    def add(x,y):\n",
    "        print('The Sum:',x+y) \n",
    " \n",
    "    @staticmethod \n",
    "    def product(x,y): \n",
    "        print('The Product:',x*y) \n",
    " \n",
    "    @staticmethod \n",
    "    def average(x,y): \n",
    "         print('The average:',(x+y)/2) \n",
    " \n",
    "VishalMath.add(10,20) \n",
    "VishalMath.product(10,20) \n",
    "VishalMath.average(10,20)    "
   ]
  },
  {
   "cell_type": "markdown",
   "metadata": {},
   "source": [
    "Note: In general we can use only instance and static methods.Inside static method we can access\n",
    "class level variables by using class name.  \n",
    "\n",
    "class methods are most rarely used methods in python.\n",
    "\n",
    "\n",
    "#### <u>Passing members of one class to another class: </u> \n",
    "\n",
    "We can access members of one class inside another class.  "
   ]
  },
  {
   "cell_type": "code",
   "execution_count": 12,
   "metadata": {},
   "outputs": [
    {
     "name": "stdout",
     "output_type": "stream",
     "text": [
      "Employee Number: 100\n",
      "Employee Name: Vishal\n",
      "Employee Salary: 20000\n"
     ]
    }
   ],
   "source": [
    "class Employee: \n",
    "    def __init__(self,eno,ename,esal): \n",
    "        self.eno=eno \n",
    "        self.ename=ename \n",
    "        self.esal=esal \n",
    "    def display(self): \n",
    "        print('Employee Number:',self.eno) \n",
    "        print('Employee Name:',self.ename) \n",
    "        print('Employee Salary:',self.esal) \n",
    "class Test: \n",
    "    def modify(emp): \n",
    "        emp.esal=emp.esal+10000 \n",
    "        emp.display() \n",
    "e=Employee(100,'Vishal',10000) \n",
    "Test.modify(e)"
   ]
  },
  {
   "cell_type": "markdown",
   "metadata": {},
   "source": [
    "In the above application, Employee class members are available to Test class."
   ]
  },
  {
   "cell_type": "markdown",
   "metadata": {},
   "source": [
    "#### Inner classes:   \n",
    "\n",
    "Sometimes we can declare a class inside another class,such type of classes are called inner classes.  \n",
    "\n",
    "Without existing one type of object if there is no chance of existing another type of object,then we \n",
    "should go for inner classes.  \n",
    "\n",
    "<u>Example:</u> Without existing Car object there is no chance of existing Engine object. Hence Engine \n",
    "class should be part of Car class.  \n",
    "\n",
    "class Car:  \n",
    " &nbsp;&nbsp;.....    \n",
    "&nbsp;&nbsp;class Engine:  \n",
    " &nbsp;&nbsp;......  \n",
    " \n",
    " \n",
    "<u>Example:</u> Without existing university object there is no chance of existing Department object  \n",
    "\n",
    "class University:  \n",
    " &nbsp;&nbsp;.....  \n",
    " &nbsp;&nbsp;class Department:  \n",
    "&nbsp;&nbsp; ......  \n",
    " \n",
    "eg3:  \n",
    "Without existing Human there is no chance of existin Head. Hence Head should be part of Human.  \n",
    "\n",
    "class Human:  \n",
    "&nbsp;&nbsp; class Head:  \n",
    "\n",
    "Note: Without existing outer class object there is no chance of existing inner class object. Hence \n",
    "inner class object is always associated with outer class object."
   ]
  },
  {
   "cell_type": "code",
   "execution_count": 40,
   "metadata": {},
   "outputs": [
    {
     "name": "stdout",
     "output_type": "stream",
     "text": [
      "outer class object creation\n",
      "inner class object creation\n",
      "inner class method\n"
     ]
    }
   ],
   "source": [
    "# Demo Program-1:\n",
    "\n",
    "class Outer: \n",
    "    def __init__(self): \n",
    "        print(\"outer class object creation\") \n",
    "    class Inner: \n",
    "        def __init__(self): \n",
    "            print(\"inner class object creation\") \n",
    "        def m1(self): \n",
    "            print(\"inner class method\") \n",
    "o=Outer() \n",
    "i=o.Inner() \n",
    "i.m1()"
   ]
  },
  {
   "cell_type": "markdown",
   "metadata": {},
   "source": [
    "Note: The following are various possible syntaxes for calling inner class method  \n",
    "\n",
    "1  \n",
    "o=Outer()  \n",
    "i=o.Inner()  \n",
    "i.m1()  \n",
    "\n",
    "2  \n",
    "i=Outer().Inner()  \n",
    "i.m1()  \n",
    "\n",
    "3.Outer().Inner().m1()"
   ]
  },
  {
   "cell_type": "code",
   "execution_count": 14,
   "metadata": {},
   "outputs": [
    {
     "name": "stdout",
     "output_type": "stream",
     "text": [
      "Name: Harsh\n",
      "Dob=10/5/1982\n"
     ]
    }
   ],
   "source": [
    "# Demo Program-2:\n",
    "\n",
    "class Person: \n",
    "    def __init__(self): \n",
    "        self.name='Harsh' \n",
    "        self.db=self.Dob() \n",
    "    def display(self): \n",
    "        print('Name:',self.name) \n",
    "    class Dob: \n",
    "        def __init__(self): \n",
    "            self.dd=10 \n",
    "            self.mm=5 \n",
    "            self.yy=1982 \n",
    "        def display(self): \n",
    "            print('Dob={}/{}/{}'.format(self.dd,self.mm,self.yy)) \n",
    "p=Person() \n",
    "p.display() \n",
    "x=p.db \n",
    "x.display()"
   ]
  },
  {
   "cell_type": "code",
   "execution_count": 15,
   "metadata": {},
   "outputs": [
    {
     "name": "stdout",
     "output_type": "stream",
     "text": [
      "Hello.. Harsh\n",
      "Talking...\n",
      "Thinking...\n"
     ]
    }
   ],
   "source": [
    "# Demo Program-3:\n",
    "# Inside a class we can declare any number of inner classes.\n",
    "\n",
    "class Human: \n",
    "\n",
    "    def __init__(self):\n",
    "        self.name = 'Harsh' \n",
    "        self.head = self.Head() \n",
    "        self.brain = self.Brain() \n",
    "    def display(self): \n",
    "        print(\"Hello..\",self.name) \n",
    "\n",
    "    class Head: \n",
    "        def talk(self): \n",
    "            print('Talking...') \n",
    "            \n",
    "    class Brain: \n",
    "        def think(self): \n",
    "            print('Thinking...') \n",
    "                \n",
    "h=Human() \n",
    "h.display() \n",
    "h.head.talk() \n",
    "h.brain.think()    "
   ]
  },
  {
   "cell_type": "markdown",
   "metadata": {},
   "source": [
    "### Garbage Collection:  \n",
    "\n",
    "In old languages like C++, programmer is responsible for both creation and destruction of \n",
    "objects.Usually programmer taking very much care while creating object, but neglecting \n",
    "destruction of useless objects. Because of his neglectance, total memory can be filled with useless \n",
    "objects which creates memory problems and total application will be down with Out of memory \n",
    "error.  \n",
    "\n",
    "But in Python, We have some assistant which is always running in the background to destroy \n",
    "useless objects.Because this assistant the chance of failing Python program with memory \n",
    "problems is very less. This assistant is nothing but Garbage Collector.  \n",
    "\n",
    "Hence the main objective of Garbage Collector is to destroy useless objects.  \n",
    "\n",
    "If an object does not have any reference variable then that object eligible for Garbage Collection.  \n",
    " \n",
    " \n",
    "#### How to enable and disable Garbage Collector in our program:  \n",
    "\n",
    "By default Gargbage collector is enabled, but we can disable based on our requirement. In this \n",
    "context we can use the following functions of gc module.  \n",
    "\n",
    "<u>1.gc.isenabled()</u>  \n",
    "&nbsp;&nbsp;Returns True if GC enabled  \n",
    "\n",
    "<u>2. gc.disable()</u>  \n",
    "&nbsp;&nbsp;To disable GC explicitly  \n",
    " \n",
    "<u>3. gc.enable()</u>  \n",
    "&nbsp;&nbsp;To enable GC explicitly  "
   ]
  },
  {
   "cell_type": "code",
   "execution_count": 43,
   "metadata": {},
   "outputs": [
    {
     "name": "stdout",
     "output_type": "stream",
     "text": [
      "True\n",
      "False\n",
      "True\n"
     ]
    }
   ],
   "source": [
    "# Example:\n",
    "\n",
    "import gc \n",
    "print(gc.isenabled()) \n",
    "gc.disable() \n",
    "print(gc.isenabled()) \n",
    "gc.enable() \n",
    "print(gc.isenabled())"
   ]
  },
  {
   "cell_type": "markdown",
   "metadata": {},
   "source": [
    "#### Destructors:  \n",
    "\n",
    "Destructor is a special method and the name should be  __del__ \n",
    "Just before destroying an object Garbage Collector always calls destructor to perform clean up \n",
    "activities (Resource deallocation activities like close database connection etc).\n",
    "Once destructor execution completed then Garbage Collector automatically destroys that object.  \n",
    "\n",
    "Note: The job of destructor is not to destroy object and it is just to perform clean up activities.  "
   ]
  },
  {
   "cell_type": "code",
   "execution_count": 44,
   "metadata": {},
   "outputs": [
    {
     "name": "stdout",
     "output_type": "stream",
     "text": [
      "Object Initialization...\n",
      "Fulfilling Last Wish and performing clean up activities...\n",
      "End of application\n"
     ]
    }
   ],
   "source": [
    "# Example:\n",
    "\n",
    "import time \n",
    "class Test: \n",
    "    def __init__(self): \n",
    "        print(\"Object Initialization...\") \n",
    "    def __del__(self): \n",
    "        print(\"Fulfilling Last Wish and performing clean up activities...\") \n",
    "\n",
    "t1=Test() \n",
    "t1=None \n",
    "time.sleep(5) \n",
    "print(\"End of application\")"
   ]
  },
  {
   "cell_type": "markdown",
   "metadata": {},
   "source": [
    "Note:\n",
    "If the object does not contain any reference variable then only it is eligible fo GC. ie if the \n",
    "reference count is zero then only object eligible for GC"
   ]
  },
  {
   "cell_type": "code",
   "execution_count": 45,
   "metadata": {},
   "outputs": [
    {
     "name": "stdout",
     "output_type": "stream",
     "text": [
      "Constructor Execution...\n",
      "object not yet destroyed after deleting t1\n",
      "object not yet destroyed even after deleting t2\n",
      "I am trying to delete last reference variable...\n",
      "Destructor Execution...\n"
     ]
    }
   ],
   "source": [
    "# Example:\n",
    "\n",
    "import time \n",
    "class Test: \n",
    "    def __init__(self): \n",
    "        print(\"Constructor Execution...\") \n",
    "    def __del__(self): \n",
    "        print(\"Destructor Execution...\") \n",
    "\n",
    "t1=Test() \n",
    "t2=t1 \n",
    "t3=t2 \n",
    "del t1 \n",
    "time.sleep(5) \n",
    "print(\"object not yet destroyed after deleting t1\") \n",
    "del t2 \n",
    "time.sleep(5) \n",
    "print(\"object not yet destroyed even after deleting t2\") \n",
    "print(\"I am trying to delete last reference variable...\") \n",
    "del t3"
   ]
  },
  {
   "cell_type": "code",
   "execution_count": 46,
   "metadata": {},
   "outputs": [
    {
     "name": "stdout",
     "output_type": "stream",
     "text": [
      "Constructor Execution...\n",
      "Constructor Execution...\n",
      "Constructor Execution...\n",
      "Destructor Execution...\n",
      "Destructor Execution...\n",
      "Destructor Execution...\n",
      "End of application\n"
     ]
    }
   ],
   "source": [
    "# Example:\n",
    "\n",
    "import time \n",
    "class Test: \n",
    "    def __init__(self): \n",
    "        print(\"Constructor Execution...\") \n",
    "    def __del__(self): \n",
    "        print(\"Destructor Execution...\") \n",
    "\n",
    "list=[Test(),Test(),Test()] \n",
    "del list \n",
    "time.sleep(5) \n",
    "print(\"End of application\")"
   ]
  },
  {
   "cell_type": "markdown",
   "metadata": {},
   "source": [
    "### How to find the number of references of an object:  \n",
    "\n",
    "sys module contains getrefcount() function for this purpose.  \n",
    "\n",
    "sys.getrefcount(objectreference)  "
   ]
  },
  {
   "cell_type": "code",
   "execution_count": 47,
   "metadata": {},
   "outputs": [
    {
     "name": "stdout",
     "output_type": "stream",
     "text": [
      "5\n"
     ]
    }
   ],
   "source": [
    "# Example:\n",
    "\n",
    "import sys \n",
    "class Test: \n",
    "    pass \n",
    "t1=Test() \n",
    "t2=t1 \n",
    "t3=t1 \n",
    "t4=t1 \n",
    "print(sys.getrefcount(t1))"
   ]
  },
  {
   "cell_type": "markdown",
   "metadata": {},
   "source": [
    "Note: For every object, Python internally maintains one default reference variable self."
   ]
  },
  {
   "cell_type": "code",
   "execution_count": null,
   "metadata": {},
   "outputs": [],
   "source": []
  }
 ],
 "metadata": {
  "kernelspec": {
   "display_name": "Python 3 (ipykernel)",
   "language": "python",
   "name": "python3"
  },
  "language_info": {
   "codemirror_mode": {
    "name": "ipython",
    "version": 3
   },
   "file_extension": ".py",
   "mimetype": "text/x-python",
   "name": "python",
   "nbconvert_exporter": "python",
   "pygments_lexer": "ipython3",
   "version": "3.9.12"
  },
  "toc-showcode": false
 },
 "nbformat": 4,
 "nbformat_minor": 4
}
