{
 "cells": [
  {
   "attachments": {
    "image.png": {
     "image/png": "[encoded data removed]"
    }
   },
   "cell_type": "markdown",
   "id": "35844f6b",
   "metadata": {},
   "source": [
    "# Flow Control\n",
    "Flow control describes the order in which statements will be executed at runtime.\n",
    "\n",
    "![image.png](attachment:image.png)\n",
    "\n",
    "## I. Conditional Statements\n",
    "\n",
    "1) if\n",
    "\n",
    "```\n",
    "if condition : statement\n",
    "\n",
    "or\n",
    "\n",
    "if condition :\n",
    "\n",
    "statement-1\n",
    "\n",
    "statement-2\n",
    "\n",
    "statement-3\n",
    "```\n",
    "If condition is true then statements will be executed."
   ]
  },
  {
   "cell_type": "code",
   "execution_count": null,
   "id": "eae86727",
   "metadata": {},
   "outputs": [],
   "source": [
    "name=input(\"Enter Name:\")\n",
    "if name==\"Vishal\":\n",
    "    print(\"Hello Vishal Good Morning\")\n",
    "print(\"How are you!!!\")"
   ]
  },
  {
   "cell_type": "markdown",
   "id": "0c7b7b80",
   "metadata": {},
   "source": [
    "2) if-else:\n",
    "```\n",
    "if condition :\n",
    "\n",
    "Action-1\n",
    "\n",
    "else :\n",
    "\n",
    "Action-2\n",
    "```\n",
    "if condition is true then Action-1 will be executed otherwise Action-2 will be executed."
   ]
  },
  {
   "cell_type": "code",
   "execution_count": null,
   "id": "7f8f8157",
   "metadata": {},
   "outputs": [],
   "source": [
    "name=input(\"Enter Name:\")\n",
    "if name==\"Vishal\":\n",
    "    print(\"Hello Vishal Good Morning\")\n",
    "else:\n",
    "    print(\"Hello Guest Good Moring\")\n",
    "print(\"How are you!!!\")"
   ]
  },
  {
   "cell_type": "markdown",
   "id": "97cbff62",
   "metadata": {},
   "source": [
    "3) if-elif-else:\n",
    "\n",
    "Syntax:\n",
    "```\n",
    "if condition1:\n",
    "\n",
    "Action-1\n",
    "\n",
    "elif condition2:\n",
    "\n",
    "Action-2\n",
    "\n",
    "elif condition3:\n",
    "\n",
    "Action-3\n",
    "\n",
    "elif condition4:\n",
    "\n",
    "Action-4\n",
    "\n",
    "...\n",
    "\n",
    "else:\n",
    "\n",
    "Default Action\n",
    "```\n",
    "Based condition the corresponding action will be executed."
   ]
  },
  {
   "cell_type": "code",
   "execution_count": null,
   "id": "0f03b3b6",
   "metadata": {},
   "outputs": [],
   "source": [
    "food=input(\"Enter Your Favourite Food:\")\n",
    "if food==\"Punjabi\" :\n",
    "    print(\"Punjabi Food\")\n",
    "elif brand==\"Chinese\":\n",
    "    print(\"Chinese Food\")\n",
    "elif brand==\"Continental\":\n",
    "    print(\"Continental Food\")\n",
    "else :\n",
    "    print(\"You have entered other Food\")"
   ]
  },
  {
   "cell_type": "markdown",
   "id": "0f076328",
   "metadata": {},
   "source": [
    "Note:\n",
    "1. else part is always optional\n",
    "\n",
    "Hence the following are various possible syntaxes.\n",
    "1. if\n",
    "2. if - else\n",
    "3. if-elif-else\n",
    "4. if-elif\n",
    "\n",
    "\n",
    "2. There is no switch statement in Python"
   ]
  },
  {
   "cell_type": "markdown",
   "id": "a4c1dad0",
   "metadata": {},
   "source": [
    "## II. Iterative Statements\n",
    "\n",
    "If we want to execute a group of statements multiple times then we should go for Iterative statements.\n",
    "\n",
    "Python supports 2 types of iterative statements.\n",
    "\n",
    "1. for loop\n",
    "\n",
    "2. while loop\n",
    "\n",
    "### 1) for loop:\n",
    "\n",
    "If we want to execute some action for every element present in some sequence(it may be string or collection)then we should go for for loop.\n",
    "\n",
    "Syntax:\n",
    "```\n",
    "for x in sequence :\n",
    "\n",
    "body\n",
    "```\n",
    "where sequence can be string or any collection.\n",
    "\n",
    "Body will be executed for every element present in the sequence."
   ]
  },
  {
   "cell_type": "code",
   "execution_count": 1,
   "id": "a799f5a7",
   "metadata": {},
   "outputs": [
    {
     "name": "stdout",
     "output_type": "stream",
     "text": [
      "H\n",
      "i\n",
      " \n",
      "H\n",
      "e\n",
      "l\n",
      "l\n",
      "o\n"
     ]
    }
   ],
   "source": [
    "s=\"Hi Hello\"\n",
    "for x in s :\n",
    "    print(x)"
   ]
  },
  {
   "cell_type": "markdown",
   "id": "af15dce7",
   "metadata": {},
   "source": [
    "### 2) while loop:\n",
    "\n",
    "If we want to execute a group of statements iteratively until some condition false,then we should go for while loop.\n",
    "\n",
    "Syntax:\n",
    "```\n",
    "while condition :\n",
    "\n",
    "body\n",
    "```"
   ]
  },
  {
   "cell_type": "code",
   "execution_count": null,
   "id": "07373a1f",
   "metadata": {},
   "outputs": [],
   "source": [
    "x=1\n",
    "while x <=10:\n",
    "    print(x)\n",
    "    x=x+1"
   ]
  },
  {
   "cell_type": "markdown",
   "id": "3ae6d1c6",
   "metadata": {},
   "source": [
    "#### Infinite Loop"
   ]
  },
  {
   "cell_type": "code",
   "execution_count": null,
   "id": "8172e198",
   "metadata": {},
   "outputs": [],
   "source": [
    "i=1\n",
    "while i>0:\n",
    "    i=i+1\n",
    "    print(\"Hi\")"
   ]
  },
  {
   "cell_type": "markdown",
   "id": "f8e0bd0a",
   "metadata": {},
   "source": [
    "#### Nested Loop"
   ]
  },
  {
   "cell_type": "code",
   "execution_count": null,
   "id": "cec20eca",
   "metadata": {},
   "outputs": [],
   "source": [
    "n = int(input(\"Enter number of rows:\"))\n",
    "for i in range(1,n+1):\n",
    "    for j in range(1,i+1):\n",
    "        print(\"*\",end=\" \")\n",
    "    print()"
   ]
  },
  {
   "cell_type": "markdown",
   "id": "9802b773",
   "metadata": {},
   "source": [
    "## III. Transfer Statements\n",
    "\n",
    "### 1) break:\n",
    "\n",
    "We can use break statement inside loops to break loop execution based on some\n",
    "condition."
   ]
  },
  {
   "cell_type": "code",
   "execution_count": null,
   "id": "d8d5bb42",
   "metadata": {},
   "outputs": [],
   "source": [
    "for i in range(10):\n",
    "    if i==7:\n",
    "        print(\"Enough..break\")\n",
    "        break\n",
    "    print(i)"
   ]
  },
  {
   "cell_type": "markdown",
   "id": "136e6034",
   "metadata": {},
   "source": [
    "### 2) continue:\n",
    "\n",
    "We can use continue statement to skip current iteration and continue next iteration."
   ]
  },
  {
   "cell_type": "code",
   "execution_count": null,
   "id": "18948091",
   "metadata": {},
   "outputs": [],
   "source": [
    "for i in range(10):\n",
    "    if i%2==0:\n",
    "        continue\n",
    "    print(i)"
   ]
  },
  {
   "cell_type": "markdown",
   "id": "06961010",
   "metadata": {},
   "source": [
    "Loops with else block:\n",
    "\n",
    "Inside loop execution, if break statement not executed, then only else part will be executed.\n",
    "\n",
    "else means loop without break"
   ]
  },
  {
   "cell_type": "code",
   "execution_count": null,
   "id": "a4cc709f",
   "metadata": {},
   "outputs": [],
   "source": [
    "cart=[10,20,30,40,50]\n",
    "for item in cart:\n",
    "    if item>=500:\n",
    "        print(\"We cannot process this order\")\n",
    "        break\n",
    "    print(item)\n",
    "    else: \n",
    "        print(\"Congrats ...all items processed successfully\")"
   ]
  },
  {
   "cell_type": "markdown",
   "id": "4a88e743",
   "metadata": {},
   "source": [
    "Q. What is the difference between for loop and while loop in Python?\n",
    "\n",
    "We can use loops to repeat code execution\n",
    "\n",
    "Repeat code for every item in sequence ==>for loop\n",
    "\n",
    "Repeat code as long as condition is true ==>while loop\n",
    "\n",
    "Q. How to exit from the loop?\n",
    "\n",
    "by using break statement\n",
    "\n",
    "Q. How to skip some iterations inside loop?\n",
    "\n",
    "by using continue statement.\n",
    "\n",
    "Q. When else part will be executed wrt loops?\n",
    "\n",
    "If loop executed without break"
   ]
  },
  {
   "cell_type": "markdown",
   "id": "e4f19610",
   "metadata": {},
   "source": [
    "### 3) pass statement:\n",
    "\n",
    "pass is a keyword in Python.\n",
    "\n",
    "In our programming syntactically if block is required which won't do anything then we can define that empty block with pass keyword.\n",
    "\n",
    "pass\n",
    "\n",
    "|- It is an empty statement\n",
    "\n",
    "|- It is null statement\n",
    "\n",
    "|- It won't do anything"
   ]
  },
  {
   "cell_type": "code",
   "execution_count": null,
   "id": "a5e96b20",
   "metadata": {},
   "outputs": [],
   "source": [
    "#if True:"
   ]
  },
  {
   "cell_type": "code",
   "execution_count": 2,
   "id": "5f03b6ee",
   "metadata": {},
   "outputs": [],
   "source": [
    "if True: pass"
   ]
  },
  {
   "cell_type": "code",
   "execution_count": null,
   "id": "141c8f71",
   "metadata": {},
   "outputs": [],
   "source": [
    "#def m1:"
   ]
  },
  {
   "cell_type": "code",
   "execution_count": null,
   "id": "1af39f31",
   "metadata": {},
   "outputs": [],
   "source": [
    "def m1: pass"
   ]
  },
  {
   "cell_type": "markdown",
   "id": "3012fab8",
   "metadata": {},
   "source": [
    "#### Use-case of pass:\n",
    "\n",
    "Sometimes in the parent class we have to declare a function with empty body and child class responsible to provide proper implementation. Such type of empty body we can define by using pass keyword. (It is something like abstract method in java)"
   ]
  },
  {
   "cell_type": "code",
   "execution_count": null,
   "id": "821c93f0",
   "metadata": {},
   "outputs": [],
   "source": [
    "for i in range(100):\n",
    "    if i%9==0:\n",
    "        print(i)\n",
    "    else:pass"
   ]
  },
  {
   "cell_type": "markdown",
   "id": "799f1879",
   "metadata": {},
   "source": [
    "### del statement:\n",
    "\n",
    "del is a keyword in Python.\n",
    "\n",
    "After using a variable, it is highly recommended to delete that variable if it is no longer required, so that the corresponding object is eligible for Garbage Collection.\n",
    "\n",
    "We can delete variable by using del keyword."
   ]
  },
  {
   "cell_type": "code",
   "execution_count": null,
   "id": "729a3109",
   "metadata": {},
   "outputs": [],
   "source": [
    "x=10\n",
    "print(x)\n",
    "del x"
   ]
  },
  {
   "cell_type": "markdown",
   "id": "764600df",
   "metadata": {},
   "source": [
    "After deleting a variable we cannot access that variable otherwise we will get NameError."
   ]
  },
  {
   "cell_type": "code",
   "execution_count": null,
   "id": "353d5315",
   "metadata": {},
   "outputs": [],
   "source": [
    "x=10\n",
    "print(x)\n",
    "del x\n",
    "print(x)"
   ]
  },
  {
   "cell_type": "markdown",
   "id": "221672dd",
   "metadata": {},
   "source": [
    "Note:\n",
    "We can delete variables which are pointing to immutable objects.But we cannot delete the elements present inside immutable object."
   ]
  },
  {
   "cell_type": "code",
   "execution_count": null,
   "id": "91974807",
   "metadata": {},
   "outputs": [],
   "source": [
    "s=\"vishal\"\n",
    "print(s)\n",
    "#del s[0]\n",
    "del s"
   ]
  },
  {
   "cell_type": "markdown",
   "id": "b8d2ceac",
   "metadata": {},
   "source": [
    "## None\n",
    "\n",
    "In the case of None assignment the variable won't be removed but the corresponding object is eligible for Garbage Collection(rebind operation). \n",
    "\n",
    "Hence after assigning with None value, we can access that variable."
   ]
  },
  {
   "cell_type": "code",
   "execution_count": null,
   "id": "876fa7b6",
   "metadata": {},
   "outputs": [],
   "source": [
    "s=\"vishal\"\n",
    "s=None\n",
    "print(s) "
   ]
  }
 ],
 "metadata": {
  "kernelspec": {
   "display_name": "Python 3 (ipykernel)",
   "language": "python",
   "name": "python3"
  },
  "language_info": {
   "codemirror_mode": {
    "name": "ipython",
    "version": 3
   },
   "file_extension": ".py",
   "mimetype": "text/x-python",
   "name": "python",
   "nbconvert_exporter": "python",
   "pygments_lexer": "ipython3",
   "version": "3.9.12"
  }
 },
 "nbformat": 4,
 "nbformat_minor": 5
}
